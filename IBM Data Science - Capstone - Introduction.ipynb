{
    "cells": [
        {
            "cell_type": "markdown",
            "metadata": {},
            "source": "# **Identifying the causes and contributing factors of road collisions with injuries and fatalities in the City of Seattle, USA**"
        },
        {
            "cell_type": "markdown",
            "metadata": {},
            "source": "## Rob Highett-Smith\n### 8 September 2020"
        },
        {
            "cell_type": "markdown",
            "metadata": {},
            "source": "## **1.\tIntroduction**\n\n### **1.1\tBackground**\nAccording to [ASIRT](https://www.asirt.org/safe-travel/road-safety-facts/), road collisions are the leading cause of death in the U.S.A. for people aged under 55, with more 38,000 fatalities annually and an additional 4.4 million injuries serious enough to require medical attention.\nHowever, not only is there an obvious human cost of these incidents. There is also significant economic cost as a consequence of these incidents. \n\nAccording to the [CDC](https://www.cdc.gov/motorvehiclesafety/costs/index.html), the cost of medical care and productivity losses associated with occupant injuries and deaths from motor vehicle traffic crashes exceeded $75 billion in 2017.\nDespite the significant impact of road collisions, travel is a critical part of life. Therefore it is important to understand the causes of and contributors to road collisions in order to develop effective strategies and policies for reducing these incidents, as well as the human and economic consequences.\n\n\nFor this project, the focus is on the City of Seattle, in the state of Washington on the North West cost of the United States of America."
        },
        {
            "cell_type": "markdown",
            "metadata": {},
            "source": "### **1.2 Problem**\nGiven the sheer number of road collisions that happen each year in a city like Seattle, there are a wide range of possible causes and factors. However, quantifying and better understanding these will be critical to developing effective strategies and policies to reduce them.\n\nThe objective of this study is to build a robust, statistical model to identify the factors that predict which accidents result in injuries and death compares to those that do not (or result only in property damage).\n\nBy developing an understanding of the historical factors contributing to road collisions resulting in injury or death in the city of Seattle, this analysis can then be used by the Authorities to develop appropriate strategies and policies to reduce these outcomes.\n\nThis will be achieved through a statistical analysis of data collected on road collisions in order to identify the leading causes and contributing factors of road collisions that result in injuries or death."
        },
        {
            "cell_type": "markdown",
            "metadata": {},
            "source": "### 1.3\tInterest\nGiven the significance of the consequences and costs associated with road collisions, there are many stakeholders who would be interested in reducing them by an improved understanding of the causes and contributing factors.\nSpecifically in this case, the local Government authorities of Seattle would be interested in the findings from this project, as they have responsibility for implementing policies and strategies to reduce the impact and costs of road collisions in the City.\n"
        },
        {
            "cell_type": "code",
            "execution_count": null,
            "metadata": {},
            "outputs": [],
            "source": ""
        }
    ],
    "metadata": {
        "kernelspec": {
            "display_name": "Python 3.6",
            "language": "python",
            "name": "python3"
        },
        "language_info": {
            "codemirror_mode": {
                "name": "ipython",
                "version": 3
            },
            "file_extension": ".py",
            "mimetype": "text/x-python",
            "name": "python",
            "nbconvert_exporter": "python",
            "pygments_lexer": "ipython3",
            "version": "3.6.9"
        }
    },
    "nbformat": 4,
    "nbformat_minor": 4
}