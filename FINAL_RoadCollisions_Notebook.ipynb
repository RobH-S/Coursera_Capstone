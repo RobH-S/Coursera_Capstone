{
 "cells": [
  {
   "cell_type": "markdown",
   "metadata": {},
   "source": [
    "# **Identifying the causes and contributing factors of road collisions with injuries and fatalities in the City of Seattle, USA**"
   ]
  },
  {
   "cell_type": "markdown",
   "metadata": {},
   "source": [
    "## Rob Highett-Smith\n",
    "### 8 September 2020"
   ]
  },
  {
   "cell_type": "markdown",
   "metadata": {
    "heading_collapsed": true
   },
   "source": [
    "# Contents\n",
    "1. Imports\n",
    "2. Data acquisition, variable selection & cleaning / processing <br>\n",
    "2.1 Data source <br>\n",
    "2.2 Variable selection <br>\n",
    "2.3 Data cleaning & processing <br>\n",
    "&nbsp;&nbsp;2.3.1 Data Review <br>\n",
    "&nbsp;&nbsp;2.3.2 Data formatting <br>\n",
    "&nbsp;&nbsp;2.3.3 Missing Data <br>\n",
    "&nbsp;&nbsp;2.3.4 Data Types <br>\n",
    "&nbsp;&nbsp;2.3.5 Check all Data cleaning & processing changes <br>\n",
    "3. Exploratory Data Analysis <br>\n",
    "3.1 Variable Distributions <br>\n",
    "&nbsp;&nbsp;3.1.1 Bar charts of frequency distribution for all Variables <br>\n",
    "&nbsp;&nbsp;3.1.2 Bar charts comparing frequency distribution of all Variables with Dependent Variable <br>\n",
    "3.2 Create Dummy Variables <br>\n",
    "3.3 Pairwise Variable Comparison Matrix <br>\n",
    "4. Modelling <br>\n",
    "4.1 Define Features <br>\n",
    "4.2 Develop Test & Train sets <br>\n",
    "4.3 Balance Dataset <br>\n",
    "&nbsp;&nbsp;4.3.1 Oversample minority class <br>\n",
    "&nbsp;&nbsp;4.3.2 Undersample majority class <br>\n",
    "&nbsp;&nbsp;4.3.3 Generate synthetic sample using SMOTE <br>\n",
    "4.4 Model development <br>\n",
    "&nbsp;&nbsp;4.4.1 KNN <br>\n",
    "&nbsp;&nbsp;4.4.2 SVM <br>\n",
    "&nbsp;&nbsp;4.4.3 Decision Tree <br>\n",
    "&nbsp;&nbsp;4.4.4 Logistic Regression <br>\n",
    "5. Results"
   ]
  },
  {
   "cell_type": "markdown",
   "metadata": {
    "heading_collapsed": true
   },
   "source": [
    "# 1. Imports"
   ]
  },
  {
   "cell_type": "code",
   "execution_count": 1,
   "metadata": {
    "hidden": true
   },
   "outputs": [],
   "source": [
    "import pandas as pd\n",
    "import sidetable\n",
    "import numpy as np\n",
    "import seaborn as sns\n",
    "import itertools\n",
    "import pydotplus\n",
    "import math\n",
    "from scipy import stats\n",
    "from imblearn.over_sampling import RandomOverSampler, SMOTE\n",
    "from imblearn.under_sampling import RandomUnderSampler\n",
    "from sklearn.model_selection import train_test_split\n",
    "from sklearn import preprocessing\n",
    "from sklearn import svm\n",
    "from sklearn import tree\n",
    "from sklearn.neighbors import KNeighborsClassifier\n",
    "from sklearn.tree import DecisionTreeClassifier\n",
    "from sklearn.linear_model import LogisticRegression\n",
    "from sklearn.model_selection import GridSearchCV\n",
    "from sklearn import metrics\n",
    "from sklearn.metrics import classification_report, confusion_matrix, f1_score, jaccard_score, log_loss\n",
    "from sklearn.metrics.pairwise import pairwise_distances\n",
    "from scipy.spatial.distance import pdist\n",
    "from io import StringIO\n",
    "import matplotlib.pyplot as plt\n",
    "import matplotlib.ticker as ticker\n",
    "import matplotlib.image as mpimg\n",
    "from matplotlib.patches import Patch\n",
    "%matplotlib inline"
   ]
  },
  {
   "cell_type": "markdown",
   "metadata": {
    "heading_collapsed": true
   },
   "source": [
    "# **2.\tData acquisition, variable selection & cleaning / processing**"
   ]
  },
  {
   "cell_type": "markdown",
   "metadata": {
    "heading_collapsed": true,
    "hidden": true
   },
   "source": [
    "## **2.1 Data source**\n",
    "The data for this project was obtained from the [City of Seattle Open Data portal](https://data.seattle.gov/Land-Base/Collisions/9kas-rb8d).\n",
    "\n",
    "Data was downloaded on the 6 September and includes 221,266 records relating the road collisions between 2004 and present updated on 5 September 2020)."
   ]
  },
  {
   "cell_type": "code",
   "execution_count": 2,
   "metadata": {
    "hidden": true
   },
   "outputs": [],
   "source": [
    "df = pd.read_csv('Collisions.csv')"
   ]
  },
  {
   "cell_type": "code",
   "execution_count": 3,
   "metadata": {
    "hidden": true
   },
   "outputs": [
    {
     "data": {
      "text/plain": [
       "(221266, 40)"
      ]
     },
     "execution_count": 3,
     "metadata": {},
     "output_type": "execute_result"
    }
   ],
   "source": [
    "df.shape"
   ]
  },
  {
   "cell_type": "markdown",
   "metadata": {
    "heading_collapsed": true,
    "hidden": true
   },
   "source": [
    "## **2.2 Variable selection**"
   ]
  },
  {
   "cell_type": "markdown",
   "metadata": {
    "heading_collapsed": true,
    "hidden": true
   },
   "source": [
    "### **2.2.1 Dependent (Target) variable**"
   ]
  },
  {
   "cell_type": "code",
   "execution_count": 4,
   "metadata": {
    "hidden": true
   },
   "outputs": [
    {
     "data": {
      "text/plain": [
       "1     137485\n",
       "2      58698\n",
       "0      21635\n",
       "2b      3098\n",
       "3        349\n",
       "Name: SEVERITYCODE, dtype: int64"
      ]
     },
     "execution_count": 4,
     "metadata": {},
     "output_type": "execute_result"
    }
   ],
   "source": [
    "df['SEVERITYCODE'].value_counts()"
   ]
  },
  {
   "cell_type": "code",
   "execution_count": 5,
   "metadata": {
    "hidden": true
   },
   "outputs": [
    {
     "name": "stdout",
     "output_type": "stream",
     "text": [
      "(199630, 40)\n"
     ]
    },
    {
     "data": {
      "text/plain": [
       "0    137485\n",
       "1     62145\n",
       "Name: SEVERITYCODE, dtype: int64"
      ]
     },
     "execution_count": 5,
     "metadata": {},
     "output_type": "execute_result"
    }
   ],
   "source": [
    "# Consolidate and convert 'SEVERITYCODE', so 0 = prop damage, 1= injury / fatality and drop unknowns\n",
    "cleanupDV_dict = {'SEVERITYCODE':     {'0': np.nan, '1': 0, '2': 1, \"2b\": 1, '3': 1}}\n",
    "df.replace(cleanupDV_dict, inplace=True)\n",
    "df.dropna(axis = 0, subset = ['SEVERITYCODE'], inplace=True)\n",
    "df['SEVERITYCODE'] = df['SEVERITYCODE'].astype('int64')\n",
    "print(df.shape)\n",
    "df['SEVERITYCODE'].value_counts()"
   ]
  },
  {
   "cell_type": "markdown",
   "metadata": {
    "heading_collapsed": true,
    "hidden": true
   },
   "source": [
    "### **2.2.2 Independent variable selection**"
   ]
  },
  {
   "cell_type": "code",
   "execution_count": 6,
   "metadata": {
    "hidden": true
   },
   "outputs": [
    {
     "name": "stdout",
     "output_type": "stream",
     "text": [
      "<class 'pandas.core.frame.DataFrame'>\n",
      "Int64Index: 199630 entries, 0 to 221265\n",
      "Data columns (total 40 columns):\n",
      " #   Column           Non-Null Count   Dtype  \n",
      "---  ------           --------------   -----  \n",
      " 0   X                194228 non-null  float64\n",
      " 1   Y                194228 non-null  float64\n",
      " 2   OBJECTID         199630 non-null  int64  \n",
      " 3   INCKEY           199630 non-null  int64  \n",
      " 4   COLDETKEY        199630 non-null  int64  \n",
      " 5   REPORTNO         199630 non-null  object \n",
      " 6   STATUS           199630 non-null  object \n",
      " 7   ADDRTYPE         197699 non-null  object \n",
      " 8   INTKEY           67338 non-null   float64\n",
      " 9   LOCATION         196938 non-null  object \n",
      " 10  EXCEPTRSNCODE    88001 non-null   object \n",
      " 11  EXCEPTRSNDESC    5681 non-null    object \n",
      " 12  SEVERITYCODE     199630 non-null  int64  \n",
      " 13  SEVERITYDESC     199630 non-null  object \n",
      " 14  COLLISIONTYPE    194765 non-null  object \n",
      " 15  PERSONCOUNT      199630 non-null  int64  \n",
      " 16  PEDCOUNT         199630 non-null  int64  \n",
      " 17  PEDCYLCOUNT      199630 non-null  int64  \n",
      " 18  VEHCOUNT         199630 non-null  int64  \n",
      " 19  INJURIES         199630 non-null  int64  \n",
      " 20  SERIOUSINJURIES  199630 non-null  int64  \n",
      " 21  FATALITIES       199630 non-null  int64  \n",
      " 22  INCDATE          199630 non-null  object \n",
      " 23  INCDTTM          199630 non-null  object \n",
      " 24  JUNCTIONTYPE     193255 non-null  object \n",
      " 25  SDOT_COLCODE     199630 non-null  float64\n",
      " 26  SDOT_COLDESC     199630 non-null  object \n",
      " 27  INATTENTIONIND   30188 non-null   object \n",
      " 28  UNDERINFL        194785 non-null  object \n",
      " 29  WEATHER          194575 non-null  object \n",
      " 30  ROADCOND         194655 non-null  object \n",
      " 31  LIGHTCOND        194487 non-null  object \n",
      " 32  PEDROWNOTGRNT    5187 non-null    object \n",
      " 33  SDOTCOLNUM       117000 non-null  float64\n",
      " 34  SPEEDING         9912 non-null    object \n",
      " 35  ST_COLCODE       199612 non-null  object \n",
      " 36  ST_COLDESC       194765 non-null  object \n",
      " 37  SEGLANEKEY       199630 non-null  int64  \n",
      " 38  CROSSWALKKEY     199630 non-null  int64  \n",
      " 39  HITPARKEDCAR     199630 non-null  object \n",
      "dtypes: float64(5), int64(13), object(22)\n",
      "memory usage: 62.4+ MB\n"
     ]
    }
   ],
   "source": [
    "df.info()"
   ]
  },
  {
   "cell_type": "code",
   "execution_count": 7,
   "metadata": {
    "hidden": true
   },
   "outputs": [
    {
     "name": "stdout",
     "output_type": "stream",
     "text": [
      "X\n",
      "24016\n",
      "[1256925.33302788 1268898.14558415 1260615.23491967 ... 1265454.00094062\n",
      " 1286880.09728256 1272533.10315587]\n",
      "Y\n",
      "24014\n",
      "[209863.66273096 254213.51544838 247712.95678571 ... 238340.65296811\n",
      " 195438.35436419 243705.67492561]\n",
      "OBJECTID\n",
      "199630\n",
      "[     1      2      3 ... 221264 221265 221266]\n",
      "INCKEY\n",
      "199630\n",
      "[326234 326246 329254 ... 318948 319956 320317]\n",
      "COLDETKEY\n",
      "199630\n",
      "[327734 327746 330754 ... 320448 321456 321817]\n",
      "REPORTNO\n",
      "199627\n",
      "['E984735' 'E985430' 'EA16720' ... 'E920056' '3795268' '3810590']\n",
      "STATUS\n",
      "2\n",
      "['Matched' 'Unmatched']\n",
      "ADDRTYPE\n",
      "3\n",
      "['Intersection' 'Block' nan 'Alley']\n",
      "INTKEY\n",
      "7689\n",
      "[31893. 24228.    nan ... 31292. 30594. 28074.]\n",
      "LOCATION\n",
      "24234\n",
      "['CALIFORNIA AVE SW AND SW GENESEE ST' 'STONE AVE N AND N 80TH ST'\n",
      " 'NW MARKET ST BETWEEN 14TH AVE NW AND 15TH AVE NW' ...\n",
      " 'RAYE ST AND WARREN AVE N'\n",
      " 'S CLOVERDALE ST BETWEEN SEWARD PARK AVE S AND 55TH AVE S'\n",
      " 'THACKERAY PL NE BETWEEN NE 42ND ST AND NE 43RD ST']\n",
      "EXCEPTRSNCODE\n",
      "2\n",
      "[' ' nan 'NEI']\n",
      "EXCEPTRSNDESC\n",
      "1\n",
      "[nan 'Not Enough Information, or Insufficient Location Information']\n",
      "SEVERITYCODE\n",
      "2\n",
      "[1 0]\n",
      "SEVERITYDESC\n",
      "4\n",
      "['Injury Collision' 'Property Damage Only Collision' 'Fatality Collision'\n",
      " 'Serious Injury Collision']\n",
      "COLLISIONTYPE\n",
      "10\n",
      "['Pedestrian' 'Angles' 'Sideswipe' 'Left Turn' 'Other' 'Rear Ended'\n",
      " 'Parked Car' 'Right Turn' nan 'Cycles' 'Head On']\n",
      "PERSONCOUNT\n",
      "48\n",
      "[ 2  4  1  6  5  3  7  0  8 10 11  9 12 17 16 22 26 13 37 36 28 14 53 19\n",
      " 30 29 23 44 15 32 21 41 20 27 35 43 81 18 25 48 24 34 57 39 47 31 54 93]\n",
      "PEDCOUNT\n",
      "7\n",
      "[1 0 4 2 3 5 6]\n",
      "PEDCYLCOUNT\n",
      "3\n",
      "[0 1 2]\n",
      "VEHCOUNT\n",
      "16\n",
      "[ 1  2  3  4  0  5  7  6  8 11  9 14 10 12 13 15]\n",
      "INJURIES\n",
      "16\n",
      "[ 1  2  0  3  4  5  6  7  8 11  9 10 13 12 15 78]\n",
      "SERIOUSINJURIES\n",
      "7\n",
      "[ 0  1  3  2  5  4 41]\n",
      "FATALITIES\n",
      "6\n",
      "[0 2 1 4 3 5]\n",
      "INCDATE\n",
      "6078\n",
      "['2019/11/20 00:00:00+00' '2019/11/18 00:00:00+00'\n",
      " '2020/02/20 00:00:00+00' ... '2019/04/17 00:00:00+00'\n",
      " '2019/06/04 00:00:00+00' '2019/04/14 00:00:00+00']\n",
      "INCDTTM\n",
      "166559\n",
      "['11/20/2019 10:25:00 AM' '11/18/2019 5:01:00 PM' '2/20/2020 8:42:00 AM'\n",
      " ... '5/9/2019 7:00:00 AM' '6/8/2019 12:42:00 PM' '6/15/2019 1:57:00 PM']\n",
      "JUNCTIONTYPE\n",
      "7\n",
      "['At Intersection (intersection related)'\n",
      " 'Mid-Block (not related to intersection)'\n",
      " 'Mid-Block (but intersection related)' 'Driveway Junction'\n",
      " 'At Intersection (but not related to intersection)' nan 'Ramp Junction'\n",
      " 'Unknown']\n",
      "SDOT_COLCODE\n",
      "40\n",
      "[24. 11. 14. 28.  0. 13. 16. 12. 26. 18. 51. 29. 56. 34. 69. 55. 58. 25.\n",
      " 23. 15. 44. 33. 66. 54. 32. 21. 48. 31. 27. 36. 64. 47. 22. 35. 61. 53.\n",
      " 46. 68. 52. 87.]\n",
      "SDOT_COLDESC\n",
      "40\n",
      "['MOTOR VEHCILE STRUCK PEDESTRIAN'\n",
      " 'MOTOR VEHICLE STRUCK MOTOR VEHICLE, FRONT END AT ANGLE'\n",
      " 'MOTOR VEHICLE STRUCK MOTOR VEHICLE, REAR END'\n",
      " 'MOTOR VEHICLE RAN OFF ROAD - HIT FIXED OBJECT'\n",
      " 'NOT ENOUGH INFORMATION / NOT APPLICABLE'\n",
      " 'MOTOR VEHICLE STRUCK MOTOR VEHICLE, LEFT SIDE AT ANGLE'\n",
      " 'MOTOR VEHICLE STRUCK MOTOR VEHICLE, LEFT SIDE SIDESWIPE'\n",
      " 'MOTOR VEHICLE STRUCK MOTOR VEHICLE, RIGHT SIDE AT ANGLE'\n",
      " 'MOTOR VEHICLE STRUCK OBJECT IN ROAD'\n",
      " 'MOTOR VEHICLE STRUCK PEDALCYCLIST, FRONT END AT ANGLE'\n",
      " 'PEDALCYCLIST STRUCK MOTOR VEHICLE FRONT END AT ANGLE'\n",
      " 'MOTOR VEHICLE OVERTURNED IN ROAD'\n",
      " 'PEDALCYCLIST STRUCK MOTOR VEHICLE LEFT SIDE SIDESWIPE'\n",
      " 'DRIVERLESS VEHICLE STRUCK MOTOR VEHICLE REAR END'\n",
      " 'PEDALCYCLIST OVERTURNED IN ROAD'\n",
      " 'PEDALCYCLIST STRUCK MOTOR VEHICLE RIGHT SIDE SIDESWIPE'\n",
      " 'PEDALCYCLIST STRUCK PEDALCYCLIST FRONT END AT ANGLE'\n",
      " 'MOTOR VEHICLE STRUCK TRAIN'\n",
      " 'MOTOR VEHICLE STRUCK PEDALCYCLIST, LEFT SIDE SIDESWIPE'\n",
      " 'MOTOR VEHICLE STRUCK MOTOR VEHICLE, RIGHT SIDE SIDESWIPE'\n",
      " 'DRIVERLESS VEHICLE STRUCK PEDESTRIAN'\n",
      " 'DRIVERLESS VEHICLE STRUCK MOTOR VEHICLE LEFT SIDE AT ANGLE'\n",
      " 'PEDALCYCLIST STRUCK OBJECT IN ROAD'\n",
      " 'PEDALCYCLIST STRUCK MOTOR VEHICLE REAR END'\n",
      " 'DRIVERLESS VEHICLE STRUCK MOTOR VEHICLE RIGHT SIDE AT ANGLE '\n",
      " 'MOTOR VEHICLE STRUCK PEDALCYCLIST, REAR END'\n",
      " 'DRIVERLESS VEHICLE RAN OFF ROAD - HIT FIXED OBJECT'\n",
      " 'DRIVERLESS VEHICLE STRUCK MOTOR VEHICLE FRONT END AT ANGLE'\n",
      " 'MOTOR VEHICLE RAN OFF ROAD - NO COLLISION'\n",
      " 'DRIVERLESS VEHICLE STRUCK MOTOR VEHICLE LEFT SIDE SIDESWIPE'\n",
      " 'PEDALCYCLIST STRUCK PEDESTRIAN'\n",
      " 'DRIVERLESS VEHICLE RAN OFF ROAD - NO COLLISION'\n",
      " 'MOTOR VEHICLE STRUCK PEDALCYCLIST, RIGHT SIDE SIDESWIPE'\n",
      " 'DRIVERLESS VEHICLE STRUCK MOTOR VEHICLE RIGHT SIDE SIDESWIPE'\n",
      " 'PEDALCYCLIST STRUCK PEDALCYCLIST REAR END'\n",
      " 'PEDALCYCLIST STRUCK MOTOR VEHICLE LEFT SIDE AT ANGLE'\n",
      " 'DRIVERLESS VEHICLE STRUCK OBJECT IN ROADWAY'\n",
      " 'PEDALCYCLIST RAN OFF ROAD - HIT FIXED OBJECT'\n",
      " 'PEDALCYCLIST STRUCK MOTOR VEHICLE RIGHT SIDE AT ANGLE'\n",
      " 'MOTORIZED SCOOTER COLLISION: COLLISION INVOLVING A MOTORIZED SCOOTER']\n",
      "INATTENTIONIND\n",
      "1\n",
      "[nan 'Y']\n",
      "UNDERINFL\n",
      "4\n",
      "['N' '0' 'Y' '1' nan]\n",
      "WEATHER\n",
      "12\n",
      "['Clear' 'Raining' 'Overcast' 'Unknown' nan 'Other' 'Fog/Smog/Smoke'\n",
      " 'Snowing' 'Sleet/Hail/Freezing Rain' 'Blowing Sand/Dirt'\n",
      " 'Severe Crosswind' 'Blowing Snow' 'Partly Cloudy']\n",
      "ROADCOND\n",
      "9\n",
      "['Dry' 'Wet' 'Unknown' nan 'Standing Water' 'Ice' 'Snow/Slush' 'Other'\n",
      " 'Sand/Mud/Dirt' 'Oil']\n",
      "LIGHTCOND\n",
      "9\n",
      "['Daylight' 'Dark - Street Lights On' 'Dusk' 'Unknown' nan\n",
      " 'Dark - Street Lights Off' 'Dark - Unknown Lighting' 'Other'\n",
      " 'Dark - No Street Lights' 'Dawn']\n",
      "PEDROWNOTGRNT\n",
      "1\n",
      "['Y' nan]\n",
      "SDOTCOLNUM\n",
      "116996\n",
      "[      nan  4160038.  6361017. ... 13043011. 13013005. 13070018.]\n",
      "SPEEDING\n",
      "1\n",
      "[nan 'Y']\n",
      "ST_COLCODE\n",
      "63\n",
      "['2' '10' '11' '28' '50' '0' '14' '32' '16' '26' '13' '20' ' ' '66' '15'\n",
      " '45' '30' '12' '52' '81' '71' '6' '51' '40' '23' '19' '5' '74' '21' '22'\n",
      " '27' '1' '7' '84' '4' '3' '24' '83' '29' '57' '72' '56' '25' '53' '17'\n",
      " '73' '41' '65' '82' '67' '49' '31' '48' '43' '42' '64' '54' '60' '87' nan\n",
      " '85' '8' '18' '88']\n",
      "ST_COLDESC\n",
      "62\n",
      "['Vehicle turning left hits pedestrian' 'Entering at angle'\n",
      " 'From same direction - both going straight - both moving - sideswipe'\n",
      " 'From opposite direction - one left turn - one straight' 'Fixed object'\n",
      " 'Vehicle going straight hits pedestrian'\n",
      " 'From same direction - both going straight - one stopped - rear-end'\n",
      " 'One parked--one moving'\n",
      " 'From same direction - one right turn - one straight'\n",
      " 'From opposite direction - both going straight - sideswipe'\n",
      " 'From same direction - both going straight - both moving - rear-end'\n",
      " 'One car leaving parked position' nan\n",
      " 'Vehicle Hits Other Road or Construction Machinery'\n",
      " 'From same direction - one left turn - one straight'\n",
      " 'Vehicle - Pedalcyclist' 'From opposite direction - all others'\n",
      " 'From same direction - both going straight - one stopped - sideswipe'\n",
      " 'Vehicle overturned'\n",
      " 'Same direction -- both turning left -- both moving -- sideswipe'\n",
      " 'Same direction -- both turning right -- both moving -- sideswipe'\n",
      " 'Pedalcyclist Strikes Moving Vehicle' 'Other object'\n",
      " 'Railway Vehicle Strikes Vehicle' 'From same direction - all others'\n",
      " 'One car entering parked position' 'Vehicle Strikes Pedalcyclist'\n",
      " 'Same direction -- both turning right -- one stopped -- rear end'\n",
      " 'One car entering driveway access' 'One car leaving driveway access'\n",
      " 'From opposite direction - both going straight - one stopped - sideswipe'\n",
      " 'Vehicle turning right hits pedestrian'\n",
      " 'Pedalcyclist Strikes Pedalcyclist or Pedestrian'\n",
      " 'Same direction -- both turning left -- one stopped -- rear end'\n",
      " 'Vehicle hits Pedestrian - All Other Actions'\n",
      " 'Vehicle backing hits pedestrian'\n",
      " 'From opposite direction - both moving - head-on'\n",
      " 'Same direction -- both turning left -- both moving -- rear end'\n",
      " 'From opposite direction - one left turn - one right turn'\n",
      " 'All other non-collision'\n",
      " 'Same direction -- both turning right -- one stopped -- sideswipe'\n",
      " 'Breakage of any part of the vehicle resulting in injury or in further property damage'\n",
      " 'From opposite direction - one stopped - head-on'\n",
      " 'Person fell, jumped or was pushed from vehicle'\n",
      " 'Strikes or Was Struck by Object from the Load of Another Vehicle'\n",
      " 'Same direction -- both turning right -- both moving -- rear end'\n",
      " 'Vehicle Strikes Railway Vehicle'\n",
      " 'Vehicle Struck by City Road or Construction Machinery'\n",
      " 'Same direction -- both turning left -- one stopped -- sideswipe'\n",
      " 'Vehicle Struck by Other Road or Construction Machinery'\n",
      " 'Non-domestic animal (deer, bear, elk, etc)' 'Not stated'\n",
      " 'Domestic animal other (cat, dog, etc)'\n",
      " 'Railway Vehicle Strikes Pedalcyclist'\n",
      " 'Railway Vehicle Strikes Pedestrian'\n",
      " 'Vehicle Hits City Road or Construction Machinery'\n",
      " 'Fire started in vehicle'\n",
      " 'Vehicle Hits State Road or Construction Machinery'\n",
      " 'Vehicle Strikes All Other Non-Domestic Animal' 'Vehicle Strikes Deer'\n",
      " 'Pedalcyclist All Other Involvements ONE UNIT - PEDALCYCLIST ONLY or PEDALCYCLIST STR'\n",
      " 'Strikes or Was Struck by a Part of Another Vehicle (Not from Load)'\n",
      " 'All Other Multi Vehicle']\n",
      "SEGLANEKEY\n",
      "2084\n",
      "[    0 25156 10453 ... 15485  2453 45748]\n",
      "CROSSWALKKEY\n",
      "2329\n",
      "[     0 521184 524221 ... 524296 525307 523846]\n",
      "HITPARKEDCAR\n",
      "2\n",
      "['N' 'Y']\n"
     ]
    }
   ],
   "source": [
    "for col in df:\n",
    "    print(col)\n",
    "    print(df[col].nunique())\n",
    "    print(df[col].unique())"
   ]
  },
  {
   "cell_type": "code",
   "execution_count": 8,
   "metadata": {
    "hidden": true
   },
   "outputs": [
    {
     "data": {
      "text/html": [
       "<div>\n",
       "<style scoped>\n",
       "    .dataframe tbody tr th:only-of-type {\n",
       "        vertical-align: middle;\n",
       "    }\n",
       "\n",
       "    .dataframe tbody tr th {\n",
       "        vertical-align: top;\n",
       "    }\n",
       "\n",
       "    .dataframe thead th {\n",
       "        text-align: right;\n",
       "    }\n",
       "</style>\n",
       "<table border=\"1\" class=\"dataframe\">\n",
       "  <thead>\n",
       "    <tr style=\"text-align: right;\">\n",
       "      <th></th>\n",
       "      <th>missing</th>\n",
       "      <th>total</th>\n",
       "      <th>percent</th>\n",
       "    </tr>\n",
       "  </thead>\n",
       "  <tbody>\n",
       "    <tr>\n",
       "      <th>PEDROWNOTGRNT</th>\n",
       "      <td>194443</td>\n",
       "      <td>199630</td>\n",
       "      <td>97.401693</td>\n",
       "    </tr>\n",
       "    <tr>\n",
       "      <th>EXCEPTRSNDESC</th>\n",
       "      <td>193949</td>\n",
       "      <td>199630</td>\n",
       "      <td>97.154235</td>\n",
       "    </tr>\n",
       "    <tr>\n",
       "      <th>SPEEDING</th>\n",
       "      <td>189718</td>\n",
       "      <td>199630</td>\n",
       "      <td>95.034814</td>\n",
       "    </tr>\n",
       "    <tr>\n",
       "      <th>INATTENTIONIND</th>\n",
       "      <td>169442</td>\n",
       "      <td>199630</td>\n",
       "      <td>84.878024</td>\n",
       "    </tr>\n",
       "    <tr>\n",
       "      <th>INTKEY</th>\n",
       "      <td>132292</td>\n",
       "      <td>199630</td>\n",
       "      <td>66.268597</td>\n",
       "    </tr>\n",
       "    <tr>\n",
       "      <th>EXCEPTRSNCODE</th>\n",
       "      <td>111629</td>\n",
       "      <td>199630</td>\n",
       "      <td>55.917948</td>\n",
       "    </tr>\n",
       "    <tr>\n",
       "      <th>SDOTCOLNUM</th>\n",
       "      <td>82630</td>\n",
       "      <td>199630</td>\n",
       "      <td>41.391574</td>\n",
       "    </tr>\n",
       "    <tr>\n",
       "      <th>JUNCTIONTYPE</th>\n",
       "      <td>6375</td>\n",
       "      <td>199630</td>\n",
       "      <td>3.193408</td>\n",
       "    </tr>\n",
       "    <tr>\n",
       "      <th>Y</th>\n",
       "      <td>5402</td>\n",
       "      <td>199630</td>\n",
       "      <td>2.706006</td>\n",
       "    </tr>\n",
       "    <tr>\n",
       "      <th>X</th>\n",
       "      <td>5402</td>\n",
       "      <td>199630</td>\n",
       "      <td>2.706006</td>\n",
       "    </tr>\n",
       "    <tr>\n",
       "      <th>LIGHTCOND</th>\n",
       "      <td>5143</td>\n",
       "      <td>199630</td>\n",
       "      <td>2.576266</td>\n",
       "    </tr>\n",
       "    <tr>\n",
       "      <th>WEATHER</th>\n",
       "      <td>5055</td>\n",
       "      <td>199630</td>\n",
       "      <td>2.532185</td>\n",
       "    </tr>\n",
       "    <tr>\n",
       "      <th>ROADCOND</th>\n",
       "      <td>4975</td>\n",
       "      <td>199630</td>\n",
       "      <td>2.492110</td>\n",
       "    </tr>\n",
       "    <tr>\n",
       "      <th>ST_COLDESC</th>\n",
       "      <td>4865</td>\n",
       "      <td>199630</td>\n",
       "      <td>2.437008</td>\n",
       "    </tr>\n",
       "    <tr>\n",
       "      <th>COLLISIONTYPE</th>\n",
       "      <td>4865</td>\n",
       "      <td>199630</td>\n",
       "      <td>2.437008</td>\n",
       "    </tr>\n",
       "    <tr>\n",
       "      <th>UNDERINFL</th>\n",
       "      <td>4845</td>\n",
       "      <td>199630</td>\n",
       "      <td>2.426990</td>\n",
       "    </tr>\n",
       "    <tr>\n",
       "      <th>LOCATION</th>\n",
       "      <td>2692</td>\n",
       "      <td>199630</td>\n",
       "      <td>1.348495</td>\n",
       "    </tr>\n",
       "    <tr>\n",
       "      <th>ADDRTYPE</th>\n",
       "      <td>1931</td>\n",
       "      <td>199630</td>\n",
       "      <td>0.967289</td>\n",
       "    </tr>\n",
       "    <tr>\n",
       "      <th>ST_COLCODE</th>\n",
       "      <td>18</td>\n",
       "      <td>199630</td>\n",
       "      <td>0.009017</td>\n",
       "    </tr>\n",
       "    <tr>\n",
       "      <th>SEGLANEKEY</th>\n",
       "      <td>0</td>\n",
       "      <td>199630</td>\n",
       "      <td>0.000000</td>\n",
       "    </tr>\n",
       "    <tr>\n",
       "      <th>CROSSWALKKEY</th>\n",
       "      <td>0</td>\n",
       "      <td>199630</td>\n",
       "      <td>0.000000</td>\n",
       "    </tr>\n",
       "    <tr>\n",
       "      <th>SDOT_COLDESC</th>\n",
       "      <td>0</td>\n",
       "      <td>199630</td>\n",
       "      <td>0.000000</td>\n",
       "    </tr>\n",
       "    <tr>\n",
       "      <th>SDOT_COLCODE</th>\n",
       "      <td>0</td>\n",
       "      <td>199630</td>\n",
       "      <td>0.000000</td>\n",
       "    </tr>\n",
       "    <tr>\n",
       "      <th>SERIOUSINJURIES</th>\n",
       "      <td>0</td>\n",
       "      <td>199630</td>\n",
       "      <td>0.000000</td>\n",
       "    </tr>\n",
       "    <tr>\n",
       "      <th>INCDTTM</th>\n",
       "      <td>0</td>\n",
       "      <td>199630</td>\n",
       "      <td>0.000000</td>\n",
       "    </tr>\n",
       "    <tr>\n",
       "      <th>INCDATE</th>\n",
       "      <td>0</td>\n",
       "      <td>199630</td>\n",
       "      <td>0.000000</td>\n",
       "    </tr>\n",
       "    <tr>\n",
       "      <th>FATALITIES</th>\n",
       "      <td>0</td>\n",
       "      <td>199630</td>\n",
       "      <td>0.000000</td>\n",
       "    </tr>\n",
       "    <tr>\n",
       "      <th>INJURIES</th>\n",
       "      <td>0</td>\n",
       "      <td>199630</td>\n",
       "      <td>0.000000</td>\n",
       "    </tr>\n",
       "    <tr>\n",
       "      <th>VEHCOUNT</th>\n",
       "      <td>0</td>\n",
       "      <td>199630</td>\n",
       "      <td>0.000000</td>\n",
       "    </tr>\n",
       "    <tr>\n",
       "      <th>PEDCYLCOUNT</th>\n",
       "      <td>0</td>\n",
       "      <td>199630</td>\n",
       "      <td>0.000000</td>\n",
       "    </tr>\n",
       "    <tr>\n",
       "      <th>PEDCOUNT</th>\n",
       "      <td>0</td>\n",
       "      <td>199630</td>\n",
       "      <td>0.000000</td>\n",
       "    </tr>\n",
       "    <tr>\n",
       "      <th>PERSONCOUNT</th>\n",
       "      <td>0</td>\n",
       "      <td>199630</td>\n",
       "      <td>0.000000</td>\n",
       "    </tr>\n",
       "    <tr>\n",
       "      <th>SEVERITYDESC</th>\n",
       "      <td>0</td>\n",
       "      <td>199630</td>\n",
       "      <td>0.000000</td>\n",
       "    </tr>\n",
       "    <tr>\n",
       "      <th>SEVERITYCODE</th>\n",
       "      <td>0</td>\n",
       "      <td>199630</td>\n",
       "      <td>0.000000</td>\n",
       "    </tr>\n",
       "    <tr>\n",
       "      <th>STATUS</th>\n",
       "      <td>0</td>\n",
       "      <td>199630</td>\n",
       "      <td>0.000000</td>\n",
       "    </tr>\n",
       "    <tr>\n",
       "      <th>REPORTNO</th>\n",
       "      <td>0</td>\n",
       "      <td>199630</td>\n",
       "      <td>0.000000</td>\n",
       "    </tr>\n",
       "    <tr>\n",
       "      <th>COLDETKEY</th>\n",
       "      <td>0</td>\n",
       "      <td>199630</td>\n",
       "      <td>0.000000</td>\n",
       "    </tr>\n",
       "    <tr>\n",
       "      <th>INCKEY</th>\n",
       "      <td>0</td>\n",
       "      <td>199630</td>\n",
       "      <td>0.000000</td>\n",
       "    </tr>\n",
       "    <tr>\n",
       "      <th>OBJECTID</th>\n",
       "      <td>0</td>\n",
       "      <td>199630</td>\n",
       "      <td>0.000000</td>\n",
       "    </tr>\n",
       "    <tr>\n",
       "      <th>HITPARKEDCAR</th>\n",
       "      <td>0</td>\n",
       "      <td>199630</td>\n",
       "      <td>0.000000</td>\n",
       "    </tr>\n",
       "  </tbody>\n",
       "</table>\n",
       "</div>"
      ],
      "text/plain": [
       "                 missing   total    percent\n",
       "PEDROWNOTGRNT     194443  199630  97.401693\n",
       "EXCEPTRSNDESC     193949  199630  97.154235\n",
       "SPEEDING          189718  199630  95.034814\n",
       "INATTENTIONIND    169442  199630  84.878024\n",
       "INTKEY            132292  199630  66.268597\n",
       "EXCEPTRSNCODE     111629  199630  55.917948\n",
       "SDOTCOLNUM         82630  199630  41.391574\n",
       "JUNCTIONTYPE        6375  199630   3.193408\n",
       "Y                   5402  199630   2.706006\n",
       "X                   5402  199630   2.706006\n",
       "LIGHTCOND           5143  199630   2.576266\n",
       "WEATHER             5055  199630   2.532185\n",
       "ROADCOND            4975  199630   2.492110\n",
       "ST_COLDESC          4865  199630   2.437008\n",
       "COLLISIONTYPE       4865  199630   2.437008\n",
       "UNDERINFL           4845  199630   2.426990\n",
       "LOCATION            2692  199630   1.348495\n",
       "ADDRTYPE            1931  199630   0.967289\n",
       "ST_COLCODE            18  199630   0.009017\n",
       "SEGLANEKEY             0  199630   0.000000\n",
       "CROSSWALKKEY           0  199630   0.000000\n",
       "SDOT_COLDESC           0  199630   0.000000\n",
       "SDOT_COLCODE           0  199630   0.000000\n",
       "SERIOUSINJURIES        0  199630   0.000000\n",
       "INCDTTM                0  199630   0.000000\n",
       "INCDATE                0  199630   0.000000\n",
       "FATALITIES             0  199630   0.000000\n",
       "INJURIES               0  199630   0.000000\n",
       "VEHCOUNT               0  199630   0.000000\n",
       "PEDCYLCOUNT            0  199630   0.000000\n",
       "PEDCOUNT               0  199630   0.000000\n",
       "PERSONCOUNT            0  199630   0.000000\n",
       "SEVERITYDESC           0  199630   0.000000\n",
       "SEVERITYCODE           0  199630   0.000000\n",
       "STATUS                 0  199630   0.000000\n",
       "REPORTNO               0  199630   0.000000\n",
       "COLDETKEY              0  199630   0.000000\n",
       "INCKEY                 0  199630   0.000000\n",
       "OBJECTID               0  199630   0.000000\n",
       "HITPARKEDCAR           0  199630   0.000000"
      ]
     },
     "execution_count": 8,
     "metadata": {},
     "output_type": "execute_result"
    }
   ],
   "source": [
    "df.stb.missing()"
   ]
  },
  {
   "cell_type": "markdown",
   "metadata": {
    "hidden": true
   },
   "source": [
    "## **2.3 Data cleaning & processing**"
   ]
  },
  {
   "cell_type": "markdown",
   "metadata": {
    "heading_collapsed": true,
    "hidden": true
   },
   "source": [
    "### **2.3.1 Data Review**"
   ]
  },
  {
   "cell_type": "code",
   "execution_count": 9,
   "metadata": {
    "hidden": true
   },
   "outputs": [],
   "source": [
    "#create new df for modelling\n",
    "modeldf = df[['SEVERITYCODE','ADDRTYPE','INCDATE','INATTENTIONIND','UNDERINFL','WEATHER','ROADCOND','LIGHTCOND','PEDROWNOTGRNT','SPEEDING']]"
   ]
  },
  {
   "cell_type": "code",
   "execution_count": 10,
   "metadata": {
    "hidden": true
   },
   "outputs": [
    {
     "name": "stdout",
     "output_type": "stream",
     "text": [
      "<class 'pandas.core.frame.DataFrame'>\n",
      "Int64Index: 199630 entries, 0 to 221265\n",
      "Data columns (total 10 columns):\n",
      " #   Column          Non-Null Count   Dtype \n",
      "---  ------          --------------   ----- \n",
      " 0   SEVERITYCODE    199630 non-null  int64 \n",
      " 1   ADDRTYPE        197699 non-null  object\n",
      " 2   INCDATE         199630 non-null  object\n",
      " 3   INATTENTIONIND  30188 non-null   object\n",
      " 4   UNDERINFL       194785 non-null  object\n",
      " 5   WEATHER         194575 non-null  object\n",
      " 6   ROADCOND        194655 non-null  object\n",
      " 7   LIGHTCOND       194487 non-null  object\n",
      " 8   PEDROWNOTGRNT   5187 non-null    object\n",
      " 9   SPEEDING        9912 non-null    object\n",
      "dtypes: int64(1), object(9)\n",
      "memory usage: 16.8+ MB\n"
     ]
    }
   ],
   "source": [
    "modeldf.info()"
   ]
  },
  {
   "cell_type": "code",
   "execution_count": 11,
   "metadata": {
    "hidden": true
   },
   "outputs": [
    {
     "name": "stdout",
     "output_type": "stream",
     "text": [
      "\u001b[1mSEVERITYCODE\u001b[0m\n",
      "# of values:  2\n",
      "Values:  [1 0]\n",
      "0    137485\n",
      "1     62145\n",
      "Name: SEVERITYCODE, dtype: int64\n",
      "\u001b[1mADDRTYPE\u001b[0m\n",
      "# of values:  3\n",
      "Values:  ['Intersection' 'Block' nan 'Alley']\n",
      "Block           129600\n",
      "Intersection     67338\n",
      "Alley              761\n",
      "Name: ADDRTYPE, dtype: int64\n",
      "\u001b[1mINCDATE\u001b[0m\n",
      "# of values:  6078\n",
      "Values:  ['2019/11/20 00:00:00+00' '2019/11/18 00:00:00+00'\n",
      " '2020/02/20 00:00:00+00' ... '2019/04/17 00:00:00+00'\n",
      " '2019/06/04 00:00:00+00' '2019/04/14 00:00:00+00']\n",
      "2006/11/02 00:00:00+00    100\n",
      "2008/10/03 00:00:00+00     93\n",
      "2005/05/18 00:00:00+00     87\n",
      "2006/01/13 00:00:00+00     85\n",
      "2005/11/05 00:00:00+00     84\n",
      "                         ... \n",
      "2020/08/15 00:00:00+00      2\n",
      "2020/08/27 00:00:00+00      1\n",
      "2015/12/25 00:00:00+00      1\n",
      "2020/08/25 00:00:00+00      1\n",
      "2020/08/19 00:00:00+00      1\n",
      "Name: INCDATE, Length: 6078, dtype: int64\n",
      "\u001b[1mINATTENTIONIND\u001b[0m\n",
      "# of values:  1\n",
      "Values:  [nan 'Y']\n",
      "Y    30188\n",
      "Name: INATTENTIONIND, dtype: int64\n",
      "\u001b[1mUNDERINFL\u001b[0m\n",
      "# of values:  4\n",
      "Values:  ['N' '0' 'Y' '1' nan]\n",
      "N    103480\n",
      "0     81676\n",
      "Y      5399\n",
      "1      4230\n",
      "Name: UNDERINFL, dtype: int64\n",
      "\u001b[1mWEATHER\u001b[0m\n",
      "# of values:  12\n",
      "Values:  ['Clear' 'Raining' 'Overcast' 'Unknown' nan 'Other' 'Fog/Smog/Smoke'\n",
      " 'Snowing' 'Sleet/Hail/Freezing Rain' 'Blowing Sand/Dirt'\n",
      " 'Severe Crosswind' 'Blowing Snow' 'Partly Cloudy']\n",
      "Clear                       114360\n",
      "Raining                      34020\n",
      "Overcast                     28507\n",
      "Unknown                      15131\n",
      "Snowing                        919\n",
      "Other                          853\n",
      "Fog/Smog/Smoke                 577\n",
      "Sleet/Hail/Freezing Rain       116\n",
      "Blowing Sand/Dirt               56\n",
      "Severe Crosswind                26\n",
      "Partly Cloudy                    9\n",
      "Blowing Snow                     1\n",
      "Name: WEATHER, dtype: int64\n",
      "\u001b[1mROADCOND\u001b[0m\n",
      "# of values:  9\n",
      "Values:  ['Dry' 'Wet' 'Unknown' nan 'Standing Water' 'Ice' 'Snow/Slush' 'Other'\n",
      " 'Sand/Mud/Dirt' 'Oil']\n",
      "Dry               128171\n",
      "Wet                48712\n",
      "Unknown            15131\n",
      "Ice                 1231\n",
      "Snow/Slush          1014\n",
      "Other                136\n",
      "Standing Water       119\n",
      "Sand/Mud/Dirt         77\n",
      "Oil                   64\n",
      "Name: ROADCOND, dtype: int64\n",
      "\u001b[1mLIGHTCOND\u001b[0m\n",
      "# of values:  9\n",
      "Values:  ['Daylight' 'Dark - Street Lights On' 'Dusk' 'Unknown' nan\n",
      " 'Dark - Street Lights Off' 'Dark - Unknown Lighting' 'Other'\n",
      " 'Dark - No Street Lights' 'Dawn']\n",
      "Daylight                    119163\n",
      "Dark - Street Lights On      50053\n",
      "Unknown                      13523\n",
      "Dusk                          6076\n",
      "Dawn                          2599\n",
      "Dark - No Street Lights       1573\n",
      "Dark - Street Lights Off      1236\n",
      "Other                          244\n",
      "Dark - Unknown Lighting         20\n",
      "Name: LIGHTCOND, dtype: int64\n",
      "\u001b[1mPEDROWNOTGRNT\u001b[0m\n",
      "# of values:  1\n",
      "Values:  ['Y' nan]\n",
      "Y    5187\n",
      "Name: PEDROWNOTGRNT, dtype: int64\n",
      "\u001b[1mSPEEDING\u001b[0m\n",
      "# of values:  1\n",
      "Values:  [nan 'Y']\n",
      "Y    9912\n",
      "Name: SPEEDING, dtype: int64\n"
     ]
    }
   ],
   "source": [
    "for col in modeldf:\n",
    "    print('\\033[1m' + col + '\\033[0m')\n",
    "    print(\"# of values: \",modeldf[col].nunique())\n",
    "    print(\"Values: \",modeldf[col].unique())\n",
    "    print(modeldf[col].value_counts())"
   ]
  },
  {
   "cell_type": "code",
   "execution_count": 12,
   "metadata": {
    "hidden": true
   },
   "outputs": [
    {
     "data": {
      "text/html": [
       "<div>\n",
       "<style scoped>\n",
       "    .dataframe tbody tr th:only-of-type {\n",
       "        vertical-align: middle;\n",
       "    }\n",
       "\n",
       "    .dataframe tbody tr th {\n",
       "        vertical-align: top;\n",
       "    }\n",
       "\n",
       "    .dataframe thead th {\n",
       "        text-align: right;\n",
       "    }\n",
       "</style>\n",
       "<table border=\"1\" class=\"dataframe\">\n",
       "  <thead>\n",
       "    <tr style=\"text-align: right;\">\n",
       "      <th></th>\n",
       "      <th>missing</th>\n",
       "      <th>total</th>\n",
       "      <th>percent</th>\n",
       "    </tr>\n",
       "  </thead>\n",
       "  <tbody>\n",
       "    <tr>\n",
       "      <th>PEDROWNOTGRNT</th>\n",
       "      <td>194443</td>\n",
       "      <td>199630</td>\n",
       "      <td>97.401693</td>\n",
       "    </tr>\n",
       "    <tr>\n",
       "      <th>SPEEDING</th>\n",
       "      <td>189718</td>\n",
       "      <td>199630</td>\n",
       "      <td>95.034814</td>\n",
       "    </tr>\n",
       "    <tr>\n",
       "      <th>INATTENTIONIND</th>\n",
       "      <td>169442</td>\n",
       "      <td>199630</td>\n",
       "      <td>84.878024</td>\n",
       "    </tr>\n",
       "    <tr>\n",
       "      <th>LIGHTCOND</th>\n",
       "      <td>5143</td>\n",
       "      <td>199630</td>\n",
       "      <td>2.576266</td>\n",
       "    </tr>\n",
       "    <tr>\n",
       "      <th>WEATHER</th>\n",
       "      <td>5055</td>\n",
       "      <td>199630</td>\n",
       "      <td>2.532185</td>\n",
       "    </tr>\n",
       "    <tr>\n",
       "      <th>ROADCOND</th>\n",
       "      <td>4975</td>\n",
       "      <td>199630</td>\n",
       "      <td>2.492110</td>\n",
       "    </tr>\n",
       "    <tr>\n",
       "      <th>UNDERINFL</th>\n",
       "      <td>4845</td>\n",
       "      <td>199630</td>\n",
       "      <td>2.426990</td>\n",
       "    </tr>\n",
       "    <tr>\n",
       "      <th>ADDRTYPE</th>\n",
       "      <td>1931</td>\n",
       "      <td>199630</td>\n",
       "      <td>0.967289</td>\n",
       "    </tr>\n",
       "    <tr>\n",
       "      <th>SEVERITYCODE</th>\n",
       "      <td>0</td>\n",
       "      <td>199630</td>\n",
       "      <td>0.000000</td>\n",
       "    </tr>\n",
       "    <tr>\n",
       "      <th>INCDATE</th>\n",
       "      <td>0</td>\n",
       "      <td>199630</td>\n",
       "      <td>0.000000</td>\n",
       "    </tr>\n",
       "  </tbody>\n",
       "</table>\n",
       "</div>"
      ],
      "text/plain": [
       "                missing   total    percent\n",
       "PEDROWNOTGRNT    194443  199630  97.401693\n",
       "SPEEDING         189718  199630  95.034814\n",
       "INATTENTIONIND   169442  199630  84.878024\n",
       "LIGHTCOND          5143  199630   2.576266\n",
       "WEATHER            5055  199630   2.532185\n",
       "ROADCOND           4975  199630   2.492110\n",
       "UNDERINFL          4845  199630   2.426990\n",
       "ADDRTYPE           1931  199630   0.967289\n",
       "SEVERITYCODE          0  199630   0.000000\n",
       "INCDATE               0  199630   0.000000"
      ]
     },
     "execution_count": 12,
     "metadata": {},
     "output_type": "execute_result"
    }
   ],
   "source": [
    "modeldf.stb.missing()"
   ]
  },
  {
   "cell_type": "markdown",
   "metadata": {
    "heading_collapsed": true,
    "hidden": true
   },
   "source": [
    "### **2.3.2 Data formatting**"
   ]
  },
  {
   "cell_type": "code",
   "execution_count": 13,
   "metadata": {
    "hidden": true
   },
   "outputs": [
    {
     "name": "stderr",
     "output_type": "stream",
     "text": [
      "C:\\Users\\rphig\\anaconda3\\lib\\site-packages\\pandas\\core\\generic.py:6662: SettingWithCopyWarning: \n",
      "A value is trying to be set on a copy of a slice from a DataFrame.\n",
      "Try using .loc[row_indexer,col_indexer] = value instead\n",
      "\n",
      "See the caveats in the documentation: https://pandas.pydata.org/pandas-docs/stable/user_guide/indexing.html#returning-a-view-versus-a-copy\n",
      "  res[c] = res[c].replace(\n"
     ]
    },
    {
     "data": {
      "text/plain": [
       "0    169442\n",
       "1     30188\n",
       "Name: INATTENTIONIND, dtype: int64"
      ]
     },
     "execution_count": 13,
     "metadata": {},
     "output_type": "execute_result"
    }
   ],
   "source": [
    "# recode INATTENTIONIND to a binary variable O=No, 1=Yes\n",
    "cleanupINAT_dict = {'INATTENTIONIND':     {np.nan: 0, 'Y': 1}}\n",
    "modeldf.replace(cleanupINAT_dict, inplace=True)\n",
    "modeldf['INATTENTIONIND'].value_counts()\n",
    "\n",
    "#tried these alternatives - still had same 'SettingWithCopyWarning' issue (SO STICK WITH ABOVE)\n",
    "#modeldf.loc[:, ['INATTENTIONIND','PEDROWNOTGRNT','SPEEDING']].fillna(0, inplace = True)\n",
    "#modeldf.loc[:,'PEDROWNOTGRNT'].replace(np.nan,0, inplace = True)"
   ]
  },
  {
   "cell_type": "code",
   "execution_count": 14,
   "metadata": {
    "hidden": true
   },
   "outputs": [
    {
     "data": {
      "text/plain": [
       "0    189718\n",
       "1      9912\n",
       "Name: SPEEDING, dtype: int64"
      ]
     },
     "execution_count": 14,
     "metadata": {},
     "output_type": "execute_result"
    }
   ],
   "source": [
    "# recode SPEEDING to a binary variable O=No, 1=Yes\n",
    "cleanupSPEED_dict = {'SPEEDING':     {np.nan: 0, 'Y': 1}}\n",
    "modeldf.replace(cleanupSPEED_dict, inplace=True)\n",
    "modeldf['SPEEDING'].value_counts()"
   ]
  },
  {
   "cell_type": "code",
   "execution_count": 15,
   "metadata": {
    "hidden": true
   },
   "outputs": [
    {
     "data": {
      "text/plain": [
       "0    194443\n",
       "1      5187\n",
       "Name: PEDROWNOTGRNT, dtype: int64"
      ]
     },
     "execution_count": 15,
     "metadata": {},
     "output_type": "execute_result"
    }
   ],
   "source": [
    "# recode PEDROWNOTGRNT to a binary variable O=No, 1=Yes\n",
    "cleanupPED_dict = {'PEDROWNOTGRNT':     {np.nan: 0, 'Y': 1}}\n",
    "modeldf.replace(cleanupPED_dict, inplace=True)\n",
    "modeldf['PEDROWNOTGRNT'].value_counts()"
   ]
  },
  {
   "cell_type": "code",
   "execution_count": 16,
   "metadata": {
    "hidden": true
   },
   "outputs": [
    {
     "data": {
      "text/plain": [
       "0.0    185156\n",
       "1.0      9629\n",
       "Name: UNDERINFL, dtype: int64"
      ]
     },
     "execution_count": 16,
     "metadata": {},
     "output_type": "execute_result"
    }
   ],
   "source": [
    "# clean up UNDERINFL\n",
    "cleanupUNDER_dict = {'UNDERINFL':     {'N': 0,'0': 0,'Y': 1,'1': 1}}\n",
    "modeldf.replace(cleanupUNDER_dict, inplace=True)\n",
    "modeldf['UNDERINFL'].value_counts()"
   ]
  },
  {
   "cell_type": "code",
   "execution_count": 17,
   "metadata": {
    "hidden": true
   },
   "outputs": [
    {
     "data": {
      "text/plain": [
       "Clear       114360\n",
       "Raining      34136\n",
       "Overcast     28516\n",
       "Other         1512\n",
       "Snowing        920\n",
       "Name: WEATHER, dtype: int64"
      ]
     },
     "execution_count": 17,
     "metadata": {},
     "output_type": "execute_result"
    }
   ],
   "source": [
    "# recode smaller values in WEATHER to reduce unique values\n",
    "recodeWEATHER_dict = {'WEATHER':     {'Unknown':np.nan,'Fog/Smog/Smoke':'Other','Sleet/Hail/Freezing Rain':'Raining','Blowing Sand/Dirt':'Other','Severe Crosswind':'Other','Blowing Snow':'Snowing','Partly Cloudy': 'Overcast'}}\n",
    "modeldf.replace(recodeWEATHER_dict, inplace=True)\n",
    "modeldf['WEATHER'].value_counts()"
   ]
  },
  {
   "cell_type": "code",
   "execution_count": 18,
   "metadata": {
    "hidden": true
   },
   "outputs": [
    {
     "data": {
      "text/plain": [
       "Dry      128171\n",
       "Wet       51140\n",
       "Other       213\n",
       "Name: ROADCOND, dtype: int64"
      ]
     },
     "execution_count": 18,
     "metadata": {},
     "output_type": "execute_result"
    }
   ],
   "source": [
    "# recode smaller values in ROADCOND to reduce unique values\n",
    "recodeROAD_dict = {'ROADCOND':     {'Unknown':np.nan,'Standing Water':'Wet','Ice':\"Wet\",'Snow/Slush':'Wet','Sand/Mud/Dirt':\"Other\",'Oil':'Wet'}}\n",
    "modeldf.replace(recodeROAD_dict, inplace=True)\n",
    "modeldf['ROADCOND'].value_counts()"
   ]
  },
  {
   "cell_type": "code",
   "execution_count": 19,
   "metadata": {
    "hidden": true
   },
   "outputs": [
    {
     "data": {
      "text/plain": [
       "Daylight    121762\n",
       "Night        58958\n",
       "Name: LIGHTCOND, dtype: int64"
      ]
     },
     "execution_count": 19,
     "metadata": {},
     "output_type": "execute_result"
    }
   ],
   "source": [
    "# recode smaller values in LIGHTCOND to Daylight / Night to reduce unique values\n",
    "recodeLIGHT_dict = {'LIGHTCOND':     {'Dark - Street Lights On':'Night','Dusk':'Night','Unknown':np.nan,'Dark - Street Lights Off':'Night','Dark - Unknown Lighting':'Night','Other':np.nan,'Dark - No Street Lights':'Night','Dawn':'Daylight'}}\n",
    "modeldf.replace(recodeLIGHT_dict, inplace=True)\n",
    "modeldf['LIGHTCOND'].value_counts()"
   ]
  },
  {
   "cell_type": "code",
   "execution_count": 20,
   "metadata": {
    "hidden": true
   },
   "outputs": [
    {
     "name": "stderr",
     "output_type": "stream",
     "text": [
      "<ipython-input-20-aad66c653137>:2: SettingWithCopyWarning: \n",
      "A value is trying to be set on a copy of a slice from a DataFrame.\n",
      "Try using .loc[row_indexer,col_indexer] = value instead\n",
      "\n",
      "See the caveats in the documentation: https://pandas.pydata.org/pandas-docs/stable/user_guide/indexing.html#returning-a-view-versus-a-copy\n",
      "  modeldf['INCDATE'] = pd.to_datetime(modeldf['INCDATE'])\n",
      "<ipython-input-20-aad66c653137>:3: SettingWithCopyWarning: \n",
      "A value is trying to be set on a copy of a slice from a DataFrame.\n",
      "Try using .loc[row_indexer,col_indexer] = value instead\n",
      "\n",
      "See the caveats in the documentation: https://pandas.pydata.org/pandas-docs/stable/user_guide/indexing.html#returning-a-view-versus-a-copy\n",
      "  modeldf['dayofweek'] = modeldf['INCDATE'].dt.dayofweek\n",
      "<ipython-input-20-aad66c653137>:4: SettingWithCopyWarning: \n",
      "A value is trying to be set on a copy of a slice from a DataFrame.\n",
      "Try using .loc[row_indexer,col_indexer] = value instead\n",
      "\n",
      "See the caveats in the documentation: https://pandas.pydata.org/pandas-docs/stable/user_guide/indexing.html#returning-a-view-versus-a-copy\n",
      "  modeldf['Weekend'] = modeldf['dayofweek'].apply(lambda x: 1 if (x>3)  else 0)\n",
      "C:\\Users\\rphig\\anaconda3\\lib\\site-packages\\pandas\\core\\frame.py:3990: SettingWithCopyWarning: \n",
      "A value is trying to be set on a copy of a slice from a DataFrame\n",
      "\n",
      "See the caveats in the documentation: https://pandas.pydata.org/pandas-docs/stable/user_guide/indexing.html#returning-a-view-versus-a-copy\n",
      "  return super().drop(\n"
     ]
    }
   ],
   "source": [
    "# create Weekday / Weekend variable from INCDATE (Weekday = 0, Weekend=1)\n",
    "modeldf['INCDATE'] = pd.to_datetime(modeldf['INCDATE'])\n",
    "modeldf['dayofweek'] = modeldf['INCDATE'].dt.dayofweek\n",
    "modeldf['Weekend'] = modeldf['dayofweek'].apply(lambda x: 1 if (x>3)  else 0)\n",
    "modeldf.drop(['INCDATE'], axis=1, inplace=True)\n",
    "modeldf.drop(['dayofweek'], axis=1, inplace=True)"
   ]
  },
  {
   "cell_type": "markdown",
   "metadata": {
    "heading_collapsed": true,
    "hidden": true
   },
   "source": [
    "### **2.3.3 Missing Data**"
   ]
  },
  {
   "cell_type": "code",
   "execution_count": 21,
   "metadata": {
    "hidden": true
   },
   "outputs": [
    {
     "data": {
      "text/html": [
       "<div>\n",
       "<style scoped>\n",
       "    .dataframe tbody tr th:only-of-type {\n",
       "        vertical-align: middle;\n",
       "    }\n",
       "\n",
       "    .dataframe tbody tr th {\n",
       "        vertical-align: top;\n",
       "    }\n",
       "\n",
       "    .dataframe thead th {\n",
       "        text-align: right;\n",
       "    }\n",
       "</style>\n",
       "<table border=\"1\" class=\"dataframe\">\n",
       "  <thead>\n",
       "    <tr style=\"text-align: right;\">\n",
       "      <th></th>\n",
       "      <th>missing</th>\n",
       "      <th>total</th>\n",
       "      <th>percent</th>\n",
       "    </tr>\n",
       "  </thead>\n",
       "  <tbody>\n",
       "    <tr>\n",
       "      <th>WEATHER</th>\n",
       "      <td>20186</td>\n",
       "      <td>199630</td>\n",
       "      <td>10.111707</td>\n",
       "    </tr>\n",
       "    <tr>\n",
       "      <th>ROADCOND</th>\n",
       "      <td>20106</td>\n",
       "      <td>199630</td>\n",
       "      <td>10.071633</td>\n",
       "    </tr>\n",
       "    <tr>\n",
       "      <th>LIGHTCOND</th>\n",
       "      <td>18910</td>\n",
       "      <td>199630</td>\n",
       "      <td>9.472524</td>\n",
       "    </tr>\n",
       "    <tr>\n",
       "      <th>UNDERINFL</th>\n",
       "      <td>4845</td>\n",
       "      <td>199630</td>\n",
       "      <td>2.426990</td>\n",
       "    </tr>\n",
       "    <tr>\n",
       "      <th>ADDRTYPE</th>\n",
       "      <td>1931</td>\n",
       "      <td>199630</td>\n",
       "      <td>0.967289</td>\n",
       "    </tr>\n",
       "    <tr>\n",
       "      <th>SEVERITYCODE</th>\n",
       "      <td>0</td>\n",
       "      <td>199630</td>\n",
       "      <td>0.000000</td>\n",
       "    </tr>\n",
       "    <tr>\n",
       "      <th>INATTENTIONIND</th>\n",
       "      <td>0</td>\n",
       "      <td>199630</td>\n",
       "      <td>0.000000</td>\n",
       "    </tr>\n",
       "    <tr>\n",
       "      <th>PEDROWNOTGRNT</th>\n",
       "      <td>0</td>\n",
       "      <td>199630</td>\n",
       "      <td>0.000000</td>\n",
       "    </tr>\n",
       "    <tr>\n",
       "      <th>SPEEDING</th>\n",
       "      <td>0</td>\n",
       "      <td>199630</td>\n",
       "      <td>0.000000</td>\n",
       "    </tr>\n",
       "    <tr>\n",
       "      <th>Weekend</th>\n",
       "      <td>0</td>\n",
       "      <td>199630</td>\n",
       "      <td>0.000000</td>\n",
       "    </tr>\n",
       "  </tbody>\n",
       "</table>\n",
       "</div>"
      ],
      "text/plain": [
       "                missing   total    percent\n",
       "WEATHER           20186  199630  10.111707\n",
       "ROADCOND          20106  199630  10.071633\n",
       "LIGHTCOND         18910  199630   9.472524\n",
       "UNDERINFL          4845  199630   2.426990\n",
       "ADDRTYPE           1931  199630   0.967289\n",
       "SEVERITYCODE          0  199630   0.000000\n",
       "INATTENTIONIND        0  199630   0.000000\n",
       "PEDROWNOTGRNT         0  199630   0.000000\n",
       "SPEEDING              0  199630   0.000000\n",
       "Weekend               0  199630   0.000000"
      ]
     },
     "execution_count": 21,
     "metadata": {},
     "output_type": "execute_result"
    }
   ],
   "source": [
    "modeldf.stb.missing()"
   ]
  },
  {
   "cell_type": "code",
   "execution_count": 22,
   "metadata": {
    "hidden": true
   },
   "outputs": [
    {
     "name": "stderr",
     "output_type": "stream",
     "text": [
      "<ipython-input-22-c16710fecfed>:1: SettingWithCopyWarning: \n",
      "A value is trying to be set on a copy of a slice from a DataFrame\n",
      "\n",
      "See the caveats in the documentation: https://pandas.pydata.org/pandas-docs/stable/user_guide/indexing.html#returning-a-view-versus-a-copy\n",
      "  modeldf.dropna(axis = 0,inplace = True)\n"
     ]
    }
   ],
   "source": [
    "modeldf.dropna(axis = 0,inplace = True)"
   ]
  },
  {
   "cell_type": "markdown",
   "metadata": {
    "heading_collapsed": true,
    "hidden": true
   },
   "source": [
    "### **2.3.4 Data Types**"
   ]
  },
  {
   "cell_type": "code",
   "execution_count": 23,
   "metadata": {
    "hidden": true
   },
   "outputs": [
    {
     "data": {
      "text/plain": [
       "SEVERITYCODE        int64\n",
       "ADDRTYPE           object\n",
       "INATTENTIONIND      int64\n",
       "UNDERINFL         float64\n",
       "WEATHER            object\n",
       "ROADCOND           object\n",
       "LIGHTCOND          object\n",
       "PEDROWNOTGRNT       int64\n",
       "SPEEDING            int64\n",
       "Weekend             int64\n",
       "dtype: object"
      ]
     },
     "execution_count": 23,
     "metadata": {},
     "output_type": "execute_result"
    }
   ],
   "source": [
    "modeldf.dtypes"
   ]
  },
  {
   "cell_type": "code",
   "execution_count": 24,
   "metadata": {
    "hidden": true
   },
   "outputs": [
    {
     "name": "stderr",
     "output_type": "stream",
     "text": [
      "<ipython-input-24-628cfc020bd8>:1: SettingWithCopyWarning: \n",
      "A value is trying to be set on a copy of a slice from a DataFrame.\n",
      "Try using .loc[row_indexer,col_indexer] = value instead\n",
      "\n",
      "See the caveats in the documentation: https://pandas.pydata.org/pandas-docs/stable/user_guide/indexing.html#returning-a-view-versus-a-copy\n",
      "  modeldf['UNDERINFL'] = modeldf['UNDERINFL'].astype('int64')\n"
     ]
    }
   ],
   "source": [
    "modeldf['UNDERINFL'] = modeldf['UNDERINFL'].astype('int64')"
   ]
  },
  {
   "cell_type": "code",
   "execution_count": 25,
   "metadata": {
    "hidden": true
   },
   "outputs": [
    {
     "data": {
      "text/plain": [
       "SEVERITYCODE       int64\n",
       "ADDRTYPE          object\n",
       "INATTENTIONIND     int64\n",
       "UNDERINFL          int64\n",
       "WEATHER           object\n",
       "ROADCOND          object\n",
       "LIGHTCOND         object\n",
       "PEDROWNOTGRNT      int64\n",
       "SPEEDING           int64\n",
       "Weekend            int64\n",
       "dtype: object"
      ]
     },
     "execution_count": 25,
     "metadata": {},
     "output_type": "execute_result"
    }
   ],
   "source": [
    "modeldf.dtypes"
   ]
  },
  {
   "cell_type": "markdown",
   "metadata": {
    "heading_collapsed": true,
    "hidden": true
   },
   "source": [
    "### **2.3.5 Check all Data cleaning & processing changes**"
   ]
  },
  {
   "cell_type": "code",
   "execution_count": 26,
   "metadata": {
    "hidden": true
   },
   "outputs": [
    {
     "name": "stdout",
     "output_type": "stream",
     "text": [
      "\u001b[1mSEVERITYCODE\u001b[0m\n",
      "# of values:  2\n",
      "Values:  [1 0]\n",
      "0    114949\n",
      "1     59503\n",
      "Name: SEVERITYCODE, dtype: int64\n",
      "\u001b[1mADDRTYPE\u001b[0m\n",
      "# of values:  3\n",
      "Values:  ['Intersection' 'Block' 'Alley']\n",
      "Block           110258\n",
      "Intersection     63589\n",
      "Alley              605\n",
      "Name: ADDRTYPE, dtype: int64\n",
      "\u001b[1mINATTENTIONIND\u001b[0m\n",
      "# of values:  2\n",
      "Values:  [0 1]\n",
      "0    145563\n",
      "1     28889\n",
      "Name: INATTENTIONIND, dtype: int64\n",
      "\u001b[1mUNDERINFL\u001b[0m\n",
      "# of values:  2\n",
      "Values:  [0 1]\n",
      "0    164990\n",
      "1      9462\n",
      "Name: UNDERINFL, dtype: int64\n",
      "\u001b[1mWEATHER\u001b[0m\n",
      "# of values:  5\n",
      "Values:  ['Clear' 'Raining' 'Overcast' 'Other' 'Snowing']\n",
      "Clear       111620\n",
      "Raining      33497\n",
      "Overcast     27626\n",
      "Other          875\n",
      "Snowing        834\n",
      "Name: WEATHER, dtype: int64\n",
      "\u001b[1mROADCOND\u001b[0m\n",
      "# of values:  3\n",
      "Values:  ['Dry' 'Wet' 'Other']\n",
      "Dry      124745\n",
      "Wet       49533\n",
      "Other       174\n",
      "Name: ROADCOND, dtype: int64\n",
      "\u001b[1mLIGHTCOND\u001b[0m\n",
      "# of values:  2\n",
      "Values:  ['Daylight' 'Night']\n",
      "Daylight    117845\n",
      "Night        56607\n",
      "Name: LIGHTCOND, dtype: int64\n",
      "\u001b[1mPEDROWNOTGRNT\u001b[0m\n",
      "# of values:  2\n",
      "Values:  [1 0]\n",
      "0    169464\n",
      "1      4988\n",
      "Name: PEDROWNOTGRNT, dtype: int64\n",
      "\u001b[1mSPEEDING\u001b[0m\n",
      "# of values:  2\n",
      "Values:  [0 1]\n",
      "0    164804\n",
      "1      9648\n",
      "Name: SPEEDING, dtype: int64\n",
      "\u001b[1mWeekend\u001b[0m\n",
      "# of values:  2\n",
      "Values:  [0 1]\n",
      "0    101211\n",
      "1     73241\n",
      "Name: Weekend, dtype: int64\n"
     ]
    }
   ],
   "source": [
    "for col in modeldf:\n",
    "    print('\\033[1m' + col + '\\033[0m')\n",
    "    print(\"# of values: \",modeldf[col].nunique())\n",
    "    print(\"Values: \",modeldf[col].unique())\n",
    "    print(modeldf[col].value_counts())"
   ]
  },
  {
   "cell_type": "code",
   "execution_count": 27,
   "metadata": {
    "hidden": true
   },
   "outputs": [
    {
     "data": {
      "text/html": [
       "<div>\n",
       "<style scoped>\n",
       "    .dataframe tbody tr th:only-of-type {\n",
       "        vertical-align: middle;\n",
       "    }\n",
       "\n",
       "    .dataframe tbody tr th {\n",
       "        vertical-align: top;\n",
       "    }\n",
       "\n",
       "    .dataframe thead th {\n",
       "        text-align: right;\n",
       "    }\n",
       "</style>\n",
       "<table border=\"1\" class=\"dataframe\">\n",
       "  <thead>\n",
       "    <tr style=\"text-align: right;\">\n",
       "      <th></th>\n",
       "      <th>missing</th>\n",
       "      <th>total</th>\n",
       "      <th>percent</th>\n",
       "    </tr>\n",
       "  </thead>\n",
       "  <tbody>\n",
       "    <tr>\n",
       "      <th>SEVERITYCODE</th>\n",
       "      <td>0</td>\n",
       "      <td>174452</td>\n",
       "      <td>0.0</td>\n",
       "    </tr>\n",
       "    <tr>\n",
       "      <th>ADDRTYPE</th>\n",
       "      <td>0</td>\n",
       "      <td>174452</td>\n",
       "      <td>0.0</td>\n",
       "    </tr>\n",
       "    <tr>\n",
       "      <th>INATTENTIONIND</th>\n",
       "      <td>0</td>\n",
       "      <td>174452</td>\n",
       "      <td>0.0</td>\n",
       "    </tr>\n",
       "    <tr>\n",
       "      <th>UNDERINFL</th>\n",
       "      <td>0</td>\n",
       "      <td>174452</td>\n",
       "      <td>0.0</td>\n",
       "    </tr>\n",
       "    <tr>\n",
       "      <th>WEATHER</th>\n",
       "      <td>0</td>\n",
       "      <td>174452</td>\n",
       "      <td>0.0</td>\n",
       "    </tr>\n",
       "    <tr>\n",
       "      <th>ROADCOND</th>\n",
       "      <td>0</td>\n",
       "      <td>174452</td>\n",
       "      <td>0.0</td>\n",
       "    </tr>\n",
       "    <tr>\n",
       "      <th>LIGHTCOND</th>\n",
       "      <td>0</td>\n",
       "      <td>174452</td>\n",
       "      <td>0.0</td>\n",
       "    </tr>\n",
       "    <tr>\n",
       "      <th>PEDROWNOTGRNT</th>\n",
       "      <td>0</td>\n",
       "      <td>174452</td>\n",
       "      <td>0.0</td>\n",
       "    </tr>\n",
       "    <tr>\n",
       "      <th>SPEEDING</th>\n",
       "      <td>0</td>\n",
       "      <td>174452</td>\n",
       "      <td>0.0</td>\n",
       "    </tr>\n",
       "    <tr>\n",
       "      <th>Weekend</th>\n",
       "      <td>0</td>\n",
       "      <td>174452</td>\n",
       "      <td>0.0</td>\n",
       "    </tr>\n",
       "  </tbody>\n",
       "</table>\n",
       "</div>"
      ],
      "text/plain": [
       "                missing   total  percent\n",
       "SEVERITYCODE          0  174452      0.0\n",
       "ADDRTYPE              0  174452      0.0\n",
       "INATTENTIONIND        0  174452      0.0\n",
       "UNDERINFL             0  174452      0.0\n",
       "WEATHER               0  174452      0.0\n",
       "ROADCOND              0  174452      0.0\n",
       "LIGHTCOND             0  174452      0.0\n",
       "PEDROWNOTGRNT         0  174452      0.0\n",
       "SPEEDING              0  174452      0.0\n",
       "Weekend               0  174452      0.0"
      ]
     },
     "execution_count": 27,
     "metadata": {},
     "output_type": "execute_result"
    }
   ],
   "source": [
    "modeldf.stb.missing()"
   ]
  },
  {
   "cell_type": "code",
   "execution_count": 28,
   "metadata": {
    "hidden": true
   },
   "outputs": [
    {
     "data": {
      "text/plain": [
       "SEVERITYCODE       int64\n",
       "ADDRTYPE          object\n",
       "INATTENTIONIND     int64\n",
       "UNDERINFL          int64\n",
       "WEATHER           object\n",
       "ROADCOND          object\n",
       "LIGHTCOND         object\n",
       "PEDROWNOTGRNT      int64\n",
       "SPEEDING           int64\n",
       "Weekend            int64\n",
       "dtype: object"
      ]
     },
     "execution_count": 28,
     "metadata": {},
     "output_type": "execute_result"
    }
   ],
   "source": [
    "modeldf.dtypes"
   ]
  },
  {
   "cell_type": "code",
   "execution_count": 29,
   "metadata": {
    "hidden": true
   },
   "outputs": [
    {
     "data": {
      "text/html": [
       "<div>\n",
       "<style scoped>\n",
       "    .dataframe tbody tr th:only-of-type {\n",
       "        vertical-align: middle;\n",
       "    }\n",
       "\n",
       "    .dataframe tbody tr th {\n",
       "        vertical-align: top;\n",
       "    }\n",
       "\n",
       "    .dataframe thead th {\n",
       "        text-align: right;\n",
       "    }\n",
       "</style>\n",
       "<table border=\"1\" class=\"dataframe\">\n",
       "  <thead>\n",
       "    <tr style=\"text-align: right;\">\n",
       "      <th></th>\n",
       "      <th>SEVERITYCODE</th>\n",
       "      <th>ADDRTYPE</th>\n",
       "      <th>INATTENTIONIND</th>\n",
       "      <th>UNDERINFL</th>\n",
       "      <th>WEATHER</th>\n",
       "      <th>ROADCOND</th>\n",
       "      <th>LIGHTCOND</th>\n",
       "      <th>PEDROWNOTGRNT</th>\n",
       "      <th>SPEEDING</th>\n",
       "      <th>Weekend</th>\n",
       "    </tr>\n",
       "  </thead>\n",
       "  <tbody>\n",
       "    <tr>\n",
       "      <th>0</th>\n",
       "      <td>1</td>\n",
       "      <td>Intersection</td>\n",
       "      <td>0</td>\n",
       "      <td>0</td>\n",
       "      <td>Clear</td>\n",
       "      <td>Dry</td>\n",
       "      <td>Daylight</td>\n",
       "      <td>1</td>\n",
       "      <td>0</td>\n",
       "      <td>0</td>\n",
       "    </tr>\n",
       "    <tr>\n",
       "      <th>1</th>\n",
       "      <td>1</td>\n",
       "      <td>Intersection</td>\n",
       "      <td>0</td>\n",
       "      <td>0</td>\n",
       "      <td>Raining</td>\n",
       "      <td>Wet</td>\n",
       "      <td>Night</td>\n",
       "      <td>0</td>\n",
       "      <td>0</td>\n",
       "      <td>0</td>\n",
       "    </tr>\n",
       "    <tr>\n",
       "      <th>2</th>\n",
       "      <td>0</td>\n",
       "      <td>Block</td>\n",
       "      <td>0</td>\n",
       "      <td>0</td>\n",
       "      <td>Clear</td>\n",
       "      <td>Dry</td>\n",
       "      <td>Daylight</td>\n",
       "      <td>0</td>\n",
       "      <td>0</td>\n",
       "      <td>0</td>\n",
       "    </tr>\n",
       "    <tr>\n",
       "      <th>3</th>\n",
       "      <td>0</td>\n",
       "      <td>Intersection</td>\n",
       "      <td>0</td>\n",
       "      <td>0</td>\n",
       "      <td>Raining</td>\n",
       "      <td>Wet</td>\n",
       "      <td>Night</td>\n",
       "      <td>0</td>\n",
       "      <td>0</td>\n",
       "      <td>0</td>\n",
       "    </tr>\n",
       "    <tr>\n",
       "      <th>6</th>\n",
       "      <td>0</td>\n",
       "      <td>Block</td>\n",
       "      <td>0</td>\n",
       "      <td>0</td>\n",
       "      <td>Clear</td>\n",
       "      <td>Dry</td>\n",
       "      <td>Night</td>\n",
       "      <td>0</td>\n",
       "      <td>0</td>\n",
       "      <td>1</td>\n",
       "    </tr>\n",
       "  </tbody>\n",
       "</table>\n",
       "</div>"
      ],
      "text/plain": [
       "   SEVERITYCODE      ADDRTYPE  INATTENTIONIND  UNDERINFL  WEATHER ROADCOND  \\\n",
       "0             1  Intersection               0          0    Clear      Dry   \n",
       "1             1  Intersection               0          0  Raining      Wet   \n",
       "2             0         Block               0          0    Clear      Dry   \n",
       "3             0  Intersection               0          0  Raining      Wet   \n",
       "6             0         Block               0          0    Clear      Dry   \n",
       "\n",
       "  LIGHTCOND  PEDROWNOTGRNT  SPEEDING  Weekend  \n",
       "0  Daylight              1         0        0  \n",
       "1     Night              0         0        0  \n",
       "2  Daylight              0         0        0  \n",
       "3     Night              0         0        0  \n",
       "6     Night              0         0        1  "
      ]
     },
     "execution_count": 29,
     "metadata": {},
     "output_type": "execute_result"
    }
   ],
   "source": [
    "modeldf.head()"
   ]
  },
  {
   "cell_type": "markdown",
   "metadata": {
    "heading_collapsed": true
   },
   "source": [
    "# **3 Exploratory Data Analysis**"
   ]
  },
  {
   "cell_type": "markdown",
   "metadata": {
    "hidden": true
   },
   "source": [
    "## **3.1 Variable distributions**"
   ]
  },
  {
   "cell_type": "markdown",
   "metadata": {
    "heading_collapsed": true,
    "hidden": true
   },
   "source": [
    "### **3.1.1 Bar charts of frequency distribution for all Variables**"
   ]
  },
  {
   "cell_type": "code",
   "execution_count": 30,
   "metadata": {
    "hidden": true
   },
   "outputs": [
    {
     "data": {
      "image/png": "[encoded data removed]",
      "text/plain": [
       "<Figure size 432x288 with 1 Axes>"
      ]
     },
     "metadata": {},
     "output_type": "display_data"
    }
   ],
   "source": [
    "SEVERITYCODE_count = modeldf['SEVERITYCODE'].value_counts()\n",
    "sns.set(style=\"darkgrid\")\n",
    "sns.barplot(SEVERITYCODE_count.index, SEVERITYCODE_count.values, alpha=0.9)\n",
    "plt.title('Frequency Distribution of SEVERITYCODE variable')\n",
    "plt.ylabel('Frequency count', fontsize=12)\n",
    "plt.xlabel('Value', fontsize=12)\n",
    "plt.show()"
   ]
  },
  {
   "cell_type": "code",
   "execution_count": 31,
   "metadata": {
    "hidden": true
   },
   "outputs": [
    {
     "data": {
      "image/png": "[encoded data removed]",
      "text/plain": [
       "<Figure size 432x288 with 1 Axes>"
      ]
     },
     "metadata": {},
     "output_type": "display_data"
    }
   ],
   "source": [
    "ADDRTYPE_count = modeldf['ADDRTYPE'].value_counts()\n",
    "sns.set(style=\"darkgrid\")\n",
    "sns.barplot(ADDRTYPE_count.index, ADDRTYPE_count.values, alpha=0.9)\n",
    "plt.title('Frequency Distribution of ADDRTYPE variable')\n",
    "plt.ylabel('Frequency count', fontsize=12)\n",
    "plt.xlabel('Value', fontsize=12)\n",
    "plt.show()"
   ]
  },
  {
   "cell_type": "code",
   "execution_count": 32,
   "metadata": {
    "hidden": true
   },
   "outputs": [
    {
     "data": {
      "image/png": "[encoded data removed]",
      "text/plain": [
       "<Figure size 432x288 with 1 Axes>"
      ]
     },
     "metadata": {},
     "output_type": "display_data"
    }
   ],
   "source": [
    "INATTENTIONIND_count = modeldf['INATTENTIONIND'].value_counts()\n",
    "sns.set(style=\"darkgrid\")\n",
    "sns.barplot(INATTENTIONIND_count.index, INATTENTIONIND_count.values, alpha=0.9)\n",
    "plt.title('Frequency Distribution of INATTENTIONIND variable')\n",
    "plt.ylabel('Frequency count', fontsize=12)\n",
    "plt.xlabel('Value', fontsize=12)\n",
    "plt.show()"
   ]
  },
  {
   "cell_type": "code",
   "execution_count": 33,
   "metadata": {
    "hidden": true
   },
   "outputs": [
    {
     "data": {
      "image/png": "[encoded data removed]",
      "text/plain": [
       "<Figure size 432x288 with 1 Axes>"
      ]
     },
     "metadata": {},
     "output_type": "display_data"
    }
   ],
   "source": [
    "UNDERINFL_count = modeldf['UNDERINFL'].value_counts()\n",
    "sns.set(style=\"darkgrid\")\n",
    "sns.barplot(UNDERINFL_count.index, UNDERINFL_count.values, alpha=0.9)\n",
    "plt.title('Frequency Distribution of UNDERINFL variable')\n",
    "plt.ylabel('Frequency count', fontsize=12)\n",
    "plt.xlabel('Value', fontsize=12)\n",
    "plt.show()"
   ]
  },
  {
   "cell_type": "code",
   "execution_count": 34,
   "metadata": {
    "hidden": true
   },
   "outputs": [
    {
     "data": {
      "image/png": "[encoded data removed]",
      "text/plain": [
       "<Figure size 432x288 with 1 Axes>"
      ]
     },
     "metadata": {},
     "output_type": "display_data"
    }
   ],
   "source": [
    "WEATHER_count = modeldf['WEATHER'].value_counts()\n",
    "sns.set(style=\"darkgrid\")\n",
    "sns.barplot(WEATHER_count.index, WEATHER_count.values, alpha=0.9)\n",
    "plt.title('Frequency Distribution of WEATHER variable')\n",
    "plt.ylabel('Frequency count', fontsize=12)\n",
    "plt.xlabel('Value', fontsize=12)\n",
    "plt.show()"
   ]
  },
  {
   "cell_type": "code",
   "execution_count": 35,
   "metadata": {
    "hidden": true
   },
   "outputs": [
    {
     "data": {
      "image/png": "[encoded data removed]",
      "text/plain": [
       "<Figure size 432x288 with 1 Axes>"
      ]
     },
     "metadata": {},
     "output_type": "display_data"
    }
   ],
   "source": [
    "ROADCOND_count = modeldf['ROADCOND'].value_counts()\n",
    "sns.set(style=\"darkgrid\")\n",
    "sns.barplot(ROADCOND_count.index, ROADCOND_count.values, alpha=0.9)\n",
    "plt.title('Frequency Distribution of ROADCOND variable')\n",
    "plt.ylabel('Frequency count', fontsize=12)\n",
    "plt.xlabel('Value', fontsize=12)\n",
    "plt.show()"
   ]
  },
  {
   "cell_type": "code",
   "execution_count": 36,
   "metadata": {
    "hidden": true
   },
   "outputs": [
    {
     "data": {
      "image/png": "[encoded data removed]",
      "text/plain": [
       "<Figure size 432x288 with 1 Axes>"
      ]
     },
     "metadata": {},
     "output_type": "display_data"
    }
   ],
   "source": [
    "LIGHTCOND_count = modeldf['LIGHTCOND'].value_counts()\n",
    "sns.set(style=\"darkgrid\")\n",
    "sns.barplot(LIGHTCOND_count.index, LIGHTCOND_count.values, alpha=0.9)\n",
    "plt.title('Frequency Distribution of LIGHTCOND variable')\n",
    "plt.ylabel('Frequency count', fontsize=12)\n",
    "plt.xlabel('Value', fontsize=12)\n",
    "plt.show()"
   ]
  },
  {
   "cell_type": "code",
   "execution_count": 37,
   "metadata": {
    "hidden": true
   },
   "outputs": [
    {
     "data": {
      "image/png": "[encoded data removed]",
      "text/plain": [
       "<Figure size 432x288 with 1 Axes>"
      ]
     },
     "metadata": {},
     "output_type": "display_data"
    }
   ],
   "source": [
    "PEDROWNOTGRNT_count = modeldf['PEDROWNOTGRNT'].value_counts()\n",
    "sns.set(style=\"darkgrid\")\n",
    "sns.barplot(PEDROWNOTGRNT_count.index, PEDROWNOTGRNT_count.values, alpha=0.9)\n",
    "plt.title('Frequency Distribution of PEDROWNOTGRNT variable')\n",
    "plt.ylabel('Frequency count', fontsize=12)\n",
    "plt.xlabel('Value', fontsize=12)\n",
    "plt.show()"
   ]
  },
  {
   "cell_type": "code",
   "execution_count": 38,
   "metadata": {
    "hidden": true
   },
   "outputs": [
    {
     "data": {
      "image/png": "[encoded data removed]",
      "text/plain": [
       "<Figure size 432x288 with 1 Axes>"
      ]
     },
     "metadata": {},
     "output_type": "display_data"
    }
   ],
   "source": [
    "SPEEDING_count = modeldf['SPEEDING'].value_counts()\n",
    "sns.set(style=\"darkgrid\")\n",
    "sns.barplot(SPEEDING_count.index, SPEEDING_count.values, alpha=0.9)\n",
    "plt.title('Frequency Distribution of SPEEDING variable')\n",
    "plt.ylabel('Frequency count', fontsize=12)\n",
    "plt.xlabel('Value', fontsize=12)\n",
    "plt.show()"
   ]
  },
  {
   "cell_type": "code",
   "execution_count": 39,
   "metadata": {
    "hidden": true
   },
   "outputs": [
    {
     "data": {
      "image/png": "[encoded data removed]",
      "text/plain": [
       "<Figure size 432x288 with 1 Axes>"
      ]
     },
     "metadata": {},
     "output_type": "display_data"
    }
   ],
   "source": [
    "Weekend_count = modeldf['Weekend'].value_counts()\n",
    "sns.set(style=\"darkgrid\")\n",
    "sns.barplot(Weekend_count.index, Weekend_count.values, alpha=0.9)\n",
    "plt.title('Frequency Distribution of Weekend variable')\n",
    "plt.ylabel('Frequency count', fontsize=12)\n",
    "plt.xlabel('Value', fontsize=12)\n",
    "plt.show()"
   ]
  },
  {
   "cell_type": "markdown",
   "metadata": {
    "heading_collapsed": true,
    "hidden": true
   },
   "source": [
    "### **3.1.2 Bar charts comparing frequency distribution of all Variables with Dependent Variable**"
   ]
  },
  {
   "cell_type": "code",
   "execution_count": 40,
   "metadata": {
    "hidden": true
   },
   "outputs": [
    {
     "data": {
      "image/png": "[encoded data removed]",
      "text/plain": [
       "<Figure size 462.675x360 with 1 Axes>"
      ]
     },
     "metadata": {},
     "output_type": "display_data"
    }
   ],
   "source": [
    "g = sns.catplot(\"ADDRTYPE\", hue=\"SEVERITYCODE\", data=modeldf, kind=\"count\", \n",
    "            palette={1:\"blue\", 0:\"green\"})\n",
    "g.fig.suptitle(\"Comparison of ADDRTYPE and SEVERITYCODE\", x=0.45 , y=1.05, fontsize=15);"
   ]
  },
  {
   "cell_type": "code",
   "execution_count": 41,
   "metadata": {
    "hidden": true
   },
   "outputs": [
    {
     "data": {
      "image/png": "[encoded data removed]",
      "text/plain": [
       "<Figure size 462.675x360 with 1 Axes>"
      ]
     },
     "metadata": {},
     "output_type": "display_data"
    }
   ],
   "source": [
    "g = sns.catplot(\"INATTENTIONIND\", hue=\"SEVERITYCODE\", data=modeldf, kind=\"count\", \n",
    "            palette={1:\"blue\", 0:\"green\"})\n",
    "g.fig.suptitle(\"Comparison of INATTENTIONIND and SEVERITYCODE\", x=0.45 , y=1.05, fontsize=15);"
   ]
  },
  {
   "cell_type": "code",
   "execution_count": 42,
   "metadata": {
    "hidden": true
   },
   "outputs": [
    {
     "data": {
      "image/png": "[encoded data removed]",
      "text/plain": [
       "<Figure size 462.675x360 with 1 Axes>"
      ]
     },
     "metadata": {},
     "output_type": "display_data"
    }
   ],
   "source": [
    "g = sns.catplot(\"UNDERINFL\", hue=\"SEVERITYCODE\", data=modeldf, kind=\"count\", \n",
    "            palette={1:\"blue\", 0:\"green\"})\n",
    "g.fig.suptitle(\"Comparison of UNDERINFL and SEVERITYCODE\", x=0.45 , y=1.05, fontsize=15);"
   ]
  },
  {
   "cell_type": "code",
   "execution_count": 43,
   "metadata": {
    "hidden": true
   },
   "outputs": [
    {
     "data": {
      "image/png": "[encoded data removed]",
      "text/plain": [
       "<Figure size 462.675x360 with 1 Axes>"
      ]
     },
     "metadata": {},
     "output_type": "display_data"
    }
   ],
   "source": [
    "g = sns.catplot(\"WEATHER\", hue=\"SEVERITYCODE\", data=modeldf, kind=\"count\", \n",
    "            palette={1:\"blue\", 0:\"green\"})\n",
    "g.fig.suptitle(\"Comparison of WEATHER and SEVERITYCODE\", x=0.45 , y=1.05, fontsize=15);"
   ]
  },
  {
   "cell_type": "code",
   "execution_count": 44,
   "metadata": {
    "hidden": true
   },
   "outputs": [
    {
     "data": {
      "image/png": "[encoded data removed]",
      "text/plain": [
       "<Figure size 462.675x360 with 1 Axes>"
      ]
     },
     "metadata": {},
     "output_type": "display_data"
    }
   ],
   "source": [
    "g = sns.catplot(\"ROADCOND\", hue=\"SEVERITYCODE\", data=modeldf, kind=\"count\", \n",
    "            palette={1:\"blue\", 0:\"green\"})\n",
    "g.fig.suptitle(\"Comparison of ROADCOND and SEVERITYCODE\", x=0.45 , y=1.05, fontsize=15);"
   ]
  },
  {
   "cell_type": "code",
   "execution_count": 45,
   "metadata": {
    "hidden": true
   },
   "outputs": [
    {
     "data": {
      "image/png": "[encoded data removed]",
      "text/plain": [
       "<Figure size 462.675x360 with 1 Axes>"
      ]
     },
     "metadata": {},
     "output_type": "display_data"
    }
   ],
   "source": [
    "g = sns.catplot(\"LIGHTCOND\", hue=\"SEVERITYCODE\", data=modeldf, kind=\"count\", \n",
    "            palette={1:\"blue\", 0:\"green\"})\n",
    "g.fig.suptitle(\"Comparison of LIGHTCOND and SEVERITYCODE\", x=0.45 , y=1.05, fontsize=15);"
   ]
  },
  {
   "cell_type": "code",
   "execution_count": 46,
   "metadata": {
    "hidden": true
   },
   "outputs": [
    {
     "data": {
      "image/png": "[encoded data removed]",
      "text/plain": [
       "<Figure size 462.675x360 with 1 Axes>"
      ]
     },
     "metadata": {},
     "output_type": "display_data"
    }
   ],
   "source": [
    "g = sns.catplot(\"PEDROWNOTGRNT\", hue=\"SEVERITYCODE\", data=modeldf, kind=\"count\", \n",
    "            palette={1:\"blue\", 0:\"green\"})\n",
    "g.fig.suptitle(\"Comparison of PEDROWNOTGRNT and SEVERITYCODE\", x=0.45 , y=1.05, fontsize=15);"
   ]
  },
  {
   "cell_type": "code",
   "execution_count": 47,
   "metadata": {
    "hidden": true
   },
   "outputs": [
    {
     "data": {
      "image/png": "[encoded data removed]",
      "text/plain": [
       "<Figure size 462.675x360 with 1 Axes>"
      ]
     },
     "metadata": {},
     "output_type": "display_data"
    }
   ],
   "source": [
    "g = sns.catplot(\"SPEEDING\", hue=\"SEVERITYCODE\", data=modeldf, kind=\"count\", \n",
    "            palette={1:\"blue\", 0:\"green\"})\n",
    "g.fig.suptitle(\"Comparison of SPEEDING and SEVERITYCODE\", x=0.45 , y=1.05, fontsize=15);"
   ]
  },
  {
   "cell_type": "code",
   "execution_count": 48,
   "metadata": {
    "hidden": true
   },
   "outputs": [
    {
     "data": {
      "image/png": "[encoded data removed]",
      "text/plain": [
       "<Figure size 462.675x360 with 1 Axes>"
      ]
     },
     "metadata": {},
     "output_type": "display_data"
    }
   ],
   "source": [
    "g = sns.catplot(\"Weekend\", hue=\"SEVERITYCODE\", data=modeldf, kind=\"count\", \n",
    "            palette={1:\"blue\", 0:\"green\"})\n",
    "g.fig.suptitle(\"Comparison of Weekend and SEVERITYCODE\", x=0.45 , y=1.05, fontsize=15);"
   ]
  },
  {
   "cell_type": "markdown",
   "metadata": {
    "heading_collapsed": true,
    "hidden": true
   },
   "source": [
    "## **3.2 Create Dummy Variables**"
   ]
  },
  {
   "cell_type": "code",
   "execution_count": 49,
   "metadata": {
    "hidden": true
   },
   "outputs": [],
   "source": [
    "# Create dummy variables for ROADCOND, WEATHER, LIGHTCOND, ADDRTYPE"
   ]
  },
  {
   "cell_type": "code",
   "execution_count": 50,
   "metadata": {
    "hidden": true
   },
   "outputs": [
    {
     "data": {
      "text/plain": [
       "Index(['SEVERITYCODE', 'ADDRTYPE', 'INATTENTIONIND', 'UNDERINFL', 'WEATHER',\n",
       "       'ROADCOND', 'LIGHTCOND', 'PEDROWNOTGRNT', 'SPEEDING', 'Weekend'],\n",
       "      dtype='object')"
      ]
     },
     "execution_count": 50,
     "metadata": {},
     "output_type": "execute_result"
    }
   ],
   "source": [
    "modeldf.columns"
   ]
  },
  {
   "cell_type": "code",
   "execution_count": 51,
   "metadata": {
    "hidden": true
   },
   "outputs": [],
   "source": [
    "dummy_variable_1 = pd.get_dummies(modeldf[\"ROADCOND\"])\n",
    "dummy_variable_1.rename(columns={'Dry':'Road-Dry', 'Other':'Road-Other','Wet':'Road-Wet'}, inplace=True)\n",
    "modeldf = pd.concat([modeldf, dummy_variable_1], axis=1)\n",
    "modeldf.drop(\"ROADCOND\", axis = 1, inplace=True)"
   ]
  },
  {
   "cell_type": "code",
   "execution_count": 52,
   "metadata": {
    "hidden": true
   },
   "outputs": [],
   "source": [
    "dummy_variable_2 = pd.get_dummies(modeldf[\"WEATHER\"])\n",
    "dummy_variable_2.rename(columns={'Clear':'Weather-Clear', 'Raining':'Weather-Raining','Overcast':'Weather-Overcast', 'Other':'Weather-Other','Snowing':'Weather-Snowing'}, inplace=True)\n",
    "modeldf = pd.concat([modeldf, dummy_variable_2], axis=1)\n",
    "modeldf.drop(\"WEATHER\", axis = 1, inplace=True)"
   ]
  },
  {
   "cell_type": "code",
   "execution_count": 53,
   "metadata": {
    "hidden": true
   },
   "outputs": [],
   "source": [
    "dummy_variable_3 = pd.get_dummies(modeldf[\"LIGHTCOND\"])\n",
    "dummy_variable_3.rename(columns={'Daylight':'LightCond-Daylight', 'Night':'LightCond-Night'}, inplace=True)\n",
    "modeldf = pd.concat([modeldf, dummy_variable_3], axis=1)\n",
    "modeldf.drop(\"LIGHTCOND\", axis = 1, inplace=True)"
   ]
  },
  {
   "cell_type": "code",
   "execution_count": 54,
   "metadata": {
    "hidden": true
   },
   "outputs": [],
   "source": [
    "dummy_variable_4 = pd.get_dummies(modeldf[\"ADDRTYPE\"])\n",
    "dummy_variable_4.rename(columns={'Intersection':'ADDR-Intersection', 'Block':'ADDR-Block','Alley':'ADDR-Alley'}, inplace=True)\n",
    "modeldf = pd.concat([modeldf, dummy_variable_4], axis=1)\n",
    "modeldf.drop(\"ADDRTYPE\", axis = 1, inplace=True)"
   ]
  },
  {
   "cell_type": "code",
   "execution_count": 55,
   "metadata": {
    "hidden": true
   },
   "outputs": [
    {
     "data": {
      "text/html": [
       "<div>\n",
       "<style scoped>\n",
       "    .dataframe tbody tr th:only-of-type {\n",
       "        vertical-align: middle;\n",
       "    }\n",
       "\n",
       "    .dataframe tbody tr th {\n",
       "        vertical-align: top;\n",
       "    }\n",
       "\n",
       "    .dataframe thead th {\n",
       "        text-align: right;\n",
       "    }\n",
       "</style>\n",
       "<table border=\"1\" class=\"dataframe\">\n",
       "  <thead>\n",
       "    <tr style=\"text-align: right;\">\n",
       "      <th></th>\n",
       "      <th>0</th>\n",
       "      <th>1</th>\n",
       "      <th>2</th>\n",
       "      <th>3</th>\n",
       "      <th>6</th>\n",
       "    </tr>\n",
       "  </thead>\n",
       "  <tbody>\n",
       "    <tr>\n",
       "      <th>SEVERITYCODE</th>\n",
       "      <td>1</td>\n",
       "      <td>1</td>\n",
       "      <td>0</td>\n",
       "      <td>0</td>\n",
       "      <td>0</td>\n",
       "    </tr>\n",
       "    <tr>\n",
       "      <th>INATTENTIONIND</th>\n",
       "      <td>0</td>\n",
       "      <td>0</td>\n",
       "      <td>0</td>\n",
       "      <td>0</td>\n",
       "      <td>0</td>\n",
       "    </tr>\n",
       "    <tr>\n",
       "      <th>UNDERINFL</th>\n",
       "      <td>0</td>\n",
       "      <td>0</td>\n",
       "      <td>0</td>\n",
       "      <td>0</td>\n",
       "      <td>0</td>\n",
       "    </tr>\n",
       "    <tr>\n",
       "      <th>PEDROWNOTGRNT</th>\n",
       "      <td>1</td>\n",
       "      <td>0</td>\n",
       "      <td>0</td>\n",
       "      <td>0</td>\n",
       "      <td>0</td>\n",
       "    </tr>\n",
       "    <tr>\n",
       "      <th>SPEEDING</th>\n",
       "      <td>0</td>\n",
       "      <td>0</td>\n",
       "      <td>0</td>\n",
       "      <td>0</td>\n",
       "      <td>0</td>\n",
       "    </tr>\n",
       "    <tr>\n",
       "      <th>Weekend</th>\n",
       "      <td>0</td>\n",
       "      <td>0</td>\n",
       "      <td>0</td>\n",
       "      <td>0</td>\n",
       "      <td>1</td>\n",
       "    </tr>\n",
       "    <tr>\n",
       "      <th>Road-Dry</th>\n",
       "      <td>1</td>\n",
       "      <td>0</td>\n",
       "      <td>1</td>\n",
       "      <td>0</td>\n",
       "      <td>1</td>\n",
       "    </tr>\n",
       "    <tr>\n",
       "      <th>Road-Other</th>\n",
       "      <td>0</td>\n",
       "      <td>0</td>\n",
       "      <td>0</td>\n",
       "      <td>0</td>\n",
       "      <td>0</td>\n",
       "    </tr>\n",
       "    <tr>\n",
       "      <th>Road-Wet</th>\n",
       "      <td>0</td>\n",
       "      <td>1</td>\n",
       "      <td>0</td>\n",
       "      <td>1</td>\n",
       "      <td>0</td>\n",
       "    </tr>\n",
       "    <tr>\n",
       "      <th>Weather-Clear</th>\n",
       "      <td>1</td>\n",
       "      <td>0</td>\n",
       "      <td>1</td>\n",
       "      <td>0</td>\n",
       "      <td>1</td>\n",
       "    </tr>\n",
       "    <tr>\n",
       "      <th>Weather-Other</th>\n",
       "      <td>0</td>\n",
       "      <td>0</td>\n",
       "      <td>0</td>\n",
       "      <td>0</td>\n",
       "      <td>0</td>\n",
       "    </tr>\n",
       "    <tr>\n",
       "      <th>Weather-Overcast</th>\n",
       "      <td>0</td>\n",
       "      <td>0</td>\n",
       "      <td>0</td>\n",
       "      <td>0</td>\n",
       "      <td>0</td>\n",
       "    </tr>\n",
       "    <tr>\n",
       "      <th>Weather-Raining</th>\n",
       "      <td>0</td>\n",
       "      <td>1</td>\n",
       "      <td>0</td>\n",
       "      <td>1</td>\n",
       "      <td>0</td>\n",
       "    </tr>\n",
       "    <tr>\n",
       "      <th>Weather-Snowing</th>\n",
       "      <td>0</td>\n",
       "      <td>0</td>\n",
       "      <td>0</td>\n",
       "      <td>0</td>\n",
       "      <td>0</td>\n",
       "    </tr>\n",
       "    <tr>\n",
       "      <th>LightCond-Daylight</th>\n",
       "      <td>1</td>\n",
       "      <td>0</td>\n",
       "      <td>1</td>\n",
       "      <td>0</td>\n",
       "      <td>0</td>\n",
       "    </tr>\n",
       "    <tr>\n",
       "      <th>LightCond-Night</th>\n",
       "      <td>0</td>\n",
       "      <td>1</td>\n",
       "      <td>0</td>\n",
       "      <td>1</td>\n",
       "      <td>1</td>\n",
       "    </tr>\n",
       "    <tr>\n",
       "      <th>ADDR-Alley</th>\n",
       "      <td>0</td>\n",
       "      <td>0</td>\n",
       "      <td>0</td>\n",
       "      <td>0</td>\n",
       "      <td>0</td>\n",
       "    </tr>\n",
       "    <tr>\n",
       "      <th>ADDR-Block</th>\n",
       "      <td>0</td>\n",
       "      <td>0</td>\n",
       "      <td>1</td>\n",
       "      <td>0</td>\n",
       "      <td>1</td>\n",
       "    </tr>\n",
       "    <tr>\n",
       "      <th>ADDR-Intersection</th>\n",
       "      <td>1</td>\n",
       "      <td>1</td>\n",
       "      <td>0</td>\n",
       "      <td>1</td>\n",
       "      <td>0</td>\n",
       "    </tr>\n",
       "  </tbody>\n",
       "</table>\n",
       "</div>"
      ],
      "text/plain": [
       "                    0  1  2  3  6\n",
       "SEVERITYCODE        1  1  0  0  0\n",
       "INATTENTIONIND      0  0  0  0  0\n",
       "UNDERINFL           0  0  0  0  0\n",
       "PEDROWNOTGRNT       1  0  0  0  0\n",
       "SPEEDING            0  0  0  0  0\n",
       "Weekend             0  0  0  0  1\n",
       "Road-Dry            1  0  1  0  1\n",
       "Road-Other          0  0  0  0  0\n",
       "Road-Wet            0  1  0  1  0\n",
       "Weather-Clear       1  0  1  0  1\n",
       "Weather-Other       0  0  0  0  0\n",
       "Weather-Overcast    0  0  0  0  0\n",
       "Weather-Raining     0  1  0  1  0\n",
       "Weather-Snowing     0  0  0  0  0\n",
       "LightCond-Daylight  1  0  1  0  0\n",
       "LightCond-Night     0  1  0  1  1\n",
       "ADDR-Alley          0  0  0  0  0\n",
       "ADDR-Block          0  0  1  0  1\n",
       "ADDR-Intersection   1  1  0  1  0"
      ]
     },
     "execution_count": 55,
     "metadata": {},
     "output_type": "execute_result"
    }
   ],
   "source": [
    "modeldf.head().T"
   ]
  },
  {
   "cell_type": "markdown",
   "metadata": {
    "heading_collapsed": true,
    "hidden": true
   },
   "source": [
    "## **3.3 Pairwise Variable Comparison Matrix**"
   ]
  },
  {
   "cell_type": "code",
   "execution_count": 56,
   "metadata": {
    "hidden": true
   },
   "outputs": [
    {
     "data": {
      "text/html": [
       "<div>\n",
       "<style scoped>\n",
       "    .dataframe tbody tr th:only-of-type {\n",
       "        vertical-align: middle;\n",
       "    }\n",
       "\n",
       "    .dataframe tbody tr th {\n",
       "        vertical-align: top;\n",
       "    }\n",
       "\n",
       "    .dataframe thead th {\n",
       "        text-align: right;\n",
       "    }\n",
       "</style>\n",
       "<table border=\"1\" class=\"dataframe\">\n",
       "  <thead>\n",
       "    <tr style=\"text-align: right;\">\n",
       "      <th></th>\n",
       "      <th>SEVERITYCODE</th>\n",
       "      <th>INATTENTIONIND</th>\n",
       "      <th>UNDERINFL</th>\n",
       "      <th>PEDROWNOTGRNT</th>\n",
       "      <th>SPEEDING</th>\n",
       "      <th>Weekend</th>\n",
       "      <th>Road-Dry</th>\n",
       "      <th>Road-Other</th>\n",
       "      <th>Road-Wet</th>\n",
       "      <th>Weather-Clear</th>\n",
       "      <th>Weather-Other</th>\n",
       "      <th>Weather-Overcast</th>\n",
       "      <th>Weather-Raining</th>\n",
       "      <th>Weather-Snowing</th>\n",
       "      <th>LightCond-Daylight</th>\n",
       "      <th>LightCond-Night</th>\n",
       "      <th>ADDR-Alley</th>\n",
       "      <th>ADDR-Block</th>\n",
       "      <th>ADDR-Intersection</th>\n",
       "    </tr>\n",
       "  </thead>\n",
       "  <tbody>\n",
       "    <tr>\n",
       "      <th>SEVERITYCODE</th>\n",
       "      <td>1.000000</td>\n",
       "      <td>0.614771</td>\n",
       "      <td>0.650511</td>\n",
       "      <td>0.682589</td>\n",
       "      <td>0.648975</td>\n",
       "      <td>0.517724</td>\n",
       "      <td>0.430766</td>\n",
       "      <td>0.658674</td>\n",
       "      <td>0.569475</td>\n",
       "      <td>0.455684</td>\n",
       "      <td>0.657270</td>\n",
       "      <td>0.606006</td>\n",
       "      <td>0.601667</td>\n",
       "      <td>0.656117</td>\n",
       "      <td>0.456011</td>\n",
       "      <td>0.543989</td>\n",
       "      <td>0.656387</td>\n",
       "      <td>0.378425</td>\n",
       "      <td>0.624103</td>\n",
       "    </tr>\n",
       "    <tr>\n",
       "      <th>INATTENTIONIND</th>\n",
       "      <td>0.614771</td>\n",
       "      <td>1.000000</td>\n",
       "      <td>0.791949</td>\n",
       "      <td>0.811014</td>\n",
       "      <td>0.787133</td>\n",
       "      <td>0.546855</td>\n",
       "      <td>0.367826</td>\n",
       "      <td>0.833542</td>\n",
       "      <td>0.633034</td>\n",
       "      <td>0.416006</td>\n",
       "      <td>0.830911</td>\n",
       "      <td>0.728298</td>\n",
       "      <td>0.697785</td>\n",
       "      <td>0.830205</td>\n",
       "      <td>0.404925</td>\n",
       "      <td>0.595075</td>\n",
       "      <td>0.831896</td>\n",
       "      <td>0.446719</td>\n",
       "      <td>0.555786</td>\n",
       "    </tr>\n",
       "    <tr>\n",
       "      <th>UNDERINFL</th>\n",
       "      <td>0.650511</td>\n",
       "      <td>0.791949</td>\n",
       "      <td>1.000000</td>\n",
       "      <td>0.918843</td>\n",
       "      <td>0.906186</td>\n",
       "      <td>0.588317</td>\n",
       "      <td>0.306726</td>\n",
       "      <td>0.944925</td>\n",
       "      <td>0.694111</td>\n",
       "      <td>0.375244</td>\n",
       "      <td>0.941376</td>\n",
       "      <td>0.803992</td>\n",
       "      <td>0.775314</td>\n",
       "      <td>0.941359</td>\n",
       "      <td>0.294092</td>\n",
       "      <td>0.705908</td>\n",
       "      <td>0.942764</td>\n",
       "      <td>0.394504</td>\n",
       "      <td>0.608494</td>\n",
       "    </tr>\n",
       "    <tr>\n",
       "      <th>PEDROWNOTGRNT</th>\n",
       "      <td>0.682589</td>\n",
       "      <td>0.811014</td>\n",
       "      <td>0.918843</td>\n",
       "      <td>1.000000</td>\n",
       "      <td>0.916711</td>\n",
       "      <td>0.570615</td>\n",
       "      <td>0.296259</td>\n",
       "      <td>0.970468</td>\n",
       "      <td>0.704681</td>\n",
       "      <td>0.367310</td>\n",
       "      <td>0.966610</td>\n",
       "      <td>0.821452</td>\n",
       "      <td>0.792098</td>\n",
       "      <td>0.966753</td>\n",
       "      <td>0.335227</td>\n",
       "      <td>0.664773</td>\n",
       "      <td>0.968020</td>\n",
       "      <td>0.350217</td>\n",
       "      <td>0.653171</td>\n",
       "    </tr>\n",
       "    <tr>\n",
       "      <th>SPEEDING</th>\n",
       "      <td>0.648975</td>\n",
       "      <td>0.787133</td>\n",
       "      <td>0.906186</td>\n",
       "      <td>0.916711</td>\n",
       "      <td>1.000000</td>\n",
       "      <td>0.578824</td>\n",
       "      <td>0.281608</td>\n",
       "      <td>0.944099</td>\n",
       "      <td>0.718989</td>\n",
       "      <td>0.355112</td>\n",
       "      <td>0.940540</td>\n",
       "      <td>0.804966</td>\n",
       "      <td>0.791456</td>\n",
       "      <td>0.942013</td>\n",
       "      <td>0.325173</td>\n",
       "      <td>0.674827</td>\n",
       "      <td>0.941583</td>\n",
       "      <td>0.399181</td>\n",
       "      <td>0.603931</td>\n",
       "    </tr>\n",
       "    <tr>\n",
       "      <th>Weekend</th>\n",
       "      <td>0.517724</td>\n",
       "      <td>0.546855</td>\n",
       "      <td>0.588317</td>\n",
       "      <td>0.570615</td>\n",
       "      <td>0.578824</td>\n",
       "      <td>1.000000</td>\n",
       "      <td>0.456825</td>\n",
       "      <td>0.580119</td>\n",
       "      <td>0.543221</td>\n",
       "      <td>0.472789</td>\n",
       "      <td>0.579426</td>\n",
       "      <td>0.552811</td>\n",
       "      <td>0.556233</td>\n",
       "      <td>0.579237</td>\n",
       "      <td>0.418912</td>\n",
       "      <td>0.581088</td>\n",
       "      <td>0.579712</td>\n",
       "      <td>0.483623</td>\n",
       "      <td>0.516830</td>\n",
       "    </tr>\n",
       "    <tr>\n",
       "      <th>Road-Dry</th>\n",
       "      <td>0.430766</td>\n",
       "      <td>0.367826</td>\n",
       "      <td>0.306726</td>\n",
       "      <td>0.296259</td>\n",
       "      <td>0.281608</td>\n",
       "      <td>0.456825</td>\n",
       "      <td>1.000000</td>\n",
       "      <td>0.283935</td>\n",
       "      <td>0.000997</td>\n",
       "      <td>0.873427</td>\n",
       "      <td>0.286279</td>\n",
       "      <td>0.314453</td>\n",
       "      <td>0.100280</td>\n",
       "      <td>0.280358</td>\n",
       "      <td>0.646069</td>\n",
       "      <td>0.353931</td>\n",
       "      <td>0.286830</td>\n",
       "      <td>0.561811</td>\n",
       "      <td>0.436292</td>\n",
       "    </tr>\n",
       "    <tr>\n",
       "      <th>Road-Other</th>\n",
       "      <td>0.658674</td>\n",
       "      <td>0.833542</td>\n",
       "      <td>0.944925</td>\n",
       "      <td>0.970468</td>\n",
       "      <td>0.944099</td>\n",
       "      <td>0.580119</td>\n",
       "      <td>0.283935</td>\n",
       "      <td>1.000000</td>\n",
       "      <td>0.715068</td>\n",
       "      <td>0.360271</td>\n",
       "      <td>0.994090</td>\n",
       "      <td>0.841148</td>\n",
       "      <td>0.807242</td>\n",
       "      <td>0.994256</td>\n",
       "      <td>0.324771</td>\n",
       "      <td>0.675229</td>\n",
       "      <td>0.995603</td>\n",
       "      <td>0.368491</td>\n",
       "      <td>0.634908</td>\n",
       "    </tr>\n",
       "    <tr>\n",
       "      <th>Road-Wet</th>\n",
       "      <td>0.569475</td>\n",
       "      <td>0.633034</td>\n",
       "      <td>0.694111</td>\n",
       "      <td>0.704681</td>\n",
       "      <td>0.718989</td>\n",
       "      <td>0.543221</td>\n",
       "      <td>0.000997</td>\n",
       "      <td>0.715068</td>\n",
       "      <td>1.000000</td>\n",
       "      <td>0.126470</td>\n",
       "      <td>0.714615</td>\n",
       "      <td>0.686040</td>\n",
       "      <td>0.900465</td>\n",
       "      <td>0.720605</td>\n",
       "      <td>0.353645</td>\n",
       "      <td>0.646355</td>\n",
       "      <td>0.714099</td>\n",
       "      <td>0.437673</td>\n",
       "      <td>0.564293</td>\n",
       "    </tr>\n",
       "    <tr>\n",
       "      <th>Weather-Clear</th>\n",
       "      <td>0.455684</td>\n",
       "      <td>0.416006</td>\n",
       "      <td>0.375244</td>\n",
       "      <td>0.367310</td>\n",
       "      <td>0.355112</td>\n",
       "      <td>0.472789</td>\n",
       "      <td>0.873427</td>\n",
       "      <td>0.360271</td>\n",
       "      <td>0.126470</td>\n",
       "      <td>1.000000</td>\n",
       "      <td>0.355152</td>\n",
       "      <td>0.201809</td>\n",
       "      <td>0.168155</td>\n",
       "      <td>0.355387</td>\n",
       "      <td>0.610340</td>\n",
       "      <td>0.389660</td>\n",
       "      <td>0.361446</td>\n",
       "      <td>0.541593</td>\n",
       "      <td>0.457129</td>\n",
       "    </tr>\n",
       "    <tr>\n",
       "      <th>Weather-Other</th>\n",
       "      <td>0.657270</td>\n",
       "      <td>0.830911</td>\n",
       "      <td>0.941376</td>\n",
       "      <td>0.966610</td>\n",
       "      <td>0.940540</td>\n",
       "      <td>0.579426</td>\n",
       "      <td>0.286279</td>\n",
       "      <td>0.994090</td>\n",
       "      <td>0.714615</td>\n",
       "      <td>0.355152</td>\n",
       "      <td>1.000000</td>\n",
       "      <td>0.836626</td>\n",
       "      <td>0.802972</td>\n",
       "      <td>0.990204</td>\n",
       "      <td>0.324490</td>\n",
       "      <td>0.675510</td>\n",
       "      <td>0.991574</td>\n",
       "      <td>0.369758</td>\n",
       "      <td>0.633653</td>\n",
       "    </tr>\n",
       "    <tr>\n",
       "      <th>Weather-Overcast</th>\n",
       "      <td>0.606006</td>\n",
       "      <td>0.728298</td>\n",
       "      <td>0.803992</td>\n",
       "      <td>0.821452</td>\n",
       "      <td>0.804966</td>\n",
       "      <td>0.552811</td>\n",
       "      <td>0.314453</td>\n",
       "      <td>0.841148</td>\n",
       "      <td>0.686040</td>\n",
       "      <td>0.201809</td>\n",
       "      <td>0.836626</td>\n",
       "      <td>1.000000</td>\n",
       "      <td>0.649629</td>\n",
       "      <td>0.836861</td>\n",
       "      <td>0.376820</td>\n",
       "      <td>0.623180</td>\n",
       "      <td>0.839274</td>\n",
       "      <td>0.410898</td>\n",
       "      <td>0.591469</td>\n",
       "    </tr>\n",
       "    <tr>\n",
       "      <th>Weather-Raining</th>\n",
       "      <td>0.601667</td>\n",
       "      <td>0.697785</td>\n",
       "      <td>0.775314</td>\n",
       "      <td>0.792098</td>\n",
       "      <td>0.791456</td>\n",
       "      <td>0.556233</td>\n",
       "      <td>0.100280</td>\n",
       "      <td>0.807242</td>\n",
       "      <td>0.900465</td>\n",
       "      <td>0.168155</td>\n",
       "      <td>0.802972</td>\n",
       "      <td>0.649629</td>\n",
       "      <td>1.000000</td>\n",
       "      <td>0.803207</td>\n",
       "      <td>0.337996</td>\n",
       "      <td>0.662004</td>\n",
       "      <td>0.805528</td>\n",
       "      <td>0.411362</td>\n",
       "      <td>0.591097</td>\n",
       "    </tr>\n",
       "    <tr>\n",
       "      <th>Weather-Snowing</th>\n",
       "      <td>0.656117</td>\n",
       "      <td>0.830205</td>\n",
       "      <td>0.941359</td>\n",
       "      <td>0.966753</td>\n",
       "      <td>0.942013</td>\n",
       "      <td>0.579237</td>\n",
       "      <td>0.280358</td>\n",
       "      <td>0.994256</td>\n",
       "      <td>0.720605</td>\n",
       "      <td>0.355387</td>\n",
       "      <td>0.990204</td>\n",
       "      <td>0.836861</td>\n",
       "      <td>0.803207</td>\n",
       "      <td>1.000000</td>\n",
       "      <td>0.323808</td>\n",
       "      <td>0.676192</td>\n",
       "      <td>0.991774</td>\n",
       "      <td>0.370314</td>\n",
       "      <td>0.633131</td>\n",
       "    </tr>\n",
       "    <tr>\n",
       "      <th>LightCond-Daylight</th>\n",
       "      <td>0.456011</td>\n",
       "      <td>0.404925</td>\n",
       "      <td>0.294092</td>\n",
       "      <td>0.335227</td>\n",
       "      <td>0.325173</td>\n",
       "      <td>0.418912</td>\n",
       "      <td>0.646069</td>\n",
       "      <td>0.324771</td>\n",
       "      <td>0.353645</td>\n",
       "      <td>0.610340</td>\n",
       "      <td>0.324490</td>\n",
       "      <td>0.376820</td>\n",
       "      <td>0.337996</td>\n",
       "      <td>0.323808</td>\n",
       "      <td>1.000000</td>\n",
       "      <td>0.000000</td>\n",
       "      <td>0.325259</td>\n",
       "      <td>0.532806</td>\n",
       "      <td>0.466421</td>\n",
       "    </tr>\n",
       "    <tr>\n",
       "      <th>LightCond-Night</th>\n",
       "      <td>0.543989</td>\n",
       "      <td>0.595075</td>\n",
       "      <td>0.705908</td>\n",
       "      <td>0.664773</td>\n",
       "      <td>0.674827</td>\n",
       "      <td>0.581088</td>\n",
       "      <td>0.353931</td>\n",
       "      <td>0.675229</td>\n",
       "      <td>0.646355</td>\n",
       "      <td>0.389660</td>\n",
       "      <td>0.675510</td>\n",
       "      <td>0.623180</td>\n",
       "      <td>0.662004</td>\n",
       "      <td>0.676192</td>\n",
       "      <td>0.000000</td>\n",
       "      <td>1.000000</td>\n",
       "      <td>0.674741</td>\n",
       "      <td>0.467194</td>\n",
       "      <td>0.533579</td>\n",
       "    </tr>\n",
       "    <tr>\n",
       "      <th>ADDR-Alley</th>\n",
       "      <td>0.656387</td>\n",
       "      <td>0.831896</td>\n",
       "      <td>0.942764</td>\n",
       "      <td>0.968020</td>\n",
       "      <td>0.941583</td>\n",
       "      <td>0.579712</td>\n",
       "      <td>0.286830</td>\n",
       "      <td>0.995603</td>\n",
       "      <td>0.714099</td>\n",
       "      <td>0.361446</td>\n",
       "      <td>0.991574</td>\n",
       "      <td>0.839274</td>\n",
       "      <td>0.805528</td>\n",
       "      <td>0.991774</td>\n",
       "      <td>0.325259</td>\n",
       "      <td>0.674741</td>\n",
       "      <td>1.000000</td>\n",
       "      <td>0.364507</td>\n",
       "      <td>0.632025</td>\n",
       "    </tr>\n",
       "    <tr>\n",
       "      <th>ADDR-Block</th>\n",
       "      <td>0.378425</td>\n",
       "      <td>0.446719</td>\n",
       "      <td>0.394504</td>\n",
       "      <td>0.350217</td>\n",
       "      <td>0.399181</td>\n",
       "      <td>0.483623</td>\n",
       "      <td>0.561811</td>\n",
       "      <td>0.368491</td>\n",
       "      <td>0.437673</td>\n",
       "      <td>0.541593</td>\n",
       "      <td>0.369758</td>\n",
       "      <td>0.410898</td>\n",
       "      <td>0.411362</td>\n",
       "      <td>0.370314</td>\n",
       "      <td>0.532806</td>\n",
       "      <td>0.467194</td>\n",
       "      <td>0.364507</td>\n",
       "      <td>1.000000</td>\n",
       "      <td>0.003468</td>\n",
       "    </tr>\n",
       "    <tr>\n",
       "      <th>ADDR-Intersection</th>\n",
       "      <td>0.624103</td>\n",
       "      <td>0.555786</td>\n",
       "      <td>0.608494</td>\n",
       "      <td>0.653171</td>\n",
       "      <td>0.603931</td>\n",
       "      <td>0.516830</td>\n",
       "      <td>0.436292</td>\n",
       "      <td>0.634908</td>\n",
       "      <td>0.564293</td>\n",
       "      <td>0.457129</td>\n",
       "      <td>0.633653</td>\n",
       "      <td>0.591469</td>\n",
       "      <td>0.591097</td>\n",
       "      <td>0.633131</td>\n",
       "      <td>0.466421</td>\n",
       "      <td>0.533579</td>\n",
       "      <td>0.632025</td>\n",
       "      <td>0.003468</td>\n",
       "      <td>1.000000</td>\n",
       "    </tr>\n",
       "  </tbody>\n",
       "</table>\n",
       "</div>"
      ],
      "text/plain": [
       "                    SEVERITYCODE  INATTENTIONIND  UNDERINFL  PEDROWNOTGRNT  \\\n",
       "SEVERITYCODE            1.000000        0.614771   0.650511       0.682589   \n",
       "INATTENTIONIND          0.614771        1.000000   0.791949       0.811014   \n",
       "UNDERINFL               0.650511        0.791949   1.000000       0.918843   \n",
       "PEDROWNOTGRNT           0.682589        0.811014   0.918843       1.000000   \n",
       "SPEEDING                0.648975        0.787133   0.906186       0.916711   \n",
       "Weekend                 0.517724        0.546855   0.588317       0.570615   \n",
       "Road-Dry                0.430766        0.367826   0.306726       0.296259   \n",
       "Road-Other              0.658674        0.833542   0.944925       0.970468   \n",
       "Road-Wet                0.569475        0.633034   0.694111       0.704681   \n",
       "Weather-Clear           0.455684        0.416006   0.375244       0.367310   \n",
       "Weather-Other           0.657270        0.830911   0.941376       0.966610   \n",
       "Weather-Overcast        0.606006        0.728298   0.803992       0.821452   \n",
       "Weather-Raining         0.601667        0.697785   0.775314       0.792098   \n",
       "Weather-Snowing         0.656117        0.830205   0.941359       0.966753   \n",
       "LightCond-Daylight      0.456011        0.404925   0.294092       0.335227   \n",
       "LightCond-Night         0.543989        0.595075   0.705908       0.664773   \n",
       "ADDR-Alley              0.656387        0.831896   0.942764       0.968020   \n",
       "ADDR-Block              0.378425        0.446719   0.394504       0.350217   \n",
       "ADDR-Intersection       0.624103        0.555786   0.608494       0.653171   \n",
       "\n",
       "                    SPEEDING   Weekend  Road-Dry  Road-Other  Road-Wet  \\\n",
       "SEVERITYCODE        0.648975  0.517724  0.430766    0.658674  0.569475   \n",
       "INATTENTIONIND      0.787133  0.546855  0.367826    0.833542  0.633034   \n",
       "UNDERINFL           0.906186  0.588317  0.306726    0.944925  0.694111   \n",
       "PEDROWNOTGRNT       0.916711  0.570615  0.296259    0.970468  0.704681   \n",
       "SPEEDING            1.000000  0.578824  0.281608    0.944099  0.718989   \n",
       "Weekend             0.578824  1.000000  0.456825    0.580119  0.543221   \n",
       "Road-Dry            0.281608  0.456825  1.000000    0.283935  0.000997   \n",
       "Road-Other          0.944099  0.580119  0.283935    1.000000  0.715068   \n",
       "Road-Wet            0.718989  0.543221  0.000997    0.715068  1.000000   \n",
       "Weather-Clear       0.355112  0.472789  0.873427    0.360271  0.126470   \n",
       "Weather-Other       0.940540  0.579426  0.286279    0.994090  0.714615   \n",
       "Weather-Overcast    0.804966  0.552811  0.314453    0.841148  0.686040   \n",
       "Weather-Raining     0.791456  0.556233  0.100280    0.807242  0.900465   \n",
       "Weather-Snowing     0.942013  0.579237  0.280358    0.994256  0.720605   \n",
       "LightCond-Daylight  0.325173  0.418912  0.646069    0.324771  0.353645   \n",
       "LightCond-Night     0.674827  0.581088  0.353931    0.675229  0.646355   \n",
       "ADDR-Alley          0.941583  0.579712  0.286830    0.995603  0.714099   \n",
       "ADDR-Block          0.399181  0.483623  0.561811    0.368491  0.437673   \n",
       "ADDR-Intersection   0.603931  0.516830  0.436292    0.634908  0.564293   \n",
       "\n",
       "                    Weather-Clear  Weather-Other  Weather-Overcast  \\\n",
       "SEVERITYCODE             0.455684       0.657270          0.606006   \n",
       "INATTENTIONIND           0.416006       0.830911          0.728298   \n",
       "UNDERINFL                0.375244       0.941376          0.803992   \n",
       "PEDROWNOTGRNT            0.367310       0.966610          0.821452   \n",
       "SPEEDING                 0.355112       0.940540          0.804966   \n",
       "Weekend                  0.472789       0.579426          0.552811   \n",
       "Road-Dry                 0.873427       0.286279          0.314453   \n",
       "Road-Other               0.360271       0.994090          0.841148   \n",
       "Road-Wet                 0.126470       0.714615          0.686040   \n",
       "Weather-Clear            1.000000       0.355152          0.201809   \n",
       "Weather-Other            0.355152       1.000000          0.836626   \n",
       "Weather-Overcast         0.201809       0.836626          1.000000   \n",
       "Weather-Raining          0.168155       0.802972          0.649629   \n",
       "Weather-Snowing          0.355387       0.990204          0.836861   \n",
       "LightCond-Daylight       0.610340       0.324490          0.376820   \n",
       "LightCond-Night          0.389660       0.675510          0.623180   \n",
       "ADDR-Alley               0.361446       0.991574          0.839274   \n",
       "ADDR-Block               0.541593       0.369758          0.410898   \n",
       "ADDR-Intersection        0.457129       0.633653          0.591469   \n",
       "\n",
       "                    Weather-Raining  Weather-Snowing  LightCond-Daylight  \\\n",
       "SEVERITYCODE               0.601667         0.656117            0.456011   \n",
       "INATTENTIONIND             0.697785         0.830205            0.404925   \n",
       "UNDERINFL                  0.775314         0.941359            0.294092   \n",
       "PEDROWNOTGRNT              0.792098         0.966753            0.335227   \n",
       "SPEEDING                   0.791456         0.942013            0.325173   \n",
       "Weekend                    0.556233         0.579237            0.418912   \n",
       "Road-Dry                   0.100280         0.280358            0.646069   \n",
       "Road-Other                 0.807242         0.994256            0.324771   \n",
       "Road-Wet                   0.900465         0.720605            0.353645   \n",
       "Weather-Clear              0.168155         0.355387            0.610340   \n",
       "Weather-Other              0.802972         0.990204            0.324490   \n",
       "Weather-Overcast           0.649629         0.836861            0.376820   \n",
       "Weather-Raining            1.000000         0.803207            0.337996   \n",
       "Weather-Snowing            0.803207         1.000000            0.323808   \n",
       "LightCond-Daylight         0.337996         0.323808            1.000000   \n",
       "LightCond-Night            0.662004         0.676192            0.000000   \n",
       "ADDR-Alley                 0.805528         0.991774            0.325259   \n",
       "ADDR-Block                 0.411362         0.370314            0.532806   \n",
       "ADDR-Intersection          0.591097         0.633131            0.466421   \n",
       "\n",
       "                    LightCond-Night  ADDR-Alley  ADDR-Block  ADDR-Intersection  \n",
       "SEVERITYCODE               0.543989    0.656387    0.378425           0.624103  \n",
       "INATTENTIONIND             0.595075    0.831896    0.446719           0.555786  \n",
       "UNDERINFL                  0.705908    0.942764    0.394504           0.608494  \n",
       "PEDROWNOTGRNT              0.664773    0.968020    0.350217           0.653171  \n",
       "SPEEDING                   0.674827    0.941583    0.399181           0.603931  \n",
       "Weekend                    0.581088    0.579712    0.483623           0.516830  \n",
       "Road-Dry                   0.353931    0.286830    0.561811           0.436292  \n",
       "Road-Other                 0.675229    0.995603    0.368491           0.634908  \n",
       "Road-Wet                   0.646355    0.714099    0.437673           0.564293  \n",
       "Weather-Clear              0.389660    0.361446    0.541593           0.457129  \n",
       "Weather-Other              0.675510    0.991574    0.369758           0.633653  \n",
       "Weather-Overcast           0.623180    0.839274    0.410898           0.591469  \n",
       "Weather-Raining            0.662004    0.805528    0.411362           0.591097  \n",
       "Weather-Snowing            0.676192    0.991774    0.370314           0.633131  \n",
       "LightCond-Daylight         0.000000    0.325259    0.532806           0.466421  \n",
       "LightCond-Night            1.000000    0.674741    0.467194           0.533579  \n",
       "ADDR-Alley                 0.674741    1.000000    0.364507           0.632025  \n",
       "ADDR-Block                 0.467194    0.364507    1.000000           0.003468  \n",
       "ADDR-Intersection          0.533579    0.632025    0.003468           1.000000  "
      ]
     },
     "execution_count": 56,
     "metadata": {},
     "output_type": "execute_result"
    }
   ],
   "source": [
    "ham_sim = 1 - pairwise_distances(modeldf.T, metric = \"hamming\")\n",
    "ham_sim = pd.DataFrame(ham_sim, index=modeldf.columns, columns=modeldf.columns)\n",
    "ham_sim"
   ]
  },
  {
   "cell_type": "markdown",
   "metadata": {
    "heading_collapsed": true
   },
   "source": [
    "# **4. Modelling**"
   ]
  },
  {
   "cell_type": "markdown",
   "metadata": {
    "heading_collapsed": true,
    "hidden": true
   },
   "source": [
    "## **4.1 Define Features**"
   ]
  },
  {
   "cell_type": "code",
   "execution_count": 57,
   "metadata": {
    "hidden": true
   },
   "outputs": [
    {
     "data": {
      "text/html": [
       "<div>\n",
       "<style scoped>\n",
       "    .dataframe tbody tr th:only-of-type {\n",
       "        vertical-align: middle;\n",
       "    }\n",
       "\n",
       "    .dataframe tbody tr th {\n",
       "        vertical-align: top;\n",
       "    }\n",
       "\n",
       "    .dataframe thead th {\n",
       "        text-align: right;\n",
       "    }\n",
       "</style>\n",
       "<table border=\"1\" class=\"dataframe\">\n",
       "  <thead>\n",
       "    <tr style=\"text-align: right;\">\n",
       "      <th></th>\n",
       "      <th>0</th>\n",
       "      <th>1</th>\n",
       "      <th>2</th>\n",
       "      <th>3</th>\n",
       "      <th>6</th>\n",
       "    </tr>\n",
       "  </thead>\n",
       "  <tbody>\n",
       "    <tr>\n",
       "      <th>SEVERITYCODE</th>\n",
       "      <td>1</td>\n",
       "      <td>1</td>\n",
       "      <td>0</td>\n",
       "      <td>0</td>\n",
       "      <td>0</td>\n",
       "    </tr>\n",
       "    <tr>\n",
       "      <th>INATTENTIONIND</th>\n",
       "      <td>0</td>\n",
       "      <td>0</td>\n",
       "      <td>0</td>\n",
       "      <td>0</td>\n",
       "      <td>0</td>\n",
       "    </tr>\n",
       "    <tr>\n",
       "      <th>UNDERINFL</th>\n",
       "      <td>0</td>\n",
       "      <td>0</td>\n",
       "      <td>0</td>\n",
       "      <td>0</td>\n",
       "      <td>0</td>\n",
       "    </tr>\n",
       "    <tr>\n",
       "      <th>PEDROWNOTGRNT</th>\n",
       "      <td>1</td>\n",
       "      <td>0</td>\n",
       "      <td>0</td>\n",
       "      <td>0</td>\n",
       "      <td>0</td>\n",
       "    </tr>\n",
       "    <tr>\n",
       "      <th>SPEEDING</th>\n",
       "      <td>0</td>\n",
       "      <td>0</td>\n",
       "      <td>0</td>\n",
       "      <td>0</td>\n",
       "      <td>0</td>\n",
       "    </tr>\n",
       "    <tr>\n",
       "      <th>Weekend</th>\n",
       "      <td>0</td>\n",
       "      <td>0</td>\n",
       "      <td>0</td>\n",
       "      <td>0</td>\n",
       "      <td>1</td>\n",
       "    </tr>\n",
       "    <tr>\n",
       "      <th>Road-Dry</th>\n",
       "      <td>1</td>\n",
       "      <td>0</td>\n",
       "      <td>1</td>\n",
       "      <td>0</td>\n",
       "      <td>1</td>\n",
       "    </tr>\n",
       "    <tr>\n",
       "      <th>Road-Other</th>\n",
       "      <td>0</td>\n",
       "      <td>0</td>\n",
       "      <td>0</td>\n",
       "      <td>0</td>\n",
       "      <td>0</td>\n",
       "    </tr>\n",
       "    <tr>\n",
       "      <th>Road-Wet</th>\n",
       "      <td>0</td>\n",
       "      <td>1</td>\n",
       "      <td>0</td>\n",
       "      <td>1</td>\n",
       "      <td>0</td>\n",
       "    </tr>\n",
       "    <tr>\n",
       "      <th>Weather-Clear</th>\n",
       "      <td>1</td>\n",
       "      <td>0</td>\n",
       "      <td>1</td>\n",
       "      <td>0</td>\n",
       "      <td>1</td>\n",
       "    </tr>\n",
       "    <tr>\n",
       "      <th>Weather-Other</th>\n",
       "      <td>0</td>\n",
       "      <td>0</td>\n",
       "      <td>0</td>\n",
       "      <td>0</td>\n",
       "      <td>0</td>\n",
       "    </tr>\n",
       "    <tr>\n",
       "      <th>Weather-Overcast</th>\n",
       "      <td>0</td>\n",
       "      <td>0</td>\n",
       "      <td>0</td>\n",
       "      <td>0</td>\n",
       "      <td>0</td>\n",
       "    </tr>\n",
       "    <tr>\n",
       "      <th>Weather-Raining</th>\n",
       "      <td>0</td>\n",
       "      <td>1</td>\n",
       "      <td>0</td>\n",
       "      <td>1</td>\n",
       "      <td>0</td>\n",
       "    </tr>\n",
       "    <tr>\n",
       "      <th>Weather-Snowing</th>\n",
       "      <td>0</td>\n",
       "      <td>0</td>\n",
       "      <td>0</td>\n",
       "      <td>0</td>\n",
       "      <td>0</td>\n",
       "    </tr>\n",
       "    <tr>\n",
       "      <th>LightCond-Daylight</th>\n",
       "      <td>1</td>\n",
       "      <td>0</td>\n",
       "      <td>1</td>\n",
       "      <td>0</td>\n",
       "      <td>0</td>\n",
       "    </tr>\n",
       "    <tr>\n",
       "      <th>LightCond-Night</th>\n",
       "      <td>0</td>\n",
       "      <td>1</td>\n",
       "      <td>0</td>\n",
       "      <td>1</td>\n",
       "      <td>1</td>\n",
       "    </tr>\n",
       "    <tr>\n",
       "      <th>ADDR-Alley</th>\n",
       "      <td>0</td>\n",
       "      <td>0</td>\n",
       "      <td>0</td>\n",
       "      <td>0</td>\n",
       "      <td>0</td>\n",
       "    </tr>\n",
       "    <tr>\n",
       "      <th>ADDR-Block</th>\n",
       "      <td>0</td>\n",
       "      <td>0</td>\n",
       "      <td>1</td>\n",
       "      <td>0</td>\n",
       "      <td>1</td>\n",
       "    </tr>\n",
       "    <tr>\n",
       "      <th>ADDR-Intersection</th>\n",
       "      <td>1</td>\n",
       "      <td>1</td>\n",
       "      <td>0</td>\n",
       "      <td>1</td>\n",
       "      <td>0</td>\n",
       "    </tr>\n",
       "  </tbody>\n",
       "</table>\n",
       "</div>"
      ],
      "text/plain": [
       "                    0  1  2  3  6\n",
       "SEVERITYCODE        1  1  0  0  0\n",
       "INATTENTIONIND      0  0  0  0  0\n",
       "UNDERINFL           0  0  0  0  0\n",
       "PEDROWNOTGRNT       1  0  0  0  0\n",
       "SPEEDING            0  0  0  0  0\n",
       "Weekend             0  0  0  0  1\n",
       "Road-Dry            1  0  1  0  1\n",
       "Road-Other          0  0  0  0  0\n",
       "Road-Wet            0  1  0  1  0\n",
       "Weather-Clear       1  0  1  0  1\n",
       "Weather-Other       0  0  0  0  0\n",
       "Weather-Overcast    0  0  0  0  0\n",
       "Weather-Raining     0  1  0  1  0\n",
       "Weather-Snowing     0  0  0  0  0\n",
       "LightCond-Daylight  1  0  1  0  0\n",
       "LightCond-Night     0  1  0  1  1\n",
       "ADDR-Alley          0  0  0  0  0\n",
       "ADDR-Block          0  0  1  0  1\n",
       "ADDR-Intersection   1  1  0  1  0"
      ]
     },
     "execution_count": 57,
     "metadata": {},
     "output_type": "execute_result"
    }
   ],
   "source": [
    "modeldf.head().T"
   ]
  },
  {
   "cell_type": "code",
   "execution_count": 58,
   "metadata": {
    "hidden": true
   },
   "outputs": [
    {
     "data": {
      "text/plain": [
       "Index(['SEVERITYCODE', 'INATTENTIONIND', 'UNDERINFL', 'PEDROWNOTGRNT',\n",
       "       'SPEEDING', 'Weekend', 'Road-Dry', 'Road-Other', 'Road-Wet',\n",
       "       'Weather-Clear', 'Weather-Other', 'Weather-Overcast', 'Weather-Raining',\n",
       "       'Weather-Snowing', 'LightCond-Daylight', 'LightCond-Night',\n",
       "       'ADDR-Alley', 'ADDR-Block', 'ADDR-Intersection'],\n",
       "      dtype='object')"
      ]
     },
     "execution_count": 58,
     "metadata": {},
     "output_type": "execute_result"
    }
   ],
   "source": [
    "modeldf.columns"
   ]
  },
  {
   "cell_type": "code",
   "execution_count": 59,
   "metadata": {
    "hidden": true
   },
   "outputs": [],
   "source": [
    "X = modeldf[['INATTENTIONIND', 'UNDERINFL', 'PEDROWNOTGRNT',\n",
    "       'SPEEDING', 'Weekend', 'Road-Dry', 'Road-Other', 'Road-Wet',\n",
    "       'Weather-Clear', 'Weather-Other', 'Weather-Overcast', 'Weather-Raining',\n",
    "       'Weather-Snowing', 'LightCond-Daylight', 'LightCond-Night',\n",
    "       'ADDR-Alley', 'ADDR-Block', 'ADDR-Intersection']]\n",
    "y = modeldf['SEVERITYCODE'].values"
   ]
  },
  {
   "cell_type": "markdown",
   "metadata": {
    "heading_collapsed": true,
    "hidden": true
   },
   "source": [
    "## **4.2 Develop Test & Train sets**"
   ]
  },
  {
   "cell_type": "code",
   "execution_count": 60,
   "metadata": {
    "hidden": true
   },
   "outputs": [],
   "source": [
    "# Split into Test & Train sets, (20% test)"
   ]
  },
  {
   "cell_type": "code",
   "execution_count": 61,
   "metadata": {
    "hidden": true
   },
   "outputs": [
    {
     "name": "stdout",
     "output_type": "stream",
     "text": [
      "Train set: (139561, 18) (139561,)\n",
      "y_train frequency counts:  [0 1] [91822 47739]\n",
      "Test set: (34891, 18) (34891,)\n",
      "y_test frequency counts:  [0 1] [23127 11764]\n"
     ]
    }
   ],
   "source": [
    "X_train, X_test, y_train, y_test = train_test_split( X, y, test_size=0.2, random_state=4)\n",
    "print ('Train set:', X_train.shape,  y_train.shape)\n",
    "TrainUniqueValues, TrainOccurCount = np.unique(y_train, return_counts=True)\n",
    "print('y_train frequency counts: ',TrainUniqueValues, TrainOccurCount)\n",
    "print ('Test set:', X_test.shape,  y_test.shape)\n",
    "TestUniqueValues, TestOccurCount = np.unique(y_test, return_counts=True)\n",
    "print('y_test frequency counts: ',TestUniqueValues, TestOccurCount)"
   ]
  },
  {
   "cell_type": "markdown",
   "metadata": {
    "heading_collapsed": true,
    "hidden": true
   },
   "source": [
    "## **4.3 Balance dataset**"
   ]
  },
  {
   "cell_type": "markdown",
   "metadata": {
    "hidden": true
   },
   "source": [
    "3 methods:\n",
    "- Oversample minority class (SEVERITYCODE = 1)\n",
    "- Undersample majority class (SEVERITYCODE = 0)\n",
    "- Generate synthetic sample using SMOTE"
   ]
  },
  {
   "cell_type": "markdown",
   "metadata": {
    "heading_collapsed": true,
    "hidden": true
   },
   "source": [
    "### **4.3.1 Oversample minority class**"
   ]
  },
  {
   "cell_type": "code",
   "execution_count": 62,
   "metadata": {
    "hidden": true
   },
   "outputs": [
    {
     "name": "stdout",
     "output_type": "stream",
     "text": [
      "Oversampled set: (183644, 18) (183644,)\n",
      "y_train_over frequency counts:  [0 1] [91822 91822]\n"
     ]
    }
   ],
   "source": [
    "oversample = RandomOverSampler(sampling_strategy='minority')\n",
    "X_train_over, y_train_over = oversample.fit_resample(X_train, y_train)\n",
    "# summarize class distribution\n",
    "print ('Oversampled set:', X_train_over.shape,  y_train_over.shape)\n",
    "OverUniqueValues, OverOccurCount = np.unique(y_train_over, return_counts=True)\n",
    "print('y_train_over frequency counts: ',OverUniqueValues, OverOccurCount)"
   ]
  },
  {
   "cell_type": "markdown",
   "metadata": {
    "heading_collapsed": true,
    "hidden": true
   },
   "source": [
    "### **4.3.2 Undersample majority class**"
   ]
  },
  {
   "cell_type": "code",
   "execution_count": 63,
   "metadata": {
    "hidden": true
   },
   "outputs": [
    {
     "name": "stdout",
     "output_type": "stream",
     "text": [
      "Undersampled set: (95478, 18) (95478,)\n",
      "y_train_under frequency counts:  [0 1] [47739 47739]\n"
     ]
    }
   ],
   "source": [
    "undersample = RandomUnderSampler(sampling_strategy='majority')\n",
    "X_train_under, y_train_under = undersample.fit_resample(X_train, y_train)\n",
    "# summarize class distribution\n",
    "print ('Undersampled set:', X_train_under.shape,  y_train_under.shape)\n",
    "UnderUniqueValues, UnderOccurCount = np.unique(y_train_under, return_counts=True)\n",
    "print('y_train_under frequency counts: ',UnderUniqueValues, UnderOccurCount)"
   ]
  },
  {
   "cell_type": "markdown",
   "metadata": {
    "heading_collapsed": true,
    "hidden": true
   },
   "source": [
    "### **4.3.3 Generate synthetic sample using SMOTE**"
   ]
  },
  {
   "cell_type": "code",
   "execution_count": 64,
   "metadata": {
    "hidden": true
   },
   "outputs": [
    {
     "name": "stdout",
     "output_type": "stream",
     "text": [
      "Oversampled set: (183644, 18) (183644,)\n",
      "y_train_res frequency counts:  [0 1] [91822 91822]\n"
     ]
    }
   ],
   "source": [
    "sm = SMOTE(random_state=42)\n",
    "X_train_res, y_train_res = sm.fit_sample(X_train, y_train.ravel())\n",
    "# summarize class distribution\n",
    "print('Oversampled set:', X_train_res.shape, y_train_res.shape)\n",
    "ResUniqueValues, ResOccurCount = np.unique(y_train_res, return_counts=True)\n",
    "print('y_train_res frequency counts: ',OverUniqueValues, OverOccurCount)"
   ]
  },
  {
   "cell_type": "markdown",
   "metadata": {
    "heading_collapsed": true,
    "hidden": true
   },
   "source": [
    "## **4.4 Model development**"
   ]
  },
  {
   "cell_type": "markdown",
   "metadata": {
    "hidden": true
   },
   "source": [
    "### **4.4.1 KNN**"
   ]
  },
  {
   "cell_type": "markdown",
   "metadata": {
    "hidden": true
   },
   "source": [
    "KNN was run to provide a comparison F1 score to the other algorithms. Howver, it will not be used even if it provides the best performance, as there seems to be (based on my research) no easy way to evaluate feature importance (one of the key obejctives for this project)."
   ]
  },
  {
   "cell_type": "code",
   "execution_count": 65,
   "metadata": {
    "hidden": true
   },
   "outputs": [],
   "source": [
    "# Identify optimal Sample Balancing Strategy by comparing F1 Scores for each of the 4 training sets "
   ]
  },
  {
   "cell_type": "code",
   "execution_count": 66,
   "metadata": {
    "hidden": true
   },
   "outputs": [
    {
     "data": {
      "image/png": "[encoded data removed]",
      "text/plain": [
       "<Figure size 432x288 with 1 Axes>"
      ]
     },
     "metadata": {},
     "output_type": "display_data"
    },
    {
     "name": "stdout",
     "output_type": "stream",
     "text": [
      "The best accuracy was with 0.6820096873119142 with k= 8\n",
      "Original KNN Jaccard =  0.19496084439904665\n",
      "Original KNN F1 Score =  0.6228360232501389\n"
     ]
    }
   ],
   "source": [
    "# KNN on Original (unbalanced) train set\n",
    "Ks = 12\n",
    "Origmean_acc = np.zeros((Ks-1))\n",
    "Origstd_acc = np.zeros((Ks-1))\n",
    "OrigConfustionMx = [];\n",
    "for n in range(1,Ks):\n",
    "    Origneigh = KNeighborsClassifier(n_neighbors = n).fit(X_train,y_train)\n",
    "    OrigKNNyhat=Origneigh.predict(X_test)\n",
    "    Origmean_acc[n-1] = metrics.accuracy_score(y_test, OrigKNNyhat)\n",
    "    Origstd_acc[n-1]=np.std(OrigKNNyhat==y_test)/np.sqrt(OrigKNNyhat.shape[0])\n",
    "# Plot K\n",
    "plt.plot(range(1,Ks),Origmean_acc,'g')\n",
    "plt.fill_between(range(1,Ks),Origmean_acc - 1 * Origstd_acc,Origmean_acc + 1 * Origstd_acc, alpha=0.10)\n",
    "plt.legend(('Accuracy ', '+/- 3xstd'))\n",
    "plt.ylabel('Accuracy ')\n",
    "plt.xlabel('Number of Nabors (K)')\n",
    "plt.tight_layout()\n",
    "plt.show()\n",
    "print( \"The best accuracy was with\", Origmean_acc.max(), \"with k=\", Origmean_acc.argmax()+1)\n",
    "#Best KNN\n",
    "Origneigh = KNeighborsClassifier(n_neighbors=Origmean_acc.argmax()+1).fit(X_train, y_train)\n",
    "# Store metrics\n",
    "OrigKNN_Jaccard = jaccard_score(y_test, OrigKNNyhat)\n",
    "OrigKNN_F1 = f1_score(y_test, OrigKNNyhat, average='weighted')\n",
    "# Print Metrics\n",
    "print( \"Original KNN Jaccard = \", OrigKNN_Jaccard)\n",
    "print( \"Original KNN F1 Score = \",OrigKNN_F1)"
   ]
  },
  {
   "cell_type": "code",
   "execution_count": 67,
   "metadata": {
    "hidden": true
   },
   "outputs": [
    {
     "data": {
      "image/png": "[encoded data removed]",
      "text/plain": [
       "<Figure size 432x288 with 1 Axes>"
      ]
     },
     "metadata": {},
     "output_type": "display_data"
    },
    {
     "name": "stdout",
     "output_type": "stream",
     "text": [
      "The best accuracy was with 0.6738413917629188 with k= 8\n",
      "Oversampled KNN Jaccard =  0.16148892505838228\n",
      "Oversampled KNN F1 Score =  0.6094287692747514\n"
     ]
    }
   ],
   "source": [
    "# KNN on OVERSAMPLED train set\n",
    "Ks = 12\n",
    "Overmean_acc = np.zeros((Ks-1))\n",
    "Overstd_acc = np.zeros((Ks-1))\n",
    "OverConfustionMx = [];\n",
    "for n in range(1,Ks):\n",
    "    Overneigh = KNeighborsClassifier(n_neighbors = n).fit(X_train_over,y_train_over)\n",
    "    OverKNNyhat=Overneigh.predict(X_test)\n",
    "    Overmean_acc[n-1] = metrics.accuracy_score(y_test, OverKNNyhat)\n",
    "    Overstd_acc[n-1]=np.std(OverKNNyhat==y_test)/np.sqrt(OverKNNyhat.shape[0])\n",
    "# Plot K\n",
    "plt.plot(range(1,Ks),Overmean_acc,'g')\n",
    "plt.fill_between(range(1,Ks),Overmean_acc - 1 * Overstd_acc,Overmean_acc + 1 * Overstd_acc, alpha=0.10)\n",
    "plt.legend(('Accuracy ', '+/- 3xstd'))\n",
    "plt.ylabel('Accuracy ')\n",
    "plt.xlabel('Number of Nabors (K)')\n",
    "plt.tight_layout()\n",
    "plt.show()\n",
    "print( \"The best accuracy was with\", Overmean_acc.max(), \"with k=\", Overmean_acc.argmax()+1)\n",
    "#Best KNN\n",
    "Overneigh = KNeighborsClassifier(n_neighbors=Overmean_acc.argmax()+1).fit(X_train_over, y_train_over)\n",
    "# Store metrics\n",
    "OverKNN_Jaccard = jaccard_score(y_test, OverKNNyhat)\n",
    "OverKNN_F1 = f1_score(y_test, OverKNNyhat, average='weighted')\n",
    "# Print Metrics\n",
    "print( \"Oversampled KNN Jaccard = \", OverKNN_Jaccard)\n",
    "print( \"Oversampled KNN F1 Score = \",OverKNN_F1)"
   ]
  },
  {
   "cell_type": "code",
   "execution_count": 68,
   "metadata": {
    "hidden": true
   },
   "outputs": [
    {
     "data": {
      "image/png": "[encoded data removed]",
      "text/plain": [
       "<Figure size 432x288 with 1 Axes>"
      ]
     },
     "metadata": {},
     "output_type": "display_data"
    },
    {
     "name": "stdout",
     "output_type": "stream",
     "text": [
      "The best accuracy was with 0.6642687225932189 with k= 9\n",
      "Undersampled KNN Jaccard =  0.08397721064543823\n",
      "Undersampled KNN F1 Score =  0.575887648206742\n"
     ]
    }
   ],
   "source": [
    "# KNN on UNDERSAMPLED train set\n",
    "Ks = 12\n",
    "Undermean_acc = np.zeros((Ks-1))\n",
    "Understd_acc = np.zeros((Ks-1))\n",
    "UnderConfustionMx = [];\n",
    "for n in range(1,Ks):\n",
    "    Underneigh = KNeighborsClassifier(n_neighbors = n).fit(X_train_under,y_train_under)\n",
    "    UnderKNNyhat=Underneigh.predict(X_test)\n",
    "    Undermean_acc[n-1] = metrics.accuracy_score(y_test, UnderKNNyhat)\n",
    "    Understd_acc[n-1]=np.std(UnderKNNyhat==y_test)/np.sqrt(UnderKNNyhat.shape[0])\n",
    "# Plot K\n",
    "plt.plot(range(1,Ks),Undermean_acc,'g')\n",
    "plt.fill_between(range(1,Ks),Undermean_acc - 1 * Understd_acc,Undermean_acc + 1 * Understd_acc, alpha=0.10)\n",
    "plt.legend(('Accuracy ', '+/- 3xstd'))\n",
    "plt.ylabel('Accuracy ')\n",
    "plt.xlabel('Number of Nabors (K)')\n",
    "plt.tight_layout()\n",
    "plt.show()\n",
    "print( \"The best accuracy was with\", Undermean_acc.max(), \"with k=\", Undermean_acc.argmax()+1)\n",
    "#Best KNN\n",
    "Underneigh = KNeighborsClassifier(n_neighbors=Undermean_acc.argmax()+1).fit(X_train_under, y_train_under)\n",
    "# Store metrics\n",
    "UnderKNN_Jaccard = jaccard_score(y_test, UnderKNNyhat)\n",
    "UnderKNN_F1 = f1_score(y_test, UnderKNNyhat, average='weighted')\n",
    "# Print Metrics\n",
    "print( \"Undersampled KNN Jaccard = \", UnderKNN_Jaccard)\n",
    "print( \"Undersampled KNN F1 Score = \",UnderKNN_F1)"
   ]
  },
  {
   "cell_type": "code",
   "execution_count": 69,
   "metadata": {
    "hidden": true
   },
   "outputs": [
    {
     "data": {
      "image/png": "[encoded data removed]",
      "text/plain": [
       "<Figure size 432x288 with 1 Axes>"
      ]
     },
     "metadata": {},
     "output_type": "display_data"
    },
    {
     "name": "stdout",
     "output_type": "stream",
     "text": [
      "The best accuracy was with 0.6613166719211258 with k= 6\n",
      "SMOTE upsampled KNN Jaccard =  0.17602659095630496\n",
      "SMOTE upsampled KNN F1 Score =  0.6143892041413679\n"
     ]
    }
   ],
   "source": [
    "# KNN on SMOTE upsampled train set\n",
    "Ks = 12\n",
    "SMOTEmean_acc = np.zeros((Ks-1))\n",
    "SMOTEstd_acc = np.zeros((Ks-1))\n",
    "SMOTEConfustionMx = [];\n",
    "for n in range(1,Ks):\n",
    "    SMOTEneigh = KNeighborsClassifier(n_neighbors = n).fit(X_train_res,y_train_res)\n",
    "    SMOTEKNNyhat=SMOTEneigh.predict(X_test)\n",
    "    SMOTEmean_acc[n-1] = metrics.accuracy_score(y_test, SMOTEKNNyhat)\n",
    "    SMOTEstd_acc[n-1]=np.std(SMOTEKNNyhat==y_test)/np.sqrt(SMOTEKNNyhat.shape[0])\n",
    "# Plot K\n",
    "plt.plot(range(1,Ks),SMOTEmean_acc,'g')\n",
    "plt.fill_between(range(1,Ks),SMOTEmean_acc - 1 * SMOTEstd_acc,SMOTEmean_acc + 1 * SMOTEstd_acc, alpha=0.10)\n",
    "plt.legend(('Accuracy ', '+/- 3xstd'))\n",
    "plt.ylabel('Accuracy ')\n",
    "plt.xlabel('Number of Nabors (K)')\n",
    "plt.tight_layout()\n",
    "plt.show()\n",
    "print( \"The best accuracy was with\", SMOTEmean_acc.max(), \"with k=\", SMOTEmean_acc.argmax()+1)\n",
    "#Best KNN\n",
    "SMOTEneigh = KNeighborsClassifier(n_neighbors=SMOTEmean_acc.argmax()+1).fit(X_train_res, y_train_res)\n",
    "# Store metrics\n",
    "SMOTEKNN_Jaccard = jaccard_score(y_test, SMOTEKNNyhat)\n",
    "SMOTEKNN_F1 = f1_score(y_test, SMOTEKNNyhat, average='weighted')\n",
    "# Print Metrics\n",
    "print( \"SMOTE upsampled KNN Jaccard = \", SMOTEKNN_Jaccard)\n",
    "print( \"SMOTE upsampled KNN F1 Score = \",SMOTEKNN_F1)"
   ]
  },
  {
   "cell_type": "code",
   "execution_count": 70,
   "metadata": {
    "hidden": true
   },
   "outputs": [
    {
     "data": {
      "text/html": [
       "<div>\n",
       "<style scoped>\n",
       "    .dataframe tbody tr th:only-of-type {\n",
       "        vertical-align: middle;\n",
       "    }\n",
       "\n",
       "    .dataframe tbody tr th {\n",
       "        vertical-align: top;\n",
       "    }\n",
       "\n",
       "    .dataframe thead th {\n",
       "        text-align: right;\n",
       "    }\n",
       "</style>\n",
       "<table border=\"1\" class=\"dataframe\">\n",
       "  <thead>\n",
       "    <tr style=\"text-align: right;\">\n",
       "      <th>Scores by Sample</th>\n",
       "      <th>Jaccard Score</th>\n",
       "      <th>F1 Score</th>\n",
       "    </tr>\n",
       "  </thead>\n",
       "  <tbody>\n",
       "    <tr>\n",
       "      <th>Original / Imbalanced</th>\n",
       "      <td>0.194961</td>\n",
       "      <td>0.622836</td>\n",
       "    </tr>\n",
       "    <tr>\n",
       "      <th>Oversampled</th>\n",
       "      <td>0.161489</td>\n",
       "      <td>0.609429</td>\n",
       "    </tr>\n",
       "    <tr>\n",
       "      <th>Undersampled</th>\n",
       "      <td>0.083977</td>\n",
       "      <td>0.575888</td>\n",
       "    </tr>\n",
       "    <tr>\n",
       "      <th>SMOTE</th>\n",
       "      <td>0.176027</td>\n",
       "      <td>0.614389</td>\n",
       "    </tr>\n",
       "  </tbody>\n",
       "</table>\n",
       "</div>"
      ],
      "text/plain": [
       "Scores by Sample       Jaccard Score  F1 Score\n",
       "Original / Imbalanced       0.194961  0.622836\n",
       "Oversampled                 0.161489  0.609429\n",
       "Undersampled                0.083977  0.575888\n",
       "SMOTE                       0.176027  0.614389"
      ]
     },
     "execution_count": 70,
     "metadata": {},
     "output_type": "execute_result"
    }
   ],
   "source": [
    "#Create a list of results then insert into df\n",
    "list_KNNjac = [OrigKNN_Jaccard, OverKNN_Jaccard, UnderKNN_Jaccard, SMOTEKNN_Jaccard]\n",
    "list_KNNf1 = [OrigKNN_F1, OverKNN_F1, UnderKNN_F1, SMOTEKNN_F1]\n",
    "\n",
    "#Insert into df\n",
    "KNNresdf = pd.DataFrame(list_KNNjac, index=['Original / Imbalanced','Oversampled','Undersampled','SMOTE'])\n",
    "KNNresdf.columns = ['Jaccard Score']\n",
    "KNNresdf.insert(loc=1, column='F1 Score', value=list_KNNf1)\n",
    "\n",
    "KNNresdf.columns.name = 'Scores by Sample'\n",
    "KNNresdf"
   ]
  },
  {
   "cell_type": "code",
   "execution_count": 71,
   "metadata": {
    "hidden": true
   },
   "outputs": [],
   "source": [
    "# KNN with the Original (Unbalanced) training set performs best on F1 Score (0.6228)"
   ]
  },
  {
   "cell_type": "markdown",
   "metadata": {
    "heading_collapsed": true,
    "hidden": true
   },
   "source": [
    "### **4.4.2 SVM**"
   ]
  },
  {
   "cell_type": "code",
   "execution_count": 72,
   "metadata": {
    "hidden": true
   },
   "outputs": [],
   "source": [
    "# Identify optimal Sample Balancing Strategy by comparing F1 Scores for each of the 4 training sets "
   ]
  },
  {
   "cell_type": "code",
   "execution_count": 73,
   "metadata": {
    "hidden": true
   },
   "outputs": [
    {
     "name": "stdout",
     "output_type": "stream",
     "text": [
      "Original SVM-rbf Jaccard =  0.09836606700775706\n",
      "Original SVM-rbf F1 Score =  0.5949832794428399\n"
     ]
    }
   ],
   "source": [
    "# SVM using RBF kernel on Original (unbalanced) train set\n",
    "ORIGrbf_clf = svm.SVC(kernel='rbf')\n",
    "ORIGrbf_clf.fit(X_train, y_train)\n",
    "ORIGrbf_svm = ORIGrbf_clf.predict(X_test)\n",
    "# Store Metrics\n",
    "OrigRBFsvm_Jaccard = jaccard_score(y_test, ORIGrbf_svm)\n",
    "OrigRBFsvm_F1 = f1_score(y_test, ORIGrbf_svm, average='weighted')\n",
    "# Print Metrics\n",
    "print( \"Original SVM-rbf Jaccard = \", OrigRBFsvm_Jaccard)\n",
    "print( \"Original SVM-rbf F1 Score = \",OrigRBFsvm_F1)"
   ]
  },
  {
   "cell_type": "code",
   "execution_count": 74,
   "metadata": {
    "hidden": true
   },
   "outputs": [
    {
     "name": "stdout",
     "output_type": "stream",
     "text": [
      "OVERSAMPLED SVM-rbf Jaccard =  0.33438380365754666\n",
      "OVERSAMPLED SVM-rbf F1 Score =  0.6109552543423531\n"
     ]
    }
   ],
   "source": [
    "# SVM using RBF kernel on OVERSAMPLED train set\n",
    "OVERrbf_clf = svm.SVC(kernel='rbf')\n",
    "OVERrbf_clf.fit(X_train_over, y_train_over)\n",
    "OVERrbf_svm = OVERrbf_clf.predict(X_test)\n",
    "# Store Metrics\n",
    "OVERRBFsvm_Jaccard = jaccard_score(y_test, OVERrbf_svm)\n",
    "OVERRBFsvm_F1 = f1_score(y_test, OVERrbf_svm, average='weighted')\n",
    "# Print Metrics\n",
    "print( \"OVERSAMPLED SVM-rbf Jaccard = \", OVERRBFsvm_Jaccard)\n",
    "print( \"OVERSAMPLED SVM-rbf F1 Score = \",OVERRBFsvm_F1)"
   ]
  },
  {
   "cell_type": "code",
   "execution_count": 75,
   "metadata": {
    "hidden": true
   },
   "outputs": [
    {
     "name": "stdout",
     "output_type": "stream",
     "text": [
      "UNDERSAMPLED SVM-rbf Jaccard =  0.32773488418730573\n",
      "UNDERSAMPLED SVM-rbf F1 Score =  0.6240158509762439\n"
     ]
    }
   ],
   "source": [
    "# SVM using RBF kernel on UNDERSAMPLED train set\n",
    "UNDERrbf_clf = svm.SVC(kernel='rbf')\n",
    "UNDERrbf_clf.fit(X_train_under, y_train_under)\n",
    "UNDERrbf_svm = UNDERrbf_clf.predict(X_test)\n",
    "# Store Metrics\n",
    "UNDERRBFsvm_Jaccard = jaccard_score(y_test, UNDERrbf_svm)\n",
    "UNDERRBFsvm_F1 = f1_score(y_test, UNDERrbf_svm, average='weighted')\n",
    "# Print Metrics\n",
    "print( \"UNDERSAMPLED SVM-rbf Jaccard = \", UNDERRBFsvm_Jaccard)\n",
    "print( \"UNDERSAMPLED SVM-rbf F1 Score = \",UNDERRBFsvm_F1)"
   ]
  },
  {
   "cell_type": "code",
   "execution_count": 76,
   "metadata": {
    "hidden": true
   },
   "outputs": [
    {
     "name": "stdout",
     "output_type": "stream",
     "text": [
      "SMOTE upsampled SVM-rbf Jaccard =  0.33222060957910016\n",
      "SMOTE upsampled SVM-rbf F1 Score =  0.6144225518773571\n"
     ]
    }
   ],
   "source": [
    "# SVM using RBF kernel on SMOTE upsampled train set\n",
    "SMOTErbf_clf = svm.SVC(kernel='rbf')\n",
    "SMOTErbf_clf.fit(X_train_res, y_train_res)\n",
    "SMOTErbf_svm = SMOTErbf_clf.predict(X_test)\n",
    "# Store Metrics\n",
    "SMOTERBFsvm_Jaccard = jaccard_score(y_test, SMOTErbf_svm)\n",
    "SMOTERBFsvm_F1 = f1_score(y_test, SMOTErbf_svm, average='weighted')\n",
    "# Print Metrics\n",
    "print( \"SMOTE upsampled SVM-rbf Jaccard = \", SMOTERBFsvm_Jaccard)\n",
    "print( \"SMOTE upsampled SVM-rbf F1 Score = \",SMOTERBFsvm_F1)"
   ]
  },
  {
   "cell_type": "code",
   "execution_count": 77,
   "metadata": {
    "hidden": true
   },
   "outputs": [
    {
     "data": {
      "text/html": [
       "<div>\n",
       "<style scoped>\n",
       "    .dataframe tbody tr th:only-of-type {\n",
       "        vertical-align: middle;\n",
       "    }\n",
       "\n",
       "    .dataframe tbody tr th {\n",
       "        vertical-align: top;\n",
       "    }\n",
       "\n",
       "    .dataframe thead th {\n",
       "        text-align: right;\n",
       "    }\n",
       "</style>\n",
       "<table border=\"1\" class=\"dataframe\">\n",
       "  <thead>\n",
       "    <tr style=\"text-align: right;\">\n",
       "      <th>Scores by Sample</th>\n",
       "      <th>Jaccard Score</th>\n",
       "      <th>F1 Score</th>\n",
       "    </tr>\n",
       "  </thead>\n",
       "  <tbody>\n",
       "    <tr>\n",
       "      <th>Original / Imbalanced</th>\n",
       "      <td>0.098366</td>\n",
       "      <td>0.594983</td>\n",
       "    </tr>\n",
       "    <tr>\n",
       "      <th>Oversampled</th>\n",
       "      <td>0.334384</td>\n",
       "      <td>0.610955</td>\n",
       "    </tr>\n",
       "    <tr>\n",
       "      <th>Undersampled</th>\n",
       "      <td>0.327735</td>\n",
       "      <td>0.624016</td>\n",
       "    </tr>\n",
       "    <tr>\n",
       "      <th>SMOTE</th>\n",
       "      <td>0.332221</td>\n",
       "      <td>0.614423</td>\n",
       "    </tr>\n",
       "  </tbody>\n",
       "</table>\n",
       "</div>"
      ],
      "text/plain": [
       "Scores by Sample       Jaccard Score  F1 Score\n",
       "Original / Imbalanced       0.098366  0.594983\n",
       "Oversampled                 0.334384  0.610955\n",
       "Undersampled                0.327735  0.624016\n",
       "SMOTE                       0.332221  0.614423"
      ]
     },
     "execution_count": 77,
     "metadata": {},
     "output_type": "execute_result"
    }
   ],
   "source": [
    "#Create a list of results then insert into df\n",
    "list_SVMjac = [OrigRBFsvm_Jaccard, OVERRBFsvm_Jaccard, UNDERRBFsvm_Jaccard, SMOTERBFsvm_Jaccard]\n",
    "list_SVMf1 = [OrigRBFsvm_F1, OVERRBFsvm_F1, UNDERRBFsvm_F1, SMOTERBFsvm_F1]\n",
    "\n",
    "#Insert into df\n",
    "SVMresdf = pd.DataFrame(list_SVMjac, index=['Original / Imbalanced','Oversampled','Undersampled','SMOTE'])\n",
    "SVMresdf.columns = ['Jaccard Score']\n",
    "SVMresdf.insert(loc=1, column='F1 Score', value=list_SVMf1)\n",
    "\n",
    "SVMresdf.columns.name = 'Scores by Sample'\n",
    "SVMresdf"
   ]
  },
  {
   "cell_type": "code",
   "execution_count": 78,
   "metadata": {
    "hidden": true
   },
   "outputs": [],
   "source": [
    "# SVM with Undersampling performs best on F1 Score (0.6229)"
   ]
  },
  {
   "cell_type": "markdown",
   "metadata": {
    "heading_collapsed": true,
    "hidden": true
   },
   "source": [
    "### **4.4.3 Decision Tree**"
   ]
  },
  {
   "cell_type": "code",
   "execution_count": 79,
   "metadata": {
    "hidden": true
   },
   "outputs": [],
   "source": [
    "# Identify optimal Sample Balancing Strategy by comparing F1 Scores for each of the 4 training sets "
   ]
  },
  {
   "cell_type": "code",
   "execution_count": 80,
   "metadata": {
    "hidden": true
   },
   "outputs": [
    {
     "name": "stdout",
     "output_type": "stream",
     "text": [
      "Original DecTree Jaccard =  0.09614748677248677\n",
      "Original DecTree F1 Score =  0.5937743057968439\n",
      "Original Decision Tree Accuracy:  0.6866527184660801\n"
     ]
    }
   ],
   "source": [
    "# Decision Tree (Scikit-learn) - all variables - ORIGINAL (unbalanced) train set\n",
    "OrigTree = DecisionTreeClassifier(criterion=\"entropy\", max_depth = 8)\n",
    "OrigTree.fit(X_train,y_train)\n",
    "OrigpredTree = OrigTree.predict(X_test)\n",
    "# Store Metrics\n",
    "OrigTree_Jaccard = jaccard_score(y_test, OrigpredTree)\n",
    "OrigTree_F1 = f1_score(y_test, OrigpredTree, average='weighted')\n",
    "OrigTree_Accuracy = metrics.accuracy_score(y_test, OrigpredTree)\n",
    "# Print Metrics\n",
    "print( \"Original DecTree Jaccard = \", OrigTree_Jaccard)\n",
    "print( \"Original DecTree F1 Score = \",OrigTree_F1)\n",
    "print(\"Original Decision Tree Accuracy: \", OrigTree_Accuracy)"
   ]
  },
  {
   "cell_type": "code",
   "execution_count": 81,
   "metadata": {
    "hidden": true
   },
   "outputs": [
    {
     "name": "stdout",
     "output_type": "stream",
     "text": [
      "Oversampled DecTree Jaccard =  0.3449580598103574\n",
      "Oversampled DecTree F1 Score =  0.5993312497865599\n",
      "Oversampled Decision Tree Accuracy:  0.5881746008999456\n"
     ]
    }
   ],
   "source": [
    "# Decision Tree (Scikit-learn) - all variables - OVERSAMPLED train set\n",
    "OVERTree = DecisionTreeClassifier(criterion=\"entropy\", max_depth = 8)\n",
    "OVERTree.fit(X_train_over,y_train_over)\n",
    "OVERpredTree = OVERTree.predict(X_test)\n",
    "# Store Metrics\n",
    "OVERTree_Jaccard = jaccard_score(y_test, OVERpredTree)\n",
    "OVERTree_F1 = f1_score(y_test, OVERpredTree, average='weighted')\n",
    "OVERTree_Accuracy = metrics.accuracy_score(y_test, OVERpredTree)\n",
    "# Print Metrics\n",
    "print( \"Oversampled DecTree Jaccard = \", OVERTree_Jaccard)\n",
    "print( \"Oversampled DecTree F1 Score = \",OVERTree_F1)\n",
    "print(\"Oversampled Decision Tree Accuracy: \", OVERTree_Accuracy)"
   ]
  },
  {
   "cell_type": "code",
   "execution_count": 82,
   "metadata": {
    "hidden": true
   },
   "outputs": [
    {
     "name": "stdout",
     "output_type": "stream",
     "text": [
      "Undersampled DecTree Jaccard =  0.3347846889952153\n",
      "Undersampled DecTree F1 Score =  0.6119509374144746\n",
      "Undersampled Decision Tree Accuracy:  0.6015304806397065\n"
     ]
    }
   ],
   "source": [
    "# Decision Tree (Scikit-learn) - all variables - UNDERSAMPLED train set\n",
    "UNDERTree = DecisionTreeClassifier(criterion=\"entropy\", max_depth = 8)\n",
    "UNDERTree.fit(X_train_under,y_train_under)\n",
    "UNDERpredTree = UNDERTree.predict(X_test)\n",
    "# Store Metrics\n",
    "UNDERTree_Jaccard = jaccard_score(y_test, UNDERpredTree)\n",
    "UNDERTree_F1 = f1_score(y_test, UNDERpredTree, average='weighted')\n",
    "UNDERTree_Accuracy = metrics.accuracy_score(y_test, UNDERpredTree)\n",
    "# Print Metrics\n",
    "print( \"Undersampled DecTree Jaccard = \", UNDERTree_Jaccard)\n",
    "print( \"Undersampled DecTree F1 Score = \",UNDERTree_F1)\n",
    "print(\"Undersampled Decision Tree Accuracy: \", UNDERTree_Accuracy)"
   ]
  },
  {
   "cell_type": "code",
   "execution_count": 83,
   "metadata": {
    "hidden": true
   },
   "outputs": [
    {
     "name": "stdout",
     "output_type": "stream",
     "text": [
      "SMOTE Oversampled DecTree Jaccard =  0.33001749562609345\n",
      "SMOTE Oversampled DecTree F1 Score =  0.6243900595657497\n",
      "SMOTE Oversampled Decision Tree Accuracy:  0.6158608237081196\n"
     ]
    }
   ],
   "source": [
    "# Decision Tree (Scikit-learn) - all variables - SMOTE train set\n",
    "SMOTETree = DecisionTreeClassifier(criterion=\"entropy\", max_depth = 8)\n",
    "SMOTETree.fit(X_train_res,y_train_res)\n",
    "SMOTEpredTree = SMOTETree.predict(X_test)\n",
    "# Store Metrics\n",
    "SMOTETree_Jaccard = jaccard_score(y_test, SMOTEpredTree)\n",
    "SMOTETree_F1 = f1_score(y_test, SMOTEpredTree, average='weighted')\n",
    "SMOTETree_Accuracy = metrics.accuracy_score(y_test, SMOTEpredTree)\n",
    "# Print Metrics\n",
    "print( \"SMOTE Oversampled DecTree Jaccard = \", SMOTETree_Jaccard)\n",
    "print( \"SMOTE Oversampled DecTree F1 Score = \",SMOTETree_F1)\n",
    "print(\"SMOTE Oversampled Decision Tree Accuracy: \", SMOTETree_Accuracy)"
   ]
  },
  {
   "cell_type": "code",
   "execution_count": 90,
   "metadata": {
    "hidden": true
   },
   "outputs": [
    {
     "data": {
      "text/html": [
       "<div>\n",
       "<style scoped>\n",
       "    .dataframe tbody tr th:only-of-type {\n",
       "        vertical-align: middle;\n",
       "    }\n",
       "\n",
       "    .dataframe tbody tr th {\n",
       "        vertical-align: top;\n",
       "    }\n",
       "\n",
       "    .dataframe thead th {\n",
       "        text-align: right;\n",
       "    }\n",
       "</style>\n",
       "<table border=\"1\" class=\"dataframe\">\n",
       "  <thead>\n",
       "    <tr style=\"text-align: right;\">\n",
       "      <th>Scores by Sample</th>\n",
       "      <th>Jaccard Score</th>\n",
       "      <th>F1 Score</th>\n",
       "      <th>Accuracy Score</th>\n",
       "    </tr>\n",
       "  </thead>\n",
       "  <tbody>\n",
       "    <tr>\n",
       "      <th>Original / Imbalanced</th>\n",
       "      <td>0.096147</td>\n",
       "      <td>0.593774</td>\n",
       "      <td>0.686653</td>\n",
       "    </tr>\n",
       "    <tr>\n",
       "      <th>Oversampled</th>\n",
       "      <td>0.344958</td>\n",
       "      <td>0.599331</td>\n",
       "      <td>0.588175</td>\n",
       "    </tr>\n",
       "    <tr>\n",
       "      <th>Undersampled</th>\n",
       "      <td>0.334785</td>\n",
       "      <td>0.599331</td>\n",
       "      <td>0.601530</td>\n",
       "    </tr>\n",
       "    <tr>\n",
       "      <th>SMOTE</th>\n",
       "      <td>0.330017</td>\n",
       "      <td>0.624390</td>\n",
       "      <td>0.615861</td>\n",
       "    </tr>\n",
       "  </tbody>\n",
       "</table>\n",
       "</div>"
      ],
      "text/plain": [
       "Scores by Sample       Jaccard Score  F1 Score  Accuracy Score\n",
       "Original / Imbalanced       0.096147  0.593774        0.686653\n",
       "Oversampled                 0.344958  0.599331        0.588175\n",
       "Undersampled                0.334785  0.599331        0.601530\n",
       "SMOTE                       0.330017  0.624390        0.615861"
      ]
     },
     "execution_count": 90,
     "metadata": {},
     "output_type": "execute_result"
    }
   ],
   "source": [
    "#Create a list of results then insert into df\n",
    "list_Treejac = [OrigTree_Jaccard, OVERTree_Jaccard, UNDERTree_Jaccard, SMOTETree_Jaccard]\n",
    "list_Treef1 = [OrigTree_F1, OVERTree_F1, OVERTree_F1, SMOTETree_F1]\n",
    "list_Tree_Accuracy = [OrigTree_Accuracy, OVERTree_Accuracy, UNDERTree_Accuracy, SMOTETree_Accuracy]\n",
    "\n",
    "#Insert into df\n",
    "TREEresdf = pd.DataFrame(list_Treejac, index=['Original / Imbalanced','Oversampled','Undersampled','SMOTE'])\n",
    "TREEresdf.columns = ['Jaccard Score']\n",
    "TREEresdf.insert(loc=1, column='F1 Score', value=list_Treef1)\n",
    "TREEresdf.insert(loc=2, column='Accuracy Score', value=list_Tree_Accuracy)\n",
    "\n",
    "TREEresdf.columns.name = 'Scores by Sample'\n",
    "TREEresdf"
   ]
  },
  {
   "cell_type": "code",
   "execution_count": 91,
   "metadata": {
    "hidden": true
   },
   "outputs": [],
   "source": [
    "# Decision Tree with SMOTE synthetic upsampling performs best on F1 Score (0.624390)"
   ]
  },
  {
   "cell_type": "markdown",
   "metadata": {
    "heading_collapsed": true,
    "hidden": true
   },
   "source": [
    "### **4.4.4 Logistic regression**"
   ]
  },
  {
   "cell_type": "code",
   "execution_count": 92,
   "metadata": {
    "hidden": true
   },
   "outputs": [],
   "source": [
    "# Identify optimal Sample Balancing Strategy by comparing F1 Scores for each of the 4 training sets "
   ]
  },
  {
   "cell_type": "code",
   "execution_count": 93,
   "metadata": {
    "hidden": true
   },
   "outputs": [
    {
     "name": "stdout",
     "output_type": "stream",
     "text": [
      "Original LR Jaccard =  0.10289178340296551\n",
      "Original LR F1 Score =  0.5968599473389387\n",
      "Original LR LogLoss =  0.6035826133276433\n"
     ]
    }
   ],
   "source": [
    "#Logistic regression (Scikit-learn) - all variables - ORIGINAL (unbalanced) train set\n",
    "LR = LogisticRegression(C=0.01, solver='lbfgs').fit(X_train,y_train)\n",
    "yhat = LR.predict(X_test)\n",
    "yhat_prob = LR.predict_proba(X_test)\n",
    "# Store metrics\n",
    "OrigLR_Jaccard = jaccard_score(y_test, yhat)\n",
    "OrigLR_F1 = f1_score(y_test, yhat, average='weighted')\n",
    "OrigLR_LogLoss = log_loss (y_test, yhat_prob)\n",
    "# Print Metrics\n",
    "print( \"Original LR Jaccard = \", OrigLR_Jaccard)\n",
    "print( \"Original LR F1 Score = \", OrigLR_F1)\n",
    "print( \"Original LR LogLoss = \", OrigLR_LogLoss)"
   ]
  },
  {
   "cell_type": "code",
   "execution_count": 94,
   "metadata": {
    "hidden": true
   },
   "outputs": [
    {
     "name": "stdout",
     "output_type": "stream",
     "text": [
      "OverSampled LR Jaccard =  0.3269802853829476\n",
      "OverSampled LR F1 Score =  0.6254365581279845\n",
      "OverSampled LR LogLoss =  0.653891911670521\n"
     ]
    }
   ],
   "source": [
    "# Logistic regression (Scikit-learn) - all variables - OVERSAMPLED train set\n",
    "OVERLR = LogisticRegression(C=0.01, solver='lbfgs').fit(X_train_over,y_train_over)\n",
    "OVERyhat = OVERLR.predict(X_test)\n",
    "OVERyhat_prob = OVERLR.predict_proba(X_test)\n",
    "# Store metrics\n",
    "OVERLR_Jaccard = jaccard_score(y_test, OVERyhat)\n",
    "OVERLR_F1 = f1_score(y_test, OVERyhat, average='weighted')\n",
    "OVERLR_LogLoss = log_loss (y_test, OVERyhat_prob)\n",
    "# Print Metrics\n",
    "print( \"OverSampled LR Jaccard = \", OVERLR_Jaccard)\n",
    "print( \"OverSampled LR F1 Score = \", OVERLR_F1)\n",
    "print( \"OverSampled LR LogLoss = \", OVERLR_LogLoss)"
   ]
  },
  {
   "cell_type": "code",
   "execution_count": 95,
   "metadata": {
    "hidden": true
   },
   "outputs": [
    {
     "name": "stdout",
     "output_type": "stream",
     "text": [
      "UnderSampled LR Jaccard =  0.32591237165802583\n",
      "UnderSampled LR F1 Score =  0.6274126098799897\n",
      "UnderSampled LR LogLoss =  0.65448523251628\n"
     ]
    }
   ],
   "source": [
    "# Logistic regression (Scikit-learn) - all variables - UNDERSAMPLED train set\n",
    "UNDERLR = LogisticRegression(C=0.01, solver='lbfgs').fit(X_train_under,y_train_under)\n",
    "UNDERyhat = UNDERLR.predict(X_test)\n",
    "UNDERyhat_prob = UNDERLR.predict_proba(X_test)\n",
    "# Store metrics\n",
    "UNDERLR_Jaccard = jaccard_score(y_test, UNDERyhat)\n",
    "UNDERLR_F1 = f1_score(y_test, UNDERyhat, average='weighted')\n",
    "UNDERLR_LogLoss = log_loss (y_test, UNDERyhat_prob)\n",
    "# Print Metrics\n",
    "print( \"UnderSampled LR Jaccard = \", UNDERLR_Jaccard)\n",
    "print( \"UnderSampled LR F1 Score = \", UNDERLR_F1)\n",
    "print( \"UnderSampled LR LogLoss = \", UNDERLR_LogLoss)"
   ]
  },
  {
   "cell_type": "code",
   "execution_count": 96,
   "metadata": {
    "hidden": true
   },
   "outputs": [
    {
     "name": "stdout",
     "output_type": "stream",
     "text": [
      "SMOTE LR Jaccard =  0.32538590860461564\n",
      "SMOTE LR F1 Score =  0.6278352570535545\n",
      "SMOTE LR LogLoss =  0.6540208343696389\n"
     ]
    }
   ],
   "source": [
    "# Logistic regression (Scikit-learn) - all variables - SMOTE train set\n",
    "SMOTELR = LogisticRegression(C=0.01, solver='lbfgs').fit(X_train_res, y_train_res)\n",
    "SMOTEyhat = SMOTELR.predict(X_test)\n",
    "SMOTEyhat_prob = SMOTELR.predict_proba(X_test)\n",
    "# Store metrics\n",
    "SMOTELR_Jaccard = jaccard_score(y_test, SMOTEyhat)\n",
    "SMOTELR_F1 = f1_score(y_test, SMOTEyhat, average='weighted')\n",
    "SMOTELR_LogLoss = log_loss (y_test, SMOTEyhat_prob)\n",
    "# Print Metrics\n",
    "print( \"SMOTE LR Jaccard = \", SMOTELR_Jaccard)\n",
    "print( \"SMOTE LR F1 Score = \", SMOTELR_F1)\n",
    "print( \"SMOTE LR LogLoss = \", SMOTELR_LogLoss)"
   ]
  },
  {
   "cell_type": "code",
   "execution_count": 99,
   "metadata": {
    "hidden": true
   },
   "outputs": [
    {
     "data": {
      "text/html": [
       "<div>\n",
       "<style scoped>\n",
       "    .dataframe tbody tr th:only-of-type {\n",
       "        vertical-align: middle;\n",
       "    }\n",
       "\n",
       "    .dataframe tbody tr th {\n",
       "        vertical-align: top;\n",
       "    }\n",
       "\n",
       "    .dataframe thead th {\n",
       "        text-align: right;\n",
       "    }\n",
       "</style>\n",
       "<table border=\"1\" class=\"dataframe\">\n",
       "  <thead>\n",
       "    <tr style=\"text-align: right;\">\n",
       "      <th>Scores by Sample</th>\n",
       "      <th>Jaccard Score</th>\n",
       "      <th>F1 Score</th>\n",
       "      <th>LogLoss Score</th>\n",
       "    </tr>\n",
       "  </thead>\n",
       "  <tbody>\n",
       "    <tr>\n",
       "      <th>Original / Imbalanced</th>\n",
       "      <td>0.102892</td>\n",
       "      <td>0.596860</td>\n",
       "      <td>0.603583</td>\n",
       "    </tr>\n",
       "    <tr>\n",
       "      <th>Oversampled</th>\n",
       "      <td>0.326980</td>\n",
       "      <td>0.625437</td>\n",
       "      <td>0.653892</td>\n",
       "    </tr>\n",
       "    <tr>\n",
       "      <th>Undersampled</th>\n",
       "      <td>0.325912</td>\n",
       "      <td>0.627413</td>\n",
       "      <td>0.654485</td>\n",
       "    </tr>\n",
       "    <tr>\n",
       "      <th>SMOTE</th>\n",
       "      <td>0.325386</td>\n",
       "      <td>0.627835</td>\n",
       "      <td>0.654021</td>\n",
       "    </tr>\n",
       "  </tbody>\n",
       "</table>\n",
       "</div>"
      ],
      "text/plain": [
       "Scores by Sample       Jaccard Score  F1 Score  LogLoss Score\n",
       "Original / Imbalanced       0.102892  0.596860       0.603583\n",
       "Oversampled                 0.326980  0.625437       0.653892\n",
       "Undersampled                0.325912  0.627413       0.654485\n",
       "SMOTE                       0.325386  0.627835       0.654021"
      ]
     },
     "execution_count": 99,
     "metadata": {},
     "output_type": "execute_result"
    }
   ],
   "source": [
    "#Create a list of results then insert into df\n",
    "list_LRjac = [OrigLR_Jaccard, OVERLR_Jaccard, UNDERLR_Jaccard, SMOTELR_Jaccard]\n",
    "list_LRf1 = [OrigLR_F1, OVERLR_F1, UNDERLR_F1, SMOTELR_F1]\n",
    "list_LRlogloss = [OrigLR_LogLoss, OVERLR_LogLoss, UNDERLR_LogLoss, SMOTELR_LogLoss]\n",
    "\n",
    "#Insert into df\n",
    "LRresdf = pd.DataFrame(list_LRjac, index=['Original / Imbalanced','Oversampled','Undersampled','SMOTE'])\n",
    "LRresdf.columns = ['Jaccard Score']\n",
    "LRresdf.insert(loc=1, column='F1 Score', value=list_LRf1)\n",
    "LRresdf.insert(loc=2, column='LogLoss Score', value=list_LRlogloss)\n",
    "\n",
    "LRresdf.columns.name = 'Scores by Sample'\n",
    "LRresdf"
   ]
  },
  {
   "cell_type": "code",
   "execution_count": 100,
   "metadata": {
    "hidden": true
   },
   "outputs": [],
   "source": [
    "# Logistic regression with SMOTE synthetic upsampling performs best on F1 Score (0.627835)"
   ]
  },
  {
   "cell_type": "markdown",
   "metadata": {
    "heading_collapsed": true
   },
   "source": [
    "# **5 Results**"
   ]
  },
  {
   "cell_type": "code",
   "execution_count": 101,
   "metadata": {
    "hidden": true
   },
   "outputs": [
    {
     "data": {
      "text/html": [
       "<div>\n",
       "<style scoped>\n",
       "    .dataframe tbody tr th:only-of-type {\n",
       "        vertical-align: middle;\n",
       "    }\n",
       "\n",
       "    .dataframe tbody tr th {\n",
       "        vertical-align: top;\n",
       "    }\n",
       "\n",
       "    .dataframe thead th {\n",
       "        text-align: right;\n",
       "    }\n",
       "</style>\n",
       "<table border=\"1\" class=\"dataframe\">\n",
       "  <thead>\n",
       "    <tr style=\"text-align: right;\">\n",
       "      <th>F1 Scores by Sample &amp; Algorithm</th>\n",
       "      <th>Original Imbalanced</th>\n",
       "      <th>Oversampled</th>\n",
       "      <th>Undersampled</th>\n",
       "      <th>SMOTE upsampled</th>\n",
       "    </tr>\n",
       "  </thead>\n",
       "  <tbody>\n",
       "    <tr>\n",
       "      <th>KNN</th>\n",
       "      <td>0.622836</td>\n",
       "      <td>0.609429</td>\n",
       "      <td>0.575888</td>\n",
       "      <td>0.614389</td>\n",
       "    </tr>\n",
       "    <tr>\n",
       "      <th>SVM</th>\n",
       "      <td>0.594983</td>\n",
       "      <td>0.610955</td>\n",
       "      <td>0.624016</td>\n",
       "      <td>0.614423</td>\n",
       "    </tr>\n",
       "    <tr>\n",
       "      <th>Decision Tree</th>\n",
       "      <td>0.593774</td>\n",
       "      <td>0.599331</td>\n",
       "      <td>0.611951</td>\n",
       "      <td>0.624390</td>\n",
       "    </tr>\n",
       "    <tr>\n",
       "      <th>LogisticRegression</th>\n",
       "      <td>0.596860</td>\n",
       "      <td>0.625437</td>\n",
       "      <td>0.627413</td>\n",
       "      <td>0.627835</td>\n",
       "    </tr>\n",
       "  </tbody>\n",
       "</table>\n",
       "</div>"
      ],
      "text/plain": [
       "F1 Scores by Sample & Algorithm  Original Imbalanced  Oversampled  \\\n",
       "KNN                                         0.622836     0.609429   \n",
       "SVM                                         0.594983     0.610955   \n",
       "Decision Tree                               0.593774     0.599331   \n",
       "LogisticRegression                          0.596860     0.625437   \n",
       "\n",
       "F1 Scores by Sample & Algorithm  Undersampled  SMOTE upsampled  \n",
       "KNN                                  0.575888         0.614389  \n",
       "SVM                                  0.624016         0.614423  \n",
       "Decision Tree                        0.611951         0.624390  \n",
       "LogisticRegression                   0.627413         0.627835  "
      ]
     },
     "execution_count": 101,
     "metadata": {},
     "output_type": "execute_result"
    }
   ],
   "source": [
    "#Create a list of results then insert into df\n",
    "list_Imbalanced = [OrigKNN_F1, OrigRBFsvm_F1, OrigTree_F1, OrigLR_F1]\n",
    "list_Oversampled = [OverKNN_F1, OVERRBFsvm_F1, OVERTree_F1, OVERLR_F1]\n",
    "list_Undersampled = [UnderKNN_F1, UNDERRBFsvm_F1, UNDERTree_F1, UNDERLR_F1]\n",
    "list_SMOTE = [SMOTEKNN_F1, SMOTERBFsvm_F1, SMOTETree_F1, SMOTELR_F1]\n",
    "\n",
    "#Insert into df\n",
    "resultsdf = pd.DataFrame(list_Imbalanced, index=['KNN','SVM','Decision Tree','LogisticRegression'])\n",
    "resultsdf.columns = ['Original Imbalanced']\n",
    "resultsdf.insert(loc=1, column='Oversampled', value=list_Oversampled)\n",
    "resultsdf.insert(loc=2, column='Undersampled', value=list_Undersampled)\n",
    "resultsdf.insert(loc=3, column='SMOTE upsampled', value=list_SMOTE)\n",
    "\n",
    "resultsdf.columns.name = 'F1 Scores by Sample & Algorithm'\n",
    "resultsdf"
   ]
  },
  {
   "cell_type": "code",
   "execution_count": 106,
   "metadata": {
    "hidden": true
   },
   "outputs": [
    {
     "name": "stdout",
     "output_type": "stream",
     "text": [
      "              precision    recall  f1-score   support\n",
      "\n",
      "           0       0.74      0.66      0.70     23127\n",
      "           1       0.45      0.54      0.49     11764\n",
      "\n",
      "    accuracy                           0.62     34891\n",
      "   macro avg       0.59      0.60      0.59     34891\n",
      "weighted avg       0.64      0.62      0.63     34891\n",
      "\n"
     ]
    }
   ],
   "source": [
    "print (classification_report(y_test, SMOTEyhat))"
   ]
  },
  {
   "cell_type": "code",
   "execution_count": 107,
   "metadata": {
    "hidden": true
   },
   "outputs": [
    {
     "name": "stdout",
     "output_type": "stream",
     "text": [
      "[[ 6387  5377]\n",
      " [ 7865 15262]]\n",
      "Confusion matrix, without normalization\n",
      "[[ 6387  5377]\n",
      " [ 7865 15262]]\n"
     ]
    },
    {
     "data": {
      "image/png": "[encoded data removed]",
      "text/plain": [
       "<Figure size 432x288 with 2 Axes>"
      ]
     },
     "metadata": {},
     "output_type": "display_data"
    }
   ],
   "source": [
    "def plot_confusion_matrix(cm, classes,\n",
    "                          normalize=False,\n",
    "                          title='Confusion Matrix using results from Logistic Regression based on SMOTE Sample',\n",
    "                          cmap=plt.cm.Blues):\n",
    "    \"\"\"\n",
    "    This function prints and plots the confusion matrix.\n",
    "    Normalization can be applied by setting `normalize=True`.\n",
    "    \"\"\"\n",
    "    if normalize:\n",
    "        cm = cm.astype('float') / cm.sum(axis=1)[:, np.newaxis]\n",
    "        print(\"Normalized confusion matrix\")\n",
    "    else:\n",
    "        print('Confusion matrix, without normalization')\n",
    "\n",
    "    print(cm)\n",
    "\n",
    "    plt.imshow(cm, interpolation='nearest', cmap=cmap)\n",
    "    plt.title(title)\n",
    "    plt.colorbar()\n",
    "    tick_marks = np.arange(len(classes))\n",
    "    plt.xticks(tick_marks, classes, rotation=45)\n",
    "    plt.yticks(tick_marks, classes)\n",
    "\n",
    "    fmt = '.2f' if normalize else 'd'\n",
    "    thresh = cm.max() / 2.\n",
    "    for i, j in itertools.product(range(cm.shape[0]), range(cm.shape[1])):\n",
    "        plt.text(j, i, format(cm[i, j], fmt),\n",
    "                 horizontalalignment=\"center\",\n",
    "                 color=\"white\" if cm[i, j] > thresh else \"black\")\n",
    "\n",
    "    plt.tight_layout()\n",
    "    plt.ylabel('True label')\n",
    "    plt.xlabel('Predicted label')\n",
    "print(confusion_matrix(y_test, SMOTEyhat, labels=[1,0]))\n",
    " \n",
    "# Compute confusion matrix\n",
    "cnf_matrix = confusion_matrix(y_test, SMOTEyhat, labels=[1,0])\n",
    "np.set_printoptions(precision=2)\n",
    "\n",
    "# Plot non-normalized confusion matrix\n",
    "plt.figure()\n",
    "plot_confusion_matrix(cnf_matrix, classes=['Injury / Fatality','Prop damage only'],normalize= False,  title='Confusion Matrix using results from Logistic Regression based on SMOTE Sample')\n"
   ]
  },
  {
   "cell_type": "code",
   "execution_count": 110,
   "metadata": {
    "hidden": true
   },
   "outputs": [
    {
     "data": {
      "text/html": [
       "<div>\n",
       "<style scoped>\n",
       "    .dataframe tbody tr th:only-of-type {\n",
       "        vertical-align: middle;\n",
       "    }\n",
       "\n",
       "    .dataframe tbody tr th {\n",
       "        vertical-align: top;\n",
       "    }\n",
       "\n",
       "    .dataframe thead th {\n",
       "        text-align: right;\n",
       "    }\n",
       "</style>\n",
       "<table border=\"1\" class=\"dataframe\">\n",
       "  <thead>\n",
       "    <tr style=\"text-align: right;\">\n",
       "      <th>Logistic Regression Coefficients</th>\n",
       "      <th>Coefficients</th>\n",
       "    </tr>\n",
       "  </thead>\n",
       "  <tbody>\n",
       "    <tr>\n",
       "      <th>INATTENTIONIND</th>\n",
       "      <td>0.302761</td>\n",
       "    </tr>\n",
       "    <tr>\n",
       "      <th>UNDERINFL</th>\n",
       "      <td>0.528675</td>\n",
       "    </tr>\n",
       "    <tr>\n",
       "      <th>PEDROWNOTGRNT</th>\n",
       "      <td>2.313794</td>\n",
       "    </tr>\n",
       "    <tr>\n",
       "      <th>SPEEDING</th>\n",
       "      <td>0.475095</td>\n",
       "    </tr>\n",
       "    <tr>\n",
       "      <th>Weekend</th>\n",
       "      <td>-0.046417</td>\n",
       "    </tr>\n",
       "    <tr>\n",
       "      <th>Road-Dry</th>\n",
       "      <td>-0.034198</td>\n",
       "    </tr>\n",
       "    <tr>\n",
       "      <th>Road-Other</th>\n",
       "      <td>0.026697</td>\n",
       "    </tr>\n",
       "    <tr>\n",
       "      <th>Road-Wet</th>\n",
       "      <td>-0.077155</td>\n",
       "    </tr>\n",
       "    <tr>\n",
       "      <th>Weather-Clear</th>\n",
       "      <td>0.071903</td>\n",
       "    </tr>\n",
       "    <tr>\n",
       "      <th>Weather-Other</th>\n",
       "      <td>0.061080</td>\n",
       "    </tr>\n",
       "    <tr>\n",
       "      <th>Weather-Overcast</th>\n",
       "      <td>0.063506</td>\n",
       "    </tr>\n",
       "    <tr>\n",
       "      <th>Weather-Raining</th>\n",
       "      <td>0.130155</td>\n",
       "    </tr>\n",
       "    <tr>\n",
       "      <th>Weather-Snowing</th>\n",
       "      <td>-0.359714</td>\n",
       "    </tr>\n",
       "    <tr>\n",
       "      <th>LightCond-Daylight</th>\n",
       "      <td>0.085672</td>\n",
       "    </tr>\n",
       "    <tr>\n",
       "      <th>LightCond-Night</th>\n",
       "      <td>-0.083577</td>\n",
       "    </tr>\n",
       "    <tr>\n",
       "      <th>ADDR-Alley</th>\n",
       "      <td>-0.560803</td>\n",
       "    </tr>\n",
       "    <tr>\n",
       "      <th>ADDR-Block</th>\n",
       "      <td>-0.125890</td>\n",
       "    </tr>\n",
       "    <tr>\n",
       "      <th>ADDR-Intersection</th>\n",
       "      <td>0.602323</td>\n",
       "    </tr>\n",
       "  </tbody>\n",
       "</table>\n",
       "</div>"
      ],
      "text/plain": [
       "Logistic Regression Coefficients  Coefficients\n",
       "INATTENTIONIND                        0.302761\n",
       "UNDERINFL                             0.528675\n",
       "PEDROWNOTGRNT                         2.313794\n",
       "SPEEDING                              0.475095\n",
       "Weekend                              -0.046417\n",
       "Road-Dry                             -0.034198\n",
       "Road-Other                            0.026697\n",
       "Road-Wet                             -0.077155\n",
       "Weather-Clear                         0.071903\n",
       "Weather-Other                         0.061080\n",
       "Weather-Overcast                      0.063506\n",
       "Weather-Raining                       0.130155\n",
       "Weather-Snowing                      -0.359714\n",
       "LightCond-Daylight                    0.085672\n",
       "LightCond-Night                      -0.083577\n",
       "ADDR-Alley                           -0.560803\n",
       "ADDR-Block                           -0.125890\n",
       "ADDR-Intersection                     0.602323"
      ]
     },
     "execution_count": 110,
     "metadata": {},
     "output_type": "execute_result"
    }
   ],
   "source": [
    "# print coefficients for SMOTE LogReg\n",
    "coef = SMOTELR.coef_[0]\n",
    "#Insert into df\n",
    "coef_df = pd.DataFrame(coef, index=['INATTENTIONIND', 'UNDERINFL', 'PEDROWNOTGRNT',\n",
    "       'SPEEDING', 'Weekend', 'Road-Dry', 'Road-Other', 'Road-Wet',\n",
    "       'Weather-Clear', 'Weather-Other', 'Weather-Overcast', 'Weather-Raining',\n",
    "       'Weather-Snowing', 'LightCond-Daylight', 'LightCond-Night',\n",
    "       'ADDR-Alley', 'ADDR-Block', 'ADDR-Intersection'])\n",
    "coef_df.columns = ['Coefficients']\n",
    "coef_df.columns.name = 'Logistic Regression Coefficients'\n",
    "coef_df"
   ]
  },
  {
   "cell_type": "markdown",
   "metadata": {
    "hidden": true
   },
   "source": []
  }
 ],
 "metadata": {
  "kernelspec": {
   "display_name": "Python 3",
   "language": "python",
   "name": "python3"
  },
  "language_info": {
   "codemirror_mode": {
    "name": "ipython",
    "version": 3
   },
   "file_extension": ".py",
   "mimetype": "text/x-python",
   "name": "python",
   "nbconvert_exporter": "python",
   "pygments_lexer": "ipython3",
   "version": "3.8.3"
  },
  "toc": {
   "base_numbering": 1,
   "nav_menu": {},
   "number_sections": true,
   "sideBar": true,
   "skip_h1_title": false,
   "title_cell": "Table of Contents",
   "title_sidebar": "Contents",
   "toc_cell": false,
   "toc_position": {
    "height": "calc(100% - 180px)",
    "left": "10px",
    "top": "150px",
    "width": "373px"
   },
   "toc_section_display": true,
   "toc_window_display": true
  }
 },
 "nbformat": 4,
 "nbformat_minor": 4
}
